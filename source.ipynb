{
 "cells": [
  {
   "attachments": {},
   "cell_type": "markdown",
   "metadata": {},
   "source": [
    "# {Project Title}📝\n",
    "\n",
    "![Banner](./assets/banner.jpeg)"
   ]
  },
  {
   "attachments": {},
   "cell_type": "markdown",
   "metadata": {},
   "source": [
    "## Topic\n",
    "*What problem are you (or your stakeholder) trying to address?*\n",
    "📝 <!-- Answer Below -->"
   ]
  },
  {
   "attachments": {},
   "cell_type": "markdown",
   "metadata": {},
   "source": [
    "## Project Question\n",
    "*What specific question are you seeking to answer with this project?*\n",
    "*This is not the same as the questions you ask to limit the scope of the project.*\n",
    "📝 <!-- Answer Below -->"
   ]
  },
  {
   "attachments": {},
   "cell_type": "markdown",
   "metadata": {},
   "source": [
    "## What would an answer look like?\n",
    "*What is your hypothesized answer to your question?*\n",
    "📝 <!-- Answer Below -->"
   ]
  },
  {
   "attachments": {},
   "cell_type": "markdown",
   "metadata": {},
   "source": [
    "## Data Sources\n",
    "*What 3 data sources have you identified for this project?*\n",
    "*How are you going to relate these datasets?*\n",
    "📝 <!-- Answer Below -->"
   ]
  },
  {
   "attachments": {},
   "cell_type": "markdown",
   "metadata": {},
   "source": [
    "## Approach and Analysis\n",
    "*What is your approach to answering your project question?*\n",
    "*How will you use the identified data to answer your project question?*\n",
    "📝 <!-- Start Discussing the project here; you can add as many code cells as you need -->"
   ]
  },
  {
   "cell_type": "code",
   "execution_count": 16,
   "metadata": {},
   "outputs": [],
   "source": [
    "# Start your code here"
   ]
  },
  {
   "cell_type": "markdown",
   "metadata": {},
   "source": [
    "# Checkpoint 2"
   ]
  },
  {
   "cell_type": "markdown",
   "metadata": {},
   "source": [
    "## Importing libraries and loading datasets"
   ]
  },
  {
   "cell_type": "code",
   "execution_count": 17,
   "metadata": {},
   "outputs": [],
   "source": [
    "import matplotlib.pyplot as plt\n",
    "import pandas as pd\n",
    "import seaborn as sns\n",
    "import os\n",
    "import plotly.express as px\n",
    "\n",
    "\n",
    "# Load the datasets\n",
    "bls_data = pd.read_csv('bls_unemployment_data.csv')  \n",
    "fred_data = pd.read_csv('fred_unemployment_data.csv')  \n",
    "analysis_data = pd.read_csv('unemployment_analysis.csv')  \n"
   ]
  },
  {
   "cell_type": "markdown",
   "metadata": {},
   "source": [
    "## Data cleaning\n",
    "### Cleaned data by:\n",
    "- Handled missing or NaN values.\n",
    "- Renamed columns for clarity.\n",
    "- Converted 'Year' to datetime format.\n",
    "- Extracted year from 'Date' and create a new 'Year' column.\n",
    "- Dropped columns that may not be necessary.\n",
    "- Melted the DataFrame to have a long format for better analysis."
   ]
  },
  {
   "cell_type": "code",
   "execution_count": 18,
   "metadata": {},
   "outputs": [
    {
     "name": "stdout",
     "output_type": "stream",
     "text": [
      "BLS Data Missing Values:\n",
      " Year        0\n",
      "Period      0\n",
      "Value       0\n",
      "Footnote    0\n",
      "dtype: int64\n",
      "FRED Data Missing Values:\n",
      " Date                 0\n",
      "Unemployment Rate    0\n",
      "dtype: int64\n",
      "Analysis Data Missing Values:\n",
      " Country Name    0\n",
      "Country Code    0\n",
      "1991            0\n",
      "1992            0\n",
      "1993            0\n",
      "1994            0\n",
      "1995            0\n",
      "1996            0\n",
      "1997            0\n",
      "1998            0\n",
      "1999            0\n",
      "2000            0\n",
      "2001            0\n",
      "2002            0\n",
      "2003            0\n",
      "2004            0\n",
      "2005            0\n",
      "2006            0\n",
      "2007            0\n",
      "2008            0\n",
      "2009            0\n",
      "2010            0\n",
      "2011            0\n",
      "2012            0\n",
      "2013            0\n",
      "2014            0\n",
      "2015            0\n",
      "2016            0\n",
      "2017            0\n",
      "2018            0\n",
      "2019            0\n",
      "2020            0\n",
      "2021            0\n",
      "dtype: int64\n",
      "\n",
      "Cleaned BLS Data:\n",
      "         Year Period  BLS_Unemployment_Value Footnote\n",
      "0 2024-01-01    M09                     2.3     [{}]\n",
      "1 2024-01-01    M08                     2.5     [{}]\n",
      "2 2024-01-01    M07                     2.3     [{}]\n",
      "3 2024-01-01    M06                     2.4     [{}]\n",
      "4 2024-01-01    M05                     2.1     [{}]\n",
      "\n",
      "Cleaned FRED Data:\n",
      "         Date  Unemployment Rate  Year\n",
      "0 2020-01-01                3.6  2020\n",
      "1 2020-02-01                3.5  2020\n",
      "2 2020-03-01                4.4  2020\n",
      "3 2020-04-01               14.8  2020\n",
      "4 2020-05-01               13.2  2020\n",
      "\n",
      "Cleaned Analysis Data:\n",
      "                   Country Name  Year  Unemployment Rate\n",
      "0  Africa Eastern and Southern  1991               7.80\n",
      "1                  Afghanistan  1991              10.65\n",
      "2   Africa Western and Central  1991               4.42\n",
      "3                       Angola  1991               4.21\n",
      "4                      Albania  1991              10.31\n"
     ]
    }
   ],
   "source": [
    "\n",
    "# Loaded the datasets\n",
    "bls_data = pd.read_csv('bls_unemployment_data.csv')\n",
    "fred_data = pd.read_csv('fred_unemployment_data.csv')\n",
    "analysis_data = pd.read_csv('unemployment_analysis.csv')\n",
    "\n",
    "# Data Cleaning Function\n",
    "def clean_bls_data(bls_df):\n",
    "    # Check for missing values\n",
    "    print(\"BLS Data Missing Values:\\n\", bls_df.isnull().sum())\n",
    "    \n",
    "    # Drop rows with missing 'Value' as it's crucial for analysis\n",
    "    bls_df.dropna(subset=['Value'], inplace=True)\n",
    "    \n",
    "    # Convert 'Year' to datetime format\n",
    "    bls_df['Year'] = pd.to_datetime(bls_df['Year'], format='%Y', errors='coerce')\n",
    "    \n",
    "    # Rename columns for clarity\n",
    "    bls_df.rename(columns={'Value': 'BLS_Unemployment_Value'}, inplace=True)\n",
    "    \n",
    "    return bls_df\n",
    "\n",
    "def clean_fred_data(fred_df):\n",
    "    # Check for missing values\n",
    "    print(\"FRED Data Missing Values:\\n\", fred_df.isnull().sum())\n",
    "    \n",
    "    # Drop rows with missing 'Unemployment Rate'\n",
    "    fred_df.dropna(subset=['Unemployment Rate'], inplace=True)\n",
    "    \n",
    "    # Convert 'Date' to datetime format\n",
    "    fred_df['Date'] = pd.to_datetime(fred_df['Date'], errors='coerce')\n",
    "    \n",
    "    # Extract year from 'Date' and create a new 'Year' column\n",
    "    fred_df['Year'] = fred_df['Date'].dt.year\n",
    "    \n",
    "    return fred_df\n",
    "\n",
    "def clean_analysis_data(analysis_df):\n",
    "    # Check for missing values\n",
    "    print(\"Analysis Data Missing Values:\\n\", analysis_df.isnull().sum())\n",
    "    \n",
    "    # Drop columns that may not be necessary \n",
    "    analysis_df.drop(columns=['Country Code'], inplace=True)\n",
    "    \n",
    "    # Melt the DataFrame to have a long format for better analysis\n",
    "    analysis_df = analysis_df.melt(id_vars=['Country Name'], var_name='Year', value_name='Unemployment Rate')\n",
    "    \n",
    "    # Convert 'Year' to integer\n",
    "    analysis_df['Year'] = analysis_df['Year'].astype(int)\n",
    "    \n",
    "    # Drop rows with missing 'Unemployment Rate'\n",
    "    analysis_df.dropna(subset=['Unemployment Rate'], inplace=True)\n",
    "    \n",
    "    return analysis_df\n",
    "\n",
    "# Clean the datasets\n",
    "bls_data_cleaned = clean_bls_data(bls_data)\n",
    "fred_data_cleaned = clean_fred_data(fred_data)\n",
    "analysis_data_cleaned = clean_analysis_data(analysis_data)\n",
    "\n",
    "\n",
    "# Display cleaned data\n",
    "print(\"\\nCleaned BLS Data:\\n\", bls_data_cleaned.head())\n",
    "print(\"\\nCleaned FRED Data:\\n\", fred_data_cleaned.head())\n",
    "print(\"\\nCleaned Analysis Data:\\n\", analysis_data_cleaned.head())\n"
   ]
  },
  {
   "cell_type": "markdown",
   "metadata": {},
   "source": [
    "##  Line Chart for BLS Unemployment Data\n",
    "**Description: This plot shows decades-based unemployment data from the Bureau of Labor Statistics (BLS). It indicates the way unemployment has changed from year to year.**\n",
    "\n",
    "**Summary: This graph shows some key indicators of U.S. unemployment from years past. Deep spikes could be times of financial crisis, and steep dips could be times of economic recovery.**"
   ]
  },
  {
   "cell_type": "code",
   "execution_count": 19,
   "metadata": {},
   "outputs": [
    {
     "data": {
      "image/png": "[encoded data removed]",
      "text/plain": [
       "<Figure size 1200x600 with 1 Axes>"
      ]
     },
     "metadata": {},
     "output_type": "display_data"
    }
   ],
   "source": [
    "\n",
    "import matplotlib.pyplot as plt\n",
    "import seaborn as sns\n",
    "bls_data_cleaned['Year'] = bls_data_cleaned['Year'].astype(str)\n",
    "plt.figure(figsize=(12, 6))\n",
    "sns.lineplot(data=bls_data_cleaned, x='Year', y='BLS_Unemployment_Value')\n",
    "plt.title('BLS Unemployment Data Over Years')\n",
    "plt.xlabel('Year')\n",
    "plt.ylabel('Unemployment Value')\n",
    "plt.xticks(rotation=45)\n",
    "plt.grid()\n",
    "plt.show()\n",
    "\n"
   ]
  },
  {
   "cell_type": "markdown",
   "metadata": {},
   "source": [
    "## Line Chart for FRED Unemployment Data\n",
    "**Description: This plot shows decades-based unemployment data from the Federal Reserve Economic Data (FRED) system. It indicates the way unemployment has changed from year to year.**\n",
    "\n",
    "**Summary: This graph shows some key indicators of U.S. unemployment from years past. Deep spikes could be times of financial crisis, and steep dips could be times of economic recovery.**"
   ]
  },
  {
   "cell_type": "code",
   "execution_count": 20,
   "metadata": {},
   "outputs": [
    {
     "data": {
      "image/png": "[encoded data removed]",
      "text/plain": [
       "<Figure size 1200x600 with 1 Axes>"
      ]
     },
     "metadata": {},
     "output_type": "display_data"
    }
   ],
   "source": [
    "fred_data_cleaned['Date'] = pd.to_datetime(fred_data['Date'])\n",
    "plt.figure(figsize=(12, 6))\n",
    "sns.lineplot(data=fred_data, x='Date', y='Unemployment Rate')\n",
    "plt.title('FRED Unemployment Rate Over Time')\n",
    "plt.xlabel('Date')\n",
    "plt.ylabel('Unemployment Rate (%)')\n",
    "plt.xticks(rotation=45)\n",
    "plt.grid()\n",
    "plt.show()"
   ]
  },
  {
   "cell_type": "markdown",
   "metadata": {},
   "source": [
    "##  Line Chart for BLS Unemployment Data\n",
    "**Description: This plot shows decades-based unemployment data from the Bureau of Labor Statistics (BLS). It indicates the way unemployment has changed from year to year.**\n",
    "\n",
    "**Summary: This graph shows some key indicators of U.S. unemployment from years past. Deep spikes could be times of financial crisis, and steep dips could be times of economic recovery.**"
   ]
  },
  {
   "cell_type": "markdown",
   "metadata": {},
   "source": []
  },
  {
   "cell_type": "code",
   "execution_count": 21,
   "metadata": {},
   "outputs": [
    {
     "data": {
      "image/png": "[encoded data removed]",
      "text/plain": [
       "<Figure size 1200x600 with 1 Axes>"
      ]
     },
     "metadata": {},
     "output_type": "display_data"
    }
   ],
   "source": [
    "#  Line Chart for BLS Unemployment Data\n",
    "import matplotlib.pyplot as plt\n",
    "import seaborn as sns\n",
    "\n",
    "# Convert 'Year' to a string if necessary\n",
    "bls_data_cleaned['Year'] = bls_data_cleaned['Year'].astype(str)\n",
    "\n",
    "# Create a line plot for BLS Unemployment Data\n",
    "plt.figure(figsize=(12, 6))\n",
    "sns.lineplot(data=bls_data_cleaned, x='Year', y='BLS_Unemployment_Value')\n",
    "plt.title('BLS Unemployment Data Over Years')\n",
    "plt.xlabel('Year')\n",
    "plt.ylabel('Unemployment Value')\n",
    "plt.xticks(rotation=45)\n",
    "plt.grid()\n",
    "plt.show()\n",
    "\n"
   ]
  },
  {
   "cell_type": "markdown",
   "metadata": {},
   "source": [
    "## Line Chart for FRED Unemployment Data\n",
    "**Description: This plot shows decades-based unemployment data from the Federal Reserve Economic Data (FRED) system. It indicates the way unemployment has changed from year to year.**\n",
    "\n",
    "**Summary: This graph shows some key indicators of U.S. unemployment from years past. Deep spikes could be times of financial crisis, and steep dips could be times of economic recovery.**"
   ]
  },
  {
   "cell_type": "code",
   "execution_count": 22,
   "metadata": {},
   "outputs": [
    {
     "data": {
      "image/png": "[encoded data removed]",
      "text/plain": [
       "<Figure size 1200x600 with 1 Axes>"
      ]
     },
     "metadata": {},
     "output_type": "display_data"
    }
   ],
   "source": [
    "fred_data_cleaned['Date'] = pd.to_datetime(fred_data['Date'])\n",
    "\n",
    "# Create a line plot for FRED Unemployment Data\n",
    "plt.figure(figsize=(12, 6))\n",
    "sns.lineplot(data=fred_data, x='Date', y='Unemployment Rate')\n",
    "plt.title('FRED Unemployment Rate Over Time')\n",
    "plt.xlabel('Date')\n",
    "plt.ylabel('Unemployment Rate (%)')\n",
    "plt.xticks(rotation=45)\n",
    "plt.grid()\n",
    "plt.show()"
   ]
  },
  {
   "cell_type": "markdown",
   "metadata": {},
   "source": [
    "## Line chart for unemployment_analysis with plotly\n",
    "**Description: This interactive line chart, built with Plotly, shows unemployment rates for different countries over selected years (e.g., 2000, 2005, 2010, 2015, and 2020). It uses a dropdown or legend to allow users to toggle countries on/off, providing interactivity.**\n",
    "\n",
    "Insights: The interactive feature enhances comparison across countries. You can easily spot which countries faced higher unemployment rates during certain years and identify global or regional trends. For example, global recessions like the 2008 financial crisis may be reflected in multiple countries."
   ]
  },
  {
   "cell_type": "code",
   "execution_count": 23,
   "metadata": {},
   "outputs": [
    {
     "data": {
      "application/vnd.plotly.v1+json": {
       "config": {
        "plotlyServerURL": "https://plot.ly"
       },
       "data": [
        {
         "hovertemplate": "%{y}% unemployment in %{x}",
         "legendgroup": "Africa Eastern and Southern",
         "line": {
          "color": "#636efa",
          "dash": "solid"
         },
         "marker": {
          "symbol": "circle"
         },
         "mode": "lines+markers",
         "name": "Africa Eastern and Southern",
         "showlegend": true,
         "type": "scattergl",
         "x": [
          2000,
          2005,
          2010,
          2015,
          2020
         ],
         "xaxis": "x",
         "y": [
          7.72,
          7.12,
          6.87,
          6.49,
          7.56
         ],
         "yaxis": "y"
        },
        {
         "hovertemplate": "%{y}% unemployment in %{x}",
         "legendgroup": "Afghanistan",
         "line": {
          "color": "#EF553B",
          "dash": "solid"
         },
         "marker": {
          "symbol": "circle"
         },
         "mode": "lines+markers",
         "name": "Afghanistan",
         "showlegend": true,
         "type": "scattergl",
         "x": [
          2000,
          2005,
          2010,
          2015,
          2020
         ],
         "xaxis": "x",
         "y": [
          10.81,
          11.22,
          11.35,
          11.13,
          11.71
         ],
         "yaxis": "y"
        },
        {
         "hovertemplate": "%{y}% unemployment in %{x}",
         "legendgroup": "Africa Western and Central",
         "line": {
          "color": "#00cc96",
          "dash": "solid"
         },
         "marker": {
          "symbol": "circle"
         },
         "mode": "lines+markers",
         "name": "Africa Western and Central",
         "showlegend": true,
         "type": "scattergl",
         "x": [
          2000,
          2005,
          2010,
          2015,
          2020
         ],
         "xaxis": "x",
         "y": [
          4.92,
          4.73,
          4.55,
          4.63,
          6.77
         ],
         "yaxis": "y"
        },
        {
         "hovertemplate": "%{y}% unemployment in %{x}",
         "legendgroup": "Angola",
         "line": {
          "color": "#ab63fa",
          "dash": "solid"
         },
         "marker": {
          "symbol": "circle"
         },
         "mode": "lines+markers",
         "name": "Angola",
         "showlegend": true,
         "type": "scattergl",
         "x": [
          2000,
          2005,
          2010,
          2015,
          2020
         ],
         "xaxis": "x",
         "y": [
          4.03,
          3.88,
          9.43,
          7.39,
          8.33
         ],
         "yaxis": "y"
        },
        {
         "hovertemplate": "%{y}% unemployment in %{x}",
         "legendgroup": "Albania",
         "line": {
          "color": "#FFA15A",
          "dash": "solid"
         },
         "marker": {
          "symbol": "circle"
         },
         "mode": "lines+markers",
         "name": "Albania",
         "showlegend": true,
         "type": "scattergl",
         "x": [
          2000,
          2005,
          2010,
          2015,
          2020
         ],
         "xaxis": "x",
         "y": [
          19.03,
          15.97,
          14.09,
          17.19,
          13.33
         ],
         "yaxis": "y"
        },
        {
         "hovertemplate": "%{y}% unemployment in %{x}",
         "legendgroup": "Arab World",
         "line": {
          "color": "#19d3f3",
          "dash": "solid"
         },
         "marker": {
          "symbol": "circle"
         },
         "mode": "lines+markers",
         "name": "Arab World",
         "showlegend": true,
         "type": "scattergl",
         "x": [
          2000,
          2005,
          2010,
          2015,
          2020
         ],
         "xaxis": "x",
         "y": [
          12.6,
          11.2,
          9.4,
          10.97,
          11.49
         ],
         "yaxis": "y"
        },
        {
         "hovertemplate": "%{y}% unemployment in %{x}",
         "legendgroup": "United Arab Emirates",
         "line": {
          "color": "#FF6692",
          "dash": "solid"
         },
         "marker": {
          "symbol": "circle"
         },
         "mode": "lines+markers",
         "name": "United Arab Emirates",
         "showlegend": true,
         "type": "scattergl",
         "x": [
          2000,
          2005,
          2010,
          2015,
          2020
         ],
         "xaxis": "x",
         "y": [
          2.25,
          3.12,
          2.48,
          1.77,
          3.19
         ],
         "yaxis": "y"
        },
        {
         "hovertemplate": "%{y}% unemployment in %{x}",
         "legendgroup": "Argentina",
         "line": {
          "color": "#B6E880",
          "dash": "solid"
         },
         "marker": {
          "symbol": "circle"
         },
         "mode": "lines+markers",
         "name": "Argentina",
         "showlegend": true,
         "type": "scattergl",
         "x": [
          2000,
          2005,
          2010,
          2015,
          2020
         ],
         "xaxis": "x",
         "y": [
          15,
          11.51,
          7.71,
          7.52,
          11.46
         ],
         "yaxis": "y"
        },
        {
         "hovertemplate": "%{y}% unemployment in %{x}",
         "legendgroup": "Armenia",
         "line": {
          "color": "#FF97FF",
          "dash": "solid"
         },
         "marker": {
          "symbol": "circle"
         },
         "mode": "lines+markers",
         "name": "Armenia",
         "showlegend": true,
         "type": "scattergl",
         "x": [
          2000,
          2005,
          2010,
          2015,
          2020
         ],
         "xaxis": "x",
         "y": [
          11.05,
          10.2,
          19.01,
          18.26,
          21.21
         ],
         "yaxis": "y"
        },
        {
         "hovertemplate": "%{y}% unemployment in %{x}",
         "legendgroup": "Australia",
         "line": {
          "color": "#FECB52",
          "dash": "solid"
         },
         "marker": {
          "symbol": "circle"
         },
         "mode": "lines+markers",
         "name": "Australia",
         "showlegend": true,
         "type": "scattergl",
         "x": [
          2000,
          2005,
          2010,
          2015,
          2020
         ],
         "xaxis": "x",
         "y": [
          6.28,
          5.03,
          5.21,
          6.05,
          6.46
         ],
         "yaxis": "y"
        },
        {
         "hovertemplate": "%{y}% unemployment in %{x}",
         "legendgroup": "Austria",
         "line": {
          "color": "#636efa",
          "dash": "solid"
         },
         "marker": {
          "symbol": "circle"
         },
         "mode": "lines+markers",
         "name": "Austria",
         "showlegend": true,
         "type": "scattergl",
         "x": [
          2000,
          2005,
          2010,
          2015,
          2020
         ],
         "xaxis": "x",
         "y": [
          4.69,
          5.63,
          4.82,
          5.72,
          5.36
         ],
         "yaxis": "y"
        },
        {
         "hovertemplate": "%{y}% unemployment in %{x}",
         "legendgroup": "Azerbaijan",
         "line": {
          "color": "#EF553B",
          "dash": "solid"
         },
         "marker": {
          "symbol": "circle"
         },
         "mode": "lines+markers",
         "name": "Azerbaijan",
         "showlegend": true,
         "type": "scattergl",
         "x": [
          2000,
          2005,
          2010,
          2015,
          2020
         ],
         "xaxis": "x",
         "y": [
          11.78,
          7.26,
          5.63,
          4.96,
          6.46
         ],
         "yaxis": "y"
        },
        {
         "hovertemplate": "%{y}% unemployment in %{x}",
         "legendgroup": "Burundi",
         "line": {
          "color": "#00cc96",
          "dash": "solid"
         },
         "marker": {
          "symbol": "circle"
         },
         "mode": "lines+markers",
         "name": "Burundi",
         "showlegend": true,
         "type": "scattergl",
         "x": [
          2000,
          2005,
          2010,
          2015,
          2020
         ],
         "xaxis": "x",
         "y": [
          1.59,
          1.62,
          1.61,
          1.6,
          1.71
         ],
         "yaxis": "y"
        },
        {
         "hovertemplate": "%{y}% unemployment in %{x}",
         "legendgroup": "Belgium",
         "line": {
          "color": "#ab63fa",
          "dash": "solid"
         },
         "marker": {
          "symbol": "circle"
         },
         "mode": "lines+markers",
         "name": "Belgium",
         "showlegend": true,
         "type": "scattergl",
         "x": [
          2000,
          2005,
          2010,
          2015,
          2020
         ],
         "xaxis": "x",
         "y": [
          6.59,
          8.44,
          8.29,
          8.48,
          5.55
         ],
         "yaxis": "y"
        },
        {
         "hovertemplate": "%{y}% unemployment in %{x}",
         "legendgroup": "Benin",
         "line": {
          "color": "#FFA15A",
          "dash": "solid"
         },
         "marker": {
          "symbol": "circle"
         },
         "mode": "lines+markers",
         "name": "Benin",
         "showlegend": true,
         "type": "scattergl",
         "x": [
          2000,
          2005,
          2010,
          2015,
          2020
         ],
         "xaxis": "x",
         "y": [
          0.85,
          0.82,
          1.04,
          2.01,
          1.58
         ],
         "yaxis": "y"
        },
        {
         "hovertemplate": "%{y}% unemployment in %{x}",
         "legendgroup": "Burkina Faso",
         "line": {
          "color": "#19d3f3",
          "dash": "solid"
         },
         "marker": {
          "symbol": "circle"
         },
         "mode": "lines+markers",
         "name": "Burkina Faso",
         "showlegend": true,
         "type": "scattergl",
         "x": [
          2000,
          2005,
          2010,
          2015,
          2020
         ],
         "xaxis": "x",
         "y": [
          2.61,
          4,
          3.64,
          4.32,
          4.89
         ],
         "yaxis": "y"
        },
        {
         "hovertemplate": "%{y}% unemployment in %{x}",
         "legendgroup": "Bangladesh",
         "line": {
          "color": "#FF6692",
          "dash": "solid"
         },
         "marker": {
          "symbol": "circle"
         },
         "mode": "lines+markers",
         "name": "Bangladesh",
         "showlegend": true,
         "type": "scattergl",
         "x": [
          2000,
          2005,
          2010,
          2015,
          2020
         ],
         "xaxis": "x",
         "y": [
          3.27,
          4.25,
          3.38,
          4.37,
          5.41
         ],
         "yaxis": "y"
        },
        {
         "hovertemplate": "%{y}% unemployment in %{x}",
         "legendgroup": "Bulgaria",
         "line": {
          "color": "#B6E880",
          "dash": "solid"
         },
         "marker": {
          "symbol": "circle"
         },
         "mode": "lines+markers",
         "name": "Bulgaria",
         "showlegend": true,
         "type": "scattergl",
         "x": [
          2000,
          2005,
          2010,
          2015,
          2020
         ],
         "xaxis": "x",
         "y": [
          16.22,
          10.08,
          10.28,
          9.14,
          5.12
         ],
         "yaxis": "y"
        },
        {
         "hovertemplate": "%{y}% unemployment in %{x}",
         "legendgroup": "Bahrain",
         "line": {
          "color": "#FF97FF",
          "dash": "solid"
         },
         "marker": {
          "symbol": "circle"
         },
         "mode": "lines+markers",
         "name": "Bahrain",
         "showlegend": true,
         "type": "scattergl",
         "x": [
          2000,
          2005,
          2010,
          2015,
          2020
         ],
         "xaxis": "x",
         "y": [
          1.08,
          1.09,
          1.13,
          1.2,
          1.78
         ],
         "yaxis": "y"
        },
        {
         "hovertemplate": "%{y}% unemployment in %{x}",
         "legendgroup": "Bahamas, The",
         "line": {
          "color": "#FECB52",
          "dash": "solid"
         },
         "marker": {
          "symbol": "circle"
         },
         "mode": "lines+markers",
         "name": "Bahamas, The",
         "showlegend": true,
         "type": "scattergl",
         "x": [
          2000,
          2005,
          2010,
          2015,
          2020
         ],
         "xaxis": "x",
         "y": [
          7.2,
          10.2,
          14.31,
          12,
          13.32
         ],
         "yaxis": "y"
        },
        {
         "hovertemplate": "%{y}% unemployment in %{x}",
         "legendgroup": "Bosnia and Herzegovina",
         "line": {
          "color": "#636efa",
          "dash": "solid"
         },
         "marker": {
          "symbol": "circle"
         },
         "mode": "lines+markers",
         "name": "Bosnia and Herzegovina",
         "showlegend": true,
         "type": "scattergl",
         "x": [
          2000,
          2005,
          2010,
          2015,
          2020
         ],
         "xaxis": "x",
         "y": [
          25.78,
          30.41,
          27.31,
          27.69,
          15.27
         ],
         "yaxis": "y"
        },
        {
         "hovertemplate": "%{y}% unemployment in %{x}",
         "legendgroup": "Belarus",
         "line": {
          "color": "#EF553B",
          "dash": "solid"
         },
         "marker": {
          "symbol": "circle"
         },
         "mode": "lines+markers",
         "name": "Belarus",
         "showlegend": true,
         "type": "scattergl",
         "x": [
          2000,
          2005,
          2010,
          2015,
          2020
         ],
         "xaxis": "x",
         "y": [
          12.26,
          9.06,
          6.25,
          5.84,
          4.77
         ],
         "yaxis": "y"
        },
        {
         "hovertemplate": "%{y}% unemployment in %{x}",
         "legendgroup": "Belize",
         "line": {
          "color": "#00cc96",
          "dash": "solid"
         },
         "marker": {
          "symbol": "circle"
         },
         "mode": "lines+markers",
         "name": "Belize",
         "showlegend": true,
         "type": "scattergl",
         "x": [
          2000,
          2005,
          2010,
          2015,
          2020
         ],
         "xaxis": "x",
         "y": [
          10.85,
          10.91,
          8.24,
          7.58,
          8.46
         ],
         "yaxis": "y"
        },
        {
         "hovertemplate": "%{y}% unemployment in %{x}",
         "legendgroup": "Bolivia",
         "line": {
          "color": "#ab63fa",
          "dash": "solid"
         },
         "marker": {
          "symbol": "circle"
         },
         "mode": "lines+markers",
         "name": "Bolivia",
         "showlegend": true,
         "type": "scattergl",
         "x": [
          2000,
          2005,
          2010,
          2015,
          2020
         ],
         "xaxis": "x",
         "y": [
          2.38,
          2.54,
          2.61,
          3.11,
          7.9
         ],
         "yaxis": "y"
        },
        {
         "hovertemplate": "%{y}% unemployment in %{x}",
         "legendgroup": "Brazil",
         "line": {
          "color": "#FFA15A",
          "dash": "solid"
         },
         "marker": {
          "symbol": "circle"
         },
         "mode": "lines+markers",
         "name": "Brazil",
         "showlegend": true,
         "type": "scattergl",
         "x": [
          2000,
          2005,
          2010,
          2015,
          2020
         ],
         "xaxis": "x",
         "y": [
          9.56,
          9.57,
          7.27,
          8.43,
          13.69
         ],
         "yaxis": "y"
        },
        {
         "hovertemplate": "%{y}% unemployment in %{x}",
         "legendgroup": "Barbados",
         "line": {
          "color": "#19d3f3",
          "dash": "solid"
         },
         "marker": {
          "symbol": "circle"
         },
         "mode": "lines+markers",
         "name": "Barbados",
         "showlegend": true,
         "type": "scattergl",
         "x": [
          2000,
          2005,
          2010,
          2015,
          2020
         ],
         "xaxis": "x",
         "y": [
          9.35,
          9.08,
          10.69,
          9.8,
          10.38
         ],
         "yaxis": "y"
        },
        {
         "hovertemplate": "%{y}% unemployment in %{x}",
         "legendgroup": "Brunei Darussalam",
         "line": {
          "color": "#FF6692",
          "dash": "solid"
         },
         "marker": {
          "symbol": "circle"
         },
         "mode": "lines+markers",
         "name": "Brunei Darussalam",
         "showlegend": true,
         "type": "scattergl",
         "x": [
          2000,
          2005,
          2010,
          2015,
          2020
         ],
         "xaxis": "x",
         "y": [
          5.68,
          6.13,
          6.77,
          7.78,
          7.68
         ],
         "yaxis": "y"
        },
        {
         "hovertemplate": "%{y}% unemployment in %{x}",
         "legendgroup": "Bhutan",
         "line": {
          "color": "#B6E880",
          "dash": "solid"
         },
         "marker": {
          "symbol": "circle"
         },
         "mode": "lines+markers",
         "name": "Bhutan",
         "showlegend": true,
         "type": "scattergl",
         "x": [
          2000,
          2005,
          2010,
          2015,
          2020
         ],
         "xaxis": "x",
         "y": [
          1.59,
          3.1,
          3.32,
          2.45,
          3.65
         ],
         "yaxis": "y"
        },
        {
         "hovertemplate": "%{y}% unemployment in %{x}",
         "legendgroup": "Botswana",
         "line": {
          "color": "#FF97FF",
          "dash": "solid"
         },
         "marker": {
          "symbol": "circle"
         },
         "mode": "lines+markers",
         "name": "Botswana",
         "showlegend": true,
         "type": "scattergl",
         "x": [
          2000,
          2005,
          2010,
          2015,
          2020
         ],
         "xaxis": "x",
         "y": [
          15.88,
          19.81,
          17.86,
          20.57,
          24.93
         ],
         "yaxis": "y"
        },
        {
         "hovertemplate": "%{y}% unemployment in %{x}",
         "legendgroup": "Central African Republic",
         "line": {
          "color": "#FECB52",
          "dash": "solid"
         },
         "marker": {
          "symbol": "circle"
         },
         "mode": "lines+markers",
         "name": "Central African Republic",
         "showlegend": true,
         "type": "scattergl",
         "x": [
          2000,
          2005,
          2010,
          2015,
          2020
         ],
         "xaxis": "x",
         "y": [
          5.61,
          5.7,
          5.67,
          5.61,
          6.36
         ],
         "yaxis": "y"
        },
        {
         "hovertemplate": "%{y}% unemployment in %{x}",
         "legendgroup": "Canada",
         "line": {
          "color": "#636efa",
          "dash": "solid"
         },
         "marker": {
          "symbol": "circle"
         },
         "mode": "lines+markers",
         "name": "Canada",
         "showlegend": true,
         "type": "scattergl",
         "x": [
          2000,
          2005,
          2010,
          2015,
          2020
         ],
         "xaxis": "x",
         "y": [
          6.83,
          6.76,
          8.06,
          6.91,
          9.46
         ],
         "yaxis": "y"
        },
        {
         "hovertemplate": "%{y}% unemployment in %{x}",
         "legendgroup": "Central Europe and the Baltics",
         "line": {
          "color": "#EF553B",
          "dash": "solid"
         },
         "marker": {
          "symbol": "circle"
         },
         "mode": "lines+markers",
         "name": "Central Europe and the Baltics",
         "showlegend": true,
         "type": "scattergl",
         "x": [
          2000,
          2005,
          2010,
          2015,
          2020
         ],
         "xaxis": "x",
         "y": [
          12.43,
          12.04,
          9.9,
          7.82,
          4.37
         ],
         "yaxis": "y"
        },
        {
         "hovertemplate": "%{y}% unemployment in %{x}",
         "legendgroup": "Switzerland",
         "line": {
          "color": "#00cc96",
          "dash": "solid"
         },
         "marker": {
          "symbol": "circle"
         },
         "mode": "lines+markers",
         "name": "Switzerland",
         "showlegend": true,
         "type": "scattergl",
         "x": [
          2000,
          2005,
          2010,
          2015,
          2020
         ],
         "xaxis": "x",
         "y": [
          2.67,
          4.44,
          4.8,
          4.8,
          4.82
         ],
         "yaxis": "y"
        },
        {
         "hovertemplate": "%{y}% unemployment in %{x}",
         "legendgroup": "Channel Islands",
         "line": {
          "color": "#ab63fa",
          "dash": "solid"
         },
         "marker": {
          "symbol": "circle"
         },
         "mode": "lines+markers",
         "name": "Channel Islands",
         "showlegend": true,
         "type": "scattergl",
         "x": [
          2000,
          2005,
          2010,
          2015,
          2020
         ],
         "xaxis": "x",
         "y": [
          5.66,
          6.05,
          7.24,
          8.22,
          7.69
         ],
         "yaxis": "y"
        },
        {
         "hovertemplate": "%{y}% unemployment in %{x}",
         "legendgroup": "Chile",
         "line": {
          "color": "#FFA15A",
          "dash": "solid"
         },
         "marker": {
          "symbol": "circle"
         },
         "mode": "lines+markers",
         "name": "Chile",
         "showlegend": true,
         "type": "scattergl",
         "x": [
          2000,
          2005,
          2010,
          2015,
          2020
         ],
         "xaxis": "x",
         "y": [
          10.49,
          9.34,
          8.42,
          6.51,
          11.18
         ],
         "yaxis": "y"
        },
        {
         "hovertemplate": "%{y}% unemployment in %{x}",
         "legendgroup": "China",
         "line": {
          "color": "#19d3f3",
          "dash": "solid"
         },
         "marker": {
          "symbol": "circle"
         },
         "mode": "lines+markers",
         "name": "China",
         "showlegend": true,
         "type": "scattergl",
         "x": [
          2000,
          2005,
          2010,
          2015,
          2020
         ],
         "xaxis": "x",
         "y": [
          3.26,
          4.52,
          4.53,
          4.63,
          5
         ],
         "yaxis": "y"
        },
        {
         "hovertemplate": "%{y}% unemployment in %{x}",
         "legendgroup": "Cote d'Ivoire",
         "line": {
          "color": "#FF6692",
          "dash": "solid"
         },
         "marker": {
          "symbol": "circle"
         },
         "mode": "lines+markers",
         "name": "Cote d'Ivoire",
         "showlegend": true,
         "type": "scattergl",
         "x": [
          2000,
          2005,
          2010,
          2015,
          2020
         ],
         "xaxis": "x",
         "y": [
          4.58,
          5.69,
          6.84,
          3.15,
          3.49
         ],
         "yaxis": "y"
        },
        {
         "hovertemplate": "%{y}% unemployment in %{x}",
         "legendgroup": "Cameroon",
         "line": {
          "color": "#B6E880",
          "dash": "solid"
         },
         "marker": {
          "symbol": "circle"
         },
         "mode": "lines+markers",
         "name": "Cameroon",
         "showlegend": true,
         "type": "scattergl",
         "x": [
          2000,
          2005,
          2010,
          2015,
          2020
         ],
         "xaxis": "x",
         "y": [
          7.59,
          4.4,
          4.11,
          3.55,
          3.84
         ],
         "yaxis": "y"
        },
        {
         "hovertemplate": "%{y}% unemployment in %{x}",
         "legendgroup": "Congo, Dem. Rep.",
         "line": {
          "color": "#FF97FF",
          "dash": "solid"
         },
         "marker": {
          "symbol": "circle"
         },
         "mode": "lines+markers",
         "name": "Congo, Dem. Rep.",
         "showlegend": true,
         "type": "scattergl",
         "x": [
          2000,
          2005,
          2010,
          2015,
          2020
         ],
         "xaxis": "x",
         "y": [
          2.9,
          2.85,
          4.01,
          4.47,
          5.27
         ],
         "yaxis": "y"
        },
        {
         "hovertemplate": "%{y}% unemployment in %{x}",
         "legendgroup": "Congo, Rep.",
         "line": {
          "color": "#FECB52",
          "dash": "solid"
         },
         "marker": {
          "symbol": "circle"
         },
         "mode": "lines+markers",
         "name": "Congo, Rep.",
         "showlegend": true,
         "type": "scattergl",
         "x": [
          2000,
          2005,
          2010,
          2015,
          2020
         ],
         "xaxis": "x",
         "y": [
          19.9,
          19.8,
          20.07,
          20.45,
          22.84
         ],
         "yaxis": "y"
        },
        {
         "hovertemplate": "%{y}% unemployment in %{x}",
         "legendgroup": "Colombia",
         "line": {
          "color": "#636efa",
          "dash": "solid"
         },
         "marker": {
          "symbol": "circle"
         },
         "mode": "lines+markers",
         "name": "Colombia",
         "showlegend": true,
         "type": "scattergl",
         "x": [
          2000,
          2005,
          2010,
          2015,
          2020
         ],
         "xaxis": "x",
         "y": [
          20.52,
          11.06,
          10.98,
          8.3,
          15.04
         ],
         "yaxis": "y"
        },
        {
         "hovertemplate": "%{y}% unemployment in %{x}",
         "legendgroup": "Comoros",
         "line": {
          "color": "#EF553B",
          "dash": "solid"
         },
         "marker": {
          "symbol": "circle"
         },
         "mode": "lines+markers",
         "name": "Comoros",
         "showlegend": true,
         "type": "scattergl",
         "x": [
          2000,
          2005,
          2010,
          2015,
          2020
         ],
         "xaxis": "x",
         "y": [
          4.68,
          4.92,
          6.69,
          8.14,
          9.22
         ],
         "yaxis": "y"
        },
        {
         "hovertemplate": "%{y}% unemployment in %{x}",
         "legendgroup": "Cabo Verde",
         "line": {
          "color": "#00cc96",
          "dash": "solid"
         },
         "marker": {
          "symbol": "circle"
         },
         "mode": "lines+markers",
         "name": "Cabo Verde",
         "showlegend": true,
         "type": "scattergl",
         "x": [
          2000,
          2005,
          2010,
          2015,
          2020
         ],
         "xaxis": "x",
         "y": [
          10.98,
          10.85,
          10.67,
          11.8,
          15.31
         ],
         "yaxis": "y"
        },
        {
         "hovertemplate": "%{y}% unemployment in %{x}",
         "legendgroup": "Costa Rica",
         "line": {
          "color": "#ab63fa",
          "dash": "solid"
         },
         "marker": {
          "symbol": "circle"
         },
         "mode": "lines+markers",
         "name": "Costa Rica",
         "showlegend": true,
         "type": "scattergl",
         "x": [
          2000,
          2005,
          2010,
          2015,
          2020
         ],
         "xaxis": "x",
         "y": [
          5.08,
          6.57,
          7.17,
          9,
          17.41
         ],
         "yaxis": "y"
        },
        {
         "hovertemplate": "%{y}% unemployment in %{x}",
         "legendgroup": "Caribbean small states",
         "line": {
          "color": "#FFA15A",
          "dash": "solid"
         },
         "marker": {
          "symbol": "circle"
         },
         "mode": "lines+markers",
         "name": "Caribbean small states",
         "showlegend": true,
         "type": "scattergl",
         "x": [
          2000,
          2005,
          2010,
          2015,
          2020
         ],
         "xaxis": "x",
         "y": [
          13.38,
          10.54,
          10.31,
          10.55,
          9.83
         ],
         "yaxis": "y"
        },
        {
         "hovertemplate": "%{y}% unemployment in %{x}",
         "legendgroup": "Cuba",
         "line": {
          "color": "#19d3f3",
          "dash": "solid"
         },
         "marker": {
          "symbol": "circle"
         },
         "mode": "lines+markers",
         "name": "Cuba",
         "showlegend": true,
         "type": "scattergl",
         "x": [
          2000,
          2005,
          2010,
          2015,
          2020
         ],
         "xaxis": "x",
         "y": [
          5.45,
          1.95,
          2.5,
          2.4,
          2.62
         ],
         "yaxis": "y"
        },
        {
         "hovertemplate": "%{y}% unemployment in %{x}",
         "legendgroup": "Cyprus",
         "line": {
          "color": "#FF6692",
          "dash": "solid"
         },
         "marker": {
          "symbol": "circle"
         },
         "mode": "lines+markers",
         "name": "Cyprus",
         "showlegend": true,
         "type": "scattergl",
         "x": [
          2000,
          2005,
          2010,
          2015,
          2020
         ],
         "xaxis": "x",
         "y": [
          4.97,
          5.3,
          6.26,
          14.91,
          7.59
         ],
         "yaxis": "y"
        },
        {
         "hovertemplate": "%{y}% unemployment in %{x}",
         "legendgroup": "Czech Republic",
         "line": {
          "color": "#B6E880",
          "dash": "solid"
         },
         "marker": {
          "symbol": "circle"
         },
         "mode": "lines+markers",
         "name": "Czech Republic",
         "showlegend": true,
         "type": "scattergl",
         "x": [
          2000,
          2005,
          2010,
          2015,
          2020
         ],
         "xaxis": "x",
         "y": [
          8.76,
          7.93,
          7.28,
          5.05,
          2.55
         ],
         "yaxis": "y"
        },
        {
         "hovertemplate": "%{y}% unemployment in %{x}",
         "legendgroup": "Germany",
         "line": {
          "color": "#FF97FF",
          "dash": "solid"
         },
         "marker": {
          "symbol": "circle"
         },
         "mode": "lines+markers",
         "name": "Germany",
         "showlegend": true,
         "type": "scattergl",
         "x": [
          2000,
          2005,
          2010,
          2015,
          2020
         ],
         "xaxis": "x",
         "y": [
          7.92,
          11.17,
          6.97,
          4.62,
          3.81
         ],
         "yaxis": "y"
        },
        {
         "hovertemplate": "%{y}% unemployment in %{x}",
         "legendgroup": "Djibouti",
         "line": {
          "color": "#FECB52",
          "dash": "solid"
         },
         "marker": {
          "symbol": "circle"
         },
         "mode": "lines+markers",
         "name": "Djibouti",
         "showlegend": true,
         "type": "scattergl",
         "x": [
          2000,
          2005,
          2010,
          2015,
          2020
         ],
         "xaxis": "x",
         "y": [
          28.34,
          27.72,
          27.06,
          26.33,
          28.39
         ],
         "yaxis": "y"
        },
        {
         "hovertemplate": "%{y}% unemployment in %{x}",
         "legendgroup": "Denmark",
         "line": {
          "color": "#636efa",
          "dash": "solid"
         },
         "marker": {
          "symbol": "circle"
         },
         "mode": "lines+markers",
         "name": "Denmark",
         "showlegend": true,
         "type": "scattergl",
         "x": [
          2000,
          2005,
          2010,
          2015,
          2020
         ],
         "xaxis": "x",
         "y": [
          4.48,
          4.83,
          7.75,
          6.28,
          5.64
         ],
         "yaxis": "y"
        },
        {
         "hovertemplate": "%{y}% unemployment in %{x}",
         "legendgroup": "Dominican Republic",
         "line": {
          "color": "#EF553B",
          "dash": "solid"
         },
         "marker": {
          "symbol": "circle"
         },
         "mode": "lines+markers",
         "name": "Dominican Republic",
         "showlegend": true,
         "type": "scattergl",
         "x": [
          2000,
          2005,
          2010,
          2015,
          2020
         ],
         "xaxis": "x",
         "y": [
          6.43,
          6.59,
          5.21,
          7.61,
          6.13
         ],
         "yaxis": "y"
        },
        {
         "hovertemplate": "%{y}% unemployment in %{x}",
         "legendgroup": "Algeria",
         "line": {
          "color": "#00cc96",
          "dash": "solid"
         },
         "marker": {
          "symbol": "circle"
         },
         "mode": "lines+markers",
         "name": "Algeria",
         "showlegend": true,
         "type": "scattergl",
         "x": [
          2000,
          2005,
          2010,
          2015,
          2020
         ],
         "xaxis": "x",
         "y": [
          29.77,
          15.27,
          9.96,
          11.21,
          12.55
         ],
         "yaxis": "y"
        },
        {
         "hovertemplate": "%{y}% unemployment in %{x}",
         "legendgroup": "East Asia & Pacific (excluding high income)",
         "line": {
          "color": "#ab63fa",
          "dash": "solid"
         },
         "marker": {
          "symbol": "circle"
         },
         "mode": "lines+markers",
         "name": "East Asia & Pacific (excluding high income)",
         "showlegend": true,
         "type": "scattergl",
         "x": [
          2000,
          2005,
          2010,
          2015,
          2020
         ],
         "xaxis": "x",
         "y": [
          3.41,
          4.46,
          4.15,
          4.1,
          4.39
         ],
         "yaxis": "y"
        },
        {
         "hovertemplate": "%{y}% unemployment in %{x}",
         "legendgroup": "Early-demographic dividend",
         "line": {
          "color": "#FFA15A",
          "dash": "solid"
         },
         "marker": {
          "symbol": "circle"
         },
         "mode": "lines+markers",
         "name": "Early-demographic dividend",
         "showlegend": true,
         "type": "scattergl",
         "x": [
          2000,
          2005,
          2010,
          2015,
          2020
         ],
         "xaxis": "x",
         "y": [
          6.24,
          6.28,
          5.69,
          5.73,
          7.12
         ],
         "yaxis": "y"
        },
        {
         "hovertemplate": "%{y}% unemployment in %{x}",
         "legendgroup": "East Asia & Pacific",
         "line": {
          "color": "#19d3f3",
          "dash": "solid"
         },
         "marker": {
          "symbol": "circle"
         },
         "mode": "lines+markers",
         "name": "East Asia & Pacific",
         "showlegend": true,
         "type": "scattergl",
         "x": [
          2000,
          2005,
          2010,
          2015,
          2020
         ],
         "xaxis": "x",
         "y": [
          3.54,
          4.45,
          4.21,
          4.07,
          4.32
         ],
         "yaxis": "y"
        },
        {
         "hovertemplate": "%{y}% unemployment in %{x}",
         "legendgroup": "Europe & Central Asia (excluding high income)",
         "line": {
          "color": "#FF6692",
          "dash": "solid"
         },
         "marker": {
          "symbol": "circle"
         },
         "mode": "lines+markers",
         "name": "Europe & Central Asia (excluding high income)",
         "showlegend": true,
         "type": "scattergl",
         "x": [
          2000,
          2005,
          2010,
          2015,
          2020
         ],
         "xaxis": "x",
         "y": [
          10.97,
          8.66,
          8.51,
          7.59,
          7.94
         ],
         "yaxis": "y"
        },
        {
         "hovertemplate": "%{y}% unemployment in %{x}",
         "legendgroup": "Europe & Central Asia",
         "line": {
          "color": "#B6E880",
          "dash": "solid"
         },
         "marker": {
          "symbol": "circle"
         },
         "mode": "lines+markers",
         "name": "Europe & Central Asia",
         "showlegend": true,
         "type": "scattergl",
         "x": [
          2000,
          2005,
          2010,
          2015,
          2020
         ],
         "xaxis": "x",
         "y": [
          9.82,
          8.73,
          9.02,
          8.56,
          7.18
         ],
         "yaxis": "y"
        },
        {
         "hovertemplate": "%{y}% unemployment in %{x}",
         "legendgroup": "Ecuador",
         "line": {
          "color": "#FF97FF",
          "dash": "solid"
         },
         "marker": {
          "symbol": "circle"
         },
         "mode": "lines+markers",
         "name": "Ecuador",
         "showlegend": true,
         "type": "scattergl",
         "x": [
          2000,
          2005,
          2010,
          2015,
          2020
         ],
         "xaxis": "x",
         "y": [
          4.8,
          3.78,
          4.09,
          3.62,
          6.11
         ],
         "yaxis": "y"
        },
        {
         "hovertemplate": "%{y}% unemployment in %{x}",
         "legendgroup": "Egypt, Arab Rep.",
         "line": {
          "color": "#FECB52",
          "dash": "solid"
         },
         "marker": {
          "symbol": "circle"
         },
         "mode": "lines+markers",
         "name": "Egypt, Arab Rep.",
         "showlegend": true,
         "type": "scattergl",
         "x": [
          2000,
          2005,
          2010,
          2015,
          2020
         ],
         "xaxis": "x",
         "y": [
          8.98,
          11.2,
          8.76,
          13.05,
          9.17
         ],
         "yaxis": "y"
        },
        {
         "hovertemplate": "%{y}% unemployment in %{x}",
         "legendgroup": "Euro area",
         "line": {
          "color": "#636efa",
          "dash": "solid"
         },
         "marker": {
          "symbol": "circle"
         },
         "mode": "lines+markers",
         "name": "Euro area",
         "showlegend": true,
         "type": "scattergl",
         "x": [
          2000,
          2005,
          2010,
          2015,
          2020
         ],
         "xaxis": "x",
         "y": [
          9.43,
          9.02,
          10.07,
          10.84,
          7.83
         ],
         "yaxis": "y"
        },
        {
         "hovertemplate": "%{y}% unemployment in %{x}",
         "legendgroup": "Eritrea",
         "line": {
          "color": "#EF553B",
          "dash": "solid"
         },
         "marker": {
          "symbol": "circle"
         },
         "mode": "lines+markers",
         "name": "Eritrea",
         "showlegend": true,
         "type": "scattergl",
         "x": [
          2000,
          2005,
          2010,
          2015,
          2020
         ],
         "xaxis": "x",
         "y": [
          5.88,
          5.26,
          5.49,
          5.83,
          7.86
         ],
         "yaxis": "y"
        },
        {
         "hovertemplate": "%{y}% unemployment in %{x}",
         "legendgroup": "Spain",
         "line": {
          "color": "#00cc96",
          "dash": "solid"
         },
         "marker": {
          "symbol": "circle"
         },
         "mode": "lines+markers",
         "name": "Spain",
         "showlegend": true,
         "type": "scattergl",
         "x": [
          2000,
          2005,
          2010,
          2015,
          2020
         ],
         "xaxis": "x",
         "y": [
          13.79,
          9.15,
          19.86,
          22.06,
          15.53
         ],
         "yaxis": "y"
        },
        {
         "hovertemplate": "%{y}% unemployment in %{x}",
         "legendgroup": "Estonia",
         "line": {
          "color": "#ab63fa",
          "dash": "solid"
         },
         "marker": {
          "symbol": "circle"
         },
         "mode": "lines+markers",
         "name": "Estonia",
         "showlegend": true,
         "type": "scattergl",
         "x": [
          2000,
          2005,
          2010,
          2015,
          2020
         ],
         "xaxis": "x",
         "y": [
          13.36,
          8.03,
          16.71,
          6.19,
          6.8
         ],
         "yaxis": "y"
        },
        {
         "hovertemplate": "%{y}% unemployment in %{x}",
         "legendgroup": "Ethiopia",
         "line": {
          "color": "#FFA15A",
          "dash": "solid"
         },
         "marker": {
          "symbol": "circle"
         },
         "mode": "lines+markers",
         "name": "Ethiopia",
         "showlegend": true,
         "type": "scattergl",
         "x": [
          2000,
          2005,
          2010,
          2015,
          2020
         ],
         "xaxis": "x",
         "y": [
          3.51,
          2.5,
          2.34,
          2.27,
          3.24
         ],
         "yaxis": "y"
        },
        {
         "hovertemplate": "%{y}% unemployment in %{x}",
         "legendgroup": "European Union",
         "line": {
          "color": "#19d3f3",
          "dash": "solid"
         },
         "marker": {
          "symbol": "circle"
         },
         "mode": "lines+markers",
         "name": "European Union",
         "showlegend": true,
         "type": "scattergl",
         "x": [
          2000,
          2005,
          2010,
          2015,
          2020
         ],
         "xaxis": "x",
         "y": [
          9.83,
          9.56,
          9.8,
          10.03,
          7.05
         ],
         "yaxis": "y"
        },
        {
         "hovertemplate": "%{y}% unemployment in %{x}",
         "legendgroup": "Fragile and conflict affected situations",
         "line": {
          "color": "#FF6692",
          "dash": "solid"
         },
         "marker": {
          "symbol": "circle"
         },
         "mode": "lines+markers",
         "name": "Fragile and conflict affected situations",
         "showlegend": true,
         "type": "scattergl",
         "x": [
          2000,
          2005,
          2010,
          2015,
          2020
         ],
         "xaxis": "x",
         "y": [
          6.14,
          5.52,
          5.45,
          5.78,
          7.4
         ],
         "yaxis": "y"
        },
        {
         "hovertemplate": "%{y}% unemployment in %{x}",
         "legendgroup": "Finland",
         "line": {
          "color": "#B6E880",
          "dash": "solid"
         },
         "marker": {
          "symbol": "circle"
         },
         "mode": "lines+markers",
         "name": "Finland",
         "showlegend": true,
         "type": "scattergl",
         "x": [
          2000,
          2005,
          2010,
          2015,
          2020
         ],
         "xaxis": "x",
         "y": [
          11.13,
          8.38,
          8.39,
          9.38,
          7.76
         ],
         "yaxis": "y"
        },
        {
         "hovertemplate": "%{y}% unemployment in %{x}",
         "legendgroup": "Fiji",
         "line": {
          "color": "#FF97FF",
          "dash": "solid"
         },
         "marker": {
          "symbol": "circle"
         },
         "mode": "lines+markers",
         "name": "Fiji",
         "showlegend": true,
         "type": "scattergl",
         "x": [
          2000,
          2005,
          2010,
          2015,
          2020
         ],
         "xaxis": "x",
         "y": [
          3.99,
          3.89,
          4.31,
          4.3,
          4.72
         ],
         "yaxis": "y"
        },
        {
         "hovertemplate": "%{y}% unemployment in %{x}",
         "legendgroup": "France",
         "line": {
          "color": "#FECB52",
          "dash": "solid"
         },
         "marker": {
          "symbol": "circle"
         },
         "mode": "lines+markers",
         "name": "France",
         "showlegend": true,
         "type": "scattergl",
         "x": [
          2000,
          2005,
          2010,
          2015,
          2020
         ],
         "xaxis": "x",
         "y": [
          10.22,
          8.49,
          8.87,
          10.35,
          8.01
         ],
         "yaxis": "y"
        },
        {
         "hovertemplate": "%{y}% unemployment in %{x}",
         "legendgroup": "Gabon",
         "line": {
          "color": "#636efa",
          "dash": "solid"
         },
         "marker": {
          "symbol": "circle"
         },
         "mode": "lines+markers",
         "name": "Gabon",
         "showlegend": true,
         "type": "scattergl",
         "x": [
          2000,
          2005,
          2010,
          2015,
          2020
         ],
         "xaxis": "x",
         "y": [
          17.34,
          16.91,
          20.39,
          20.61,
          21.97
         ],
         "yaxis": "y"
        },
        {
         "hovertemplate": "%{y}% unemployment in %{x}",
         "legendgroup": "United Kingdom",
         "line": {
          "color": "#EF553B",
          "dash": "solid"
         },
         "marker": {
          "symbol": "circle"
         },
         "mode": "lines+markers",
         "name": "United Kingdom",
         "showlegend": true,
         "type": "scattergl",
         "x": [
          2000,
          2005,
          2010,
          2015,
          2020
         ],
         "xaxis": "x",
         "y": [
          5.56,
          4.75,
          7.79,
          5.3,
          4.47
         ],
         "yaxis": "y"
        },
        {
         "hovertemplate": "%{y}% unemployment in %{x}",
         "legendgroup": "Georgia",
         "line": {
          "color": "#00cc96",
          "dash": "solid"
         },
         "marker": {
          "symbol": "circle"
         },
         "mode": "lines+markers",
         "name": "Georgia",
         "showlegend": true,
         "type": "scattergl",
         "x": [
          2000,
          2005,
          2010,
          2015,
          2020
         ],
         "xaxis": "x",
         "y": [
          10.82,
          13.81,
          20.2,
          16.51,
          18.5
         ],
         "yaxis": "y"
        },
        {
         "hovertemplate": "%{y}% unemployment in %{x}",
         "legendgroup": "Ghana",
         "line": {
          "color": "#ab63fa",
          "dash": "solid"
         },
         "marker": {
          "symbol": "circle"
         },
         "mode": "lines+markers",
         "name": "Ghana",
         "showlegend": true,
         "type": "scattergl",
         "x": [
          2000,
          2005,
          2010,
          2015,
          2020
         ],
         "xaxis": "x",
         "y": [
          10.46,
          5.62,
          5.38,
          6.81,
          4.65
         ],
         "yaxis": "y"
        },
        {
         "hovertemplate": "%{y}% unemployment in %{x}",
         "legendgroup": "Guinea",
         "line": {
          "color": "#FFA15A",
          "dash": "solid"
         },
         "marker": {
          "symbol": "circle"
         },
         "mode": "lines+markers",
         "name": "Guinea",
         "showlegend": true,
         "type": "scattergl",
         "x": [
          2000,
          2005,
          2010,
          2015,
          2020
         ],
         "xaxis": "x",
         "y": [
          4.55,
          4.65,
          4.77,
          4.92,
          6.1
         ],
         "yaxis": "y"
        },
        {
         "hovertemplate": "%{y}% unemployment in %{x}",
         "legendgroup": "Gambia, The",
         "line": {
          "color": "#19d3f3",
          "dash": "solid"
         },
         "marker": {
          "symbol": "circle"
         },
         "mode": "lines+markers",
         "name": "Gambia, The",
         "showlegend": true,
         "type": "scattergl",
         "x": [
          2000,
          2005,
          2010,
          2015,
          2020
         ],
         "xaxis": "x",
         "y": [
          9.08,
          9.29,
          9.36,
          9.47,
          11.08
         ],
         "yaxis": "y"
        },
        {
         "hovertemplate": "%{y}% unemployment in %{x}",
         "legendgroup": "Guinea-Bissau",
         "line": {
          "color": "#FF6692",
          "dash": "solid"
         },
         "marker": {
          "symbol": "circle"
         },
         "mode": "lines+markers",
         "name": "Guinea-Bissau",
         "showlegend": true,
         "type": "scattergl",
         "x": [
          2000,
          2005,
          2010,
          2015,
          2020
         ],
         "xaxis": "x",
         "y": [
          6.25,
          6.21,
          6.08,
          5.87,
          6.74
         ],
         "yaxis": "y"
        },
        {
         "hovertemplate": "%{y}% unemployment in %{x}",
         "legendgroup": "Equatorial Guinea",
         "line": {
          "color": "#B6E880",
          "dash": "solid"
         },
         "marker": {
          "symbol": "circle"
         },
         "mode": "lines+markers",
         "name": "Equatorial Guinea",
         "showlegend": true,
         "type": "scattergl",
         "x": [
          2000,
          2005,
          2010,
          2015,
          2020
         ],
         "xaxis": "x",
         "y": [
          8.45,
          8.75,
          8.82,
          8.54,
          9.9
         ],
         "yaxis": "y"
        },
        {
         "hovertemplate": "%{y}% unemployment in %{x}",
         "legendgroup": "Greece",
         "line": {
          "color": "#FF97FF",
          "dash": "solid"
         },
         "marker": {
          "symbol": "circle"
         },
         "mode": "lines+markers",
         "name": "Greece",
         "showlegend": true,
         "type": "scattergl",
         "x": [
          2000,
          2005,
          2010,
          2015,
          2020
         ],
         "xaxis": "x",
         "y": [
          11.25,
          9.99,
          12.71,
          24.9,
          16.3
         ],
         "yaxis": "y"
        },
        {
         "hovertemplate": "%{y}% unemployment in %{x}",
         "legendgroup": "Guatemala",
         "line": {
          "color": "#FECB52",
          "dash": "solid"
         },
         "marker": {
          "symbol": "circle"
         },
         "mode": "lines+markers",
         "name": "Guatemala",
         "showlegend": true,
         "type": "scattergl",
         "x": [
          2000,
          2005,
          2010,
          2015,
          2020
         ],
         "xaxis": "x",
         "y": [
          2.72,
          3.05,
          3.5,
          2.51,
          3.55
         ],
         "yaxis": "y"
        },
        {
         "hovertemplate": "%{y}% unemployment in %{x}",
         "legendgroup": "Guam",
         "line": {
          "color": "#636efa",
          "dash": "solid"
         },
         "marker": {
          "symbol": "circle"
         },
         "mode": "lines+markers",
         "name": "Guam",
         "showlegend": true,
         "type": "scattergl",
         "x": [
          2000,
          2005,
          2010,
          2015,
          2020
         ],
         "xaxis": "x",
         "y": [
          15.32,
          7,
          8.2,
          6.9,
          6.8
         ],
         "yaxis": "y"
        },
        {
         "hovertemplate": "%{y}% unemployment in %{x}",
         "legendgroup": "Guyana",
         "line": {
          "color": "#EF553B",
          "dash": "solid"
         },
         "marker": {
          "symbol": "circle"
         },
         "mode": "lines+markers",
         "name": "Guyana",
         "showlegend": true,
         "type": "scattergl",
         "x": [
          2000,
          2005,
          2010,
          2015,
          2020
         ],
         "xaxis": "x",
         "y": [
          11.86,
          11.02,
          11.8,
          13.21,
          16.43
         ],
         "yaxis": "y"
        },
        {
         "hovertemplate": "%{y}% unemployment in %{x}",
         "legendgroup": "High income",
         "line": {
          "color": "#00cc96",
          "dash": "solid"
         },
         "marker": {
          "symbol": "circle"
         },
         "mode": "lines+markers",
         "name": "High income",
         "showlegend": true,
         "type": "scattergl",
         "x": [
          2000,
          2005,
          2010,
          2015,
          2020
         ],
         "xaxis": "x",
         "y": [
          6.53,
          6.67,
          8.19,
          6.63,
          6.49
         ],
         "yaxis": "y"
        },
        {
         "hovertemplate": "%{y}% unemployment in %{x}",
         "legendgroup": "Hong Kong SAR, China",
         "line": {
          "color": "#ab63fa",
          "dash": "solid"
         },
         "marker": {
          "symbol": "circle"
         },
         "mode": "lines+markers",
         "name": "Hong Kong SAR, China",
         "showlegend": true,
         "type": "scattergl",
         "x": [
          2000,
          2005,
          2010,
          2015,
          2020
         ],
         "xaxis": "x",
         "y": [
          4.92,
          5.58,
          4.33,
          3.31,
          5.83
         ],
         "yaxis": "y"
        },
        {
         "hovertemplate": "%{y}% unemployment in %{x}",
         "legendgroup": "Honduras",
         "line": {
          "color": "#FFA15A",
          "dash": "solid"
         },
         "marker": {
          "symbol": "circle"
         },
         "mode": "lines+markers",
         "name": "Honduras",
         "showlegend": true,
         "type": "scattergl",
         "x": [
          2000,
          2005,
          2010,
          2015,
          2020
         ],
         "xaxis": "x",
         "y": [
          3.84,
          4.91,
          4.12,
          6.15,
          8.37
         ],
         "yaxis": "y"
        },
        {
         "hovertemplate": "%{y}% unemployment in %{x}",
         "legendgroup": "Heavily indebted poor countries (HIPC)",
         "line": {
          "color": "#19d3f3",
          "dash": "solid"
         },
         "marker": {
          "symbol": "circle"
         },
         "mode": "lines+markers",
         "name": "Heavily indebted poor countries (HIPC)",
         "showlegend": true,
         "type": "scattergl",
         "x": [
          2000,
          2005,
          2010,
          2015,
          2020
         ],
         "xaxis": "x",
         "y": [
          5.22,
          4.97,
          5.08,
          4.77,
          5.43
         ],
         "yaxis": "y"
        },
        {
         "hovertemplate": "%{y}% unemployment in %{x}",
         "legendgroup": "Croatia",
         "line": {
          "color": "#FF6692",
          "dash": "solid"
         },
         "marker": {
          "symbol": "circle"
         },
         "mode": "lines+markers",
         "name": "Croatia",
         "showlegend": true,
         "type": "scattergl",
         "x": [
          2000,
          2005,
          2010,
          2015,
          2020
         ],
         "xaxis": "x",
         "y": [
          16.06,
          12.6,
          11.62,
          16.18,
          7.51
         ],
         "yaxis": "y"
        },
        {
         "hovertemplate": "%{y}% unemployment in %{x}",
         "legendgroup": "Haiti",
         "line": {
          "color": "#B6E880",
          "dash": "solid"
         },
         "marker": {
          "symbol": "circle"
         },
         "mode": "lines+markers",
         "name": "Haiti",
         "showlegend": true,
         "type": "scattergl",
         "x": [
          2000,
          2005,
          2010,
          2015,
          2020
         ],
         "xaxis": "x",
         "y": [
          8.4,
          14.42,
          15.38,
          13.96,
          15.45
         ],
         "yaxis": "y"
        },
        {
         "hovertemplate": "%{y}% unemployment in %{x}",
         "legendgroup": "Hungary",
         "line": {
          "color": "#FF97FF",
          "dash": "solid"
         },
         "marker": {
          "symbol": "circle"
         },
         "mode": "lines+markers",
         "name": "Hungary",
         "showlegend": true,
         "type": "scattergl",
         "x": [
          2000,
          2005,
          2010,
          2015,
          2020
         ],
         "xaxis": "x",
         "y": [
          6.56,
          7.19,
          11.17,
          6.81,
          4.25
         ],
         "yaxis": "y"
        },
        {
         "hovertemplate": "%{y}% unemployment in %{x}",
         "legendgroup": "IBRD only",
         "line": {
          "color": "#FECB52",
          "dash": "solid"
         },
         "marker": {
          "symbol": "circle"
         },
         "mode": "lines+markers",
         "name": "IBRD only",
         "showlegend": true,
         "type": "scattergl",
         "x": [
          2000,
          2005,
          2010,
          2015,
          2020
         ],
         "xaxis": "x",
         "y": [
          6.02,
          6.24,
          5.78,
          5.71,
          6.88
         ],
         "yaxis": "y"
        },
        {
         "hovertemplate": "%{y}% unemployment in %{x}",
         "legendgroup": "IDA & IBRD total",
         "line": {
          "color": "#636efa",
          "dash": "solid"
         },
         "marker": {
          "symbol": "circle"
         },
         "mode": "lines+markers",
         "name": "IDA & IBRD total",
         "showlegend": true,
         "type": "scattergl",
         "x": [
          2000,
          2005,
          2010,
          2015,
          2020
         ],
         "xaxis": "x",
         "y": [
          5.72,
          5.85,
          5.44,
          5.44,
          6.61
         ],
         "yaxis": "y"
        },
        {
         "hovertemplate": "%{y}% unemployment in %{x}",
         "legendgroup": "IDA total",
         "line": {
          "color": "#EF553B",
          "dash": "solid"
         },
         "marker": {
          "symbol": "circle"
         },
         "mode": "lines+markers",
         "name": "IDA total",
         "showlegend": true,
         "type": "scattergl",
         "x": [
          2000,
          2005,
          2010,
          2015,
          2020
         ],
         "xaxis": "x",
         "y": [
          4.36,
          4.18,
          4.09,
          4.43,
          5.7
         ],
         "yaxis": "y"
        },
        {
         "hovertemplate": "%{y}% unemployment in %{x}",
         "legendgroup": "IDA blend",
         "line": {
          "color": "#00cc96",
          "dash": "solid"
         },
         "marker": {
          "symbol": "circle"
         },
         "mode": "lines+markers",
         "name": "IDA blend",
         "showlegend": true,
         "type": "scattergl",
         "x": [
          2000,
          2005,
          2010,
          2015,
          2020
         ],
         "xaxis": "x",
         "y": [
          3.86,
          3.12,
          2.93,
          4.07,
          6.59
         ],
         "yaxis": "y"
        },
        {
         "hovertemplate": "%{y}% unemployment in %{x}",
         "legendgroup": "Indonesia",
         "line": {
          "color": "#ab63fa",
          "dash": "solid"
         },
         "marker": {
          "symbol": "circle"
         },
         "mode": "lines+markers",
         "name": "Indonesia",
         "showlegend": true,
         "type": "scattergl",
         "x": [
          2000,
          2005,
          2010,
          2015,
          2020
         ],
         "xaxis": "x",
         "y": [
          6.08,
          7.94,
          5.61,
          4.51,
          4.28
         ],
         "yaxis": "y"
        },
        {
         "hovertemplate": "%{y}% unemployment in %{x}",
         "legendgroup": "IDA only",
         "line": {
          "color": "#FFA15A",
          "dash": "solid"
         },
         "marker": {
          "symbol": "circle"
         },
         "mode": "lines+markers",
         "name": "IDA only",
         "showlegend": true,
         "type": "scattergl",
         "x": [
          2000,
          2005,
          2010,
          2015,
          2020
         ],
         "xaxis": "x",
         "y": [
          4.59,
          4.65,
          4.61,
          4.6,
          5.31
         ],
         "yaxis": "y"
        },
        {
         "hovertemplate": "%{y}% unemployment in %{x}",
         "legendgroup": "India",
         "line": {
          "color": "#19d3f3",
          "dash": "solid"
         },
         "marker": {
          "symbol": "circle"
         },
         "mode": "lines+markers",
         "name": "India",
         "showlegend": true,
         "type": "scattergl",
         "x": [
          2000,
          2005,
          2010,
          2015,
          2020
         ],
         "xaxis": "x",
         "y": [
          5.56,
          5.61,
          5.55,
          5.43,
          8
         ],
         "yaxis": "y"
        },
        {
         "hovertemplate": "%{y}% unemployment in %{x}",
         "legendgroup": "Ireland",
         "line": {
          "color": "#FF6692",
          "dash": "solid"
         },
         "marker": {
          "symbol": "circle"
         },
         "mode": "lines+markers",
         "name": "Ireland",
         "showlegend": true,
         "type": "scattergl",
         "x": [
          2000,
          2005,
          2010,
          2015,
          2020
         ],
         "xaxis": "x",
         "y": [
          4.32,
          4.34,
          14.53,
          9.91,
          5.62
         ],
         "yaxis": "y"
        },
        {
         "hovertemplate": "%{y}% unemployment in %{x}",
         "legendgroup": "Iran, Islamic Rep.",
         "line": {
          "color": "#B6E880",
          "dash": "solid"
         },
         "marker": {
          "symbol": "circle"
         },
         "mode": "lines+markers",
         "name": "Iran, Islamic Rep.",
         "showlegend": true,
         "type": "scattergl",
         "x": [
          2000,
          2005,
          2010,
          2015,
          2020
         ],
         "xaxis": "x",
         "y": [
          11.57,
          11.81,
          13.68,
          11.17,
          12.17
         ],
         "yaxis": "y"
        },
        {
         "hovertemplate": "%{y}% unemployment in %{x}",
         "legendgroup": "Iraq",
         "line": {
          "color": "#FF97FF",
          "dash": "solid"
         },
         "marker": {
          "symbol": "circle"
         },
         "mode": "lines+markers",
         "name": "Iraq",
         "showlegend": true,
         "type": "scattergl",
         "x": [
          2000,
          2005,
          2010,
          2015,
          2020
         ],
         "xaxis": "x",
         "y": [
          8.73,
          8.71,
          8.25,
          10.73,
          14.09
         ],
         "yaxis": "y"
        },
        {
         "hovertemplate": "%{y}% unemployment in %{x}",
         "legendgroup": "Iceland",
         "line": {
          "color": "#FECB52",
          "dash": "solid"
         },
         "marker": {
          "symbol": "circle"
         },
         "mode": "lines+markers",
         "name": "Iceland",
         "showlegend": true,
         "type": "scattergl",
         "x": [
          2000,
          2005,
          2010,
          2015,
          2020
         ],
         "xaxis": "x",
         "y": [
          1.94,
          2.55,
          7.56,
          3.98,
          5.48
         ],
         "yaxis": "y"
        },
        {
         "hovertemplate": "%{y}% unemployment in %{x}",
         "legendgroup": "Israel",
         "line": {
          "color": "#636efa",
          "dash": "solid"
         },
         "marker": {
          "symbol": "circle"
         },
         "mode": "lines+markers",
         "name": "Israel",
         "showlegend": true,
         "type": "scattergl",
         "x": [
          2000,
          2005,
          2010,
          2015,
          2020
         ],
         "xaxis": "x",
         "y": [
          11.1,
          11.34,
          8.48,
          5.25,
          4.33
         ],
         "yaxis": "y"
        },
        {
         "hovertemplate": "%{y}% unemployment in %{x}",
         "legendgroup": "Italy",
         "line": {
          "color": "#EF553B",
          "dash": "solid"
         },
         "marker": {
          "symbol": "circle"
         },
         "mode": "lines+markers",
         "name": "Italy",
         "showlegend": true,
         "type": "scattergl",
         "x": [
          2000,
          2005,
          2010,
          2015,
          2020
         ],
         "xaxis": "x",
         "y": [
          10.84,
          7.73,
          8.36,
          11.9,
          9.16
         ],
         "yaxis": "y"
        },
        {
         "hovertemplate": "%{y}% unemployment in %{x}",
         "legendgroup": "Jamaica",
         "line": {
          "color": "#00cc96",
          "dash": "solid"
         },
         "marker": {
          "symbol": "circle"
         },
         "mode": "lines+markers",
         "name": "Jamaica",
         "showlegend": true,
         "type": "scattergl",
         "x": [
          2000,
          2005,
          2010,
          2015,
          2020
         ],
         "xaxis": "x",
         "y": [
          15.54,
          11.26,
          12.37,
          13.51,
          9.48
         ],
         "yaxis": "y"
        },
        {
         "hovertemplate": "%{y}% unemployment in %{x}",
         "legendgroup": "Jordan",
         "line": {
          "color": "#ab63fa",
          "dash": "solid"
         },
         "marker": {
          "symbol": "circle"
         },
         "mode": "lines+markers",
         "name": "Jordan",
         "showlegend": true,
         "type": "scattergl",
         "x": [
          2000,
          2005,
          2010,
          2015,
          2020
         ],
         "xaxis": "x",
         "y": [
          13.7,
          14.8,
          12.5,
          13.08,
          19.03
         ],
         "yaxis": "y"
        },
        {
         "hovertemplate": "%{y}% unemployment in %{x}",
         "legendgroup": "Japan",
         "line": {
          "color": "#FFA15A",
          "dash": "solid"
         },
         "marker": {
          "symbol": "circle"
         },
         "mode": "lines+markers",
         "name": "Japan",
         "showlegend": true,
         "type": "scattergl",
         "x": [
          2000,
          2005,
          2010,
          2015,
          2020
         ],
         "xaxis": "x",
         "y": [
          4.75,
          4.45,
          5.1,
          3.4,
          2.8
         ],
         "yaxis": "y"
        },
        {
         "hovertemplate": "%{y}% unemployment in %{x}",
         "legendgroup": "Kazakhstan",
         "line": {
          "color": "#19d3f3",
          "dash": "solid"
         },
         "marker": {
          "symbol": "circle"
         },
         "mode": "lines+markers",
         "name": "Kazakhstan",
         "showlegend": true,
         "type": "scattergl",
         "x": [
          2000,
          2005,
          2010,
          2015,
          2020
         ],
         "xaxis": "x",
         "y": [
          12.75,
          8.13,
          5.77,
          4.93,
          4.89
         ],
         "yaxis": "y"
        },
        {
         "hovertemplate": "%{y}% unemployment in %{x}",
         "legendgroup": "Kenya",
         "line": {
          "color": "#FF6692",
          "dash": "solid"
         },
         "marker": {
          "symbol": "circle"
         },
         "mode": "lines+markers",
         "name": "Kenya",
         "showlegend": true,
         "type": "scattergl",
         "x": [
          2000,
          2005,
          2010,
          2015,
          2020
         ],
         "xaxis": "x",
         "y": [
          3.02,
          2.92,
          2.84,
          2.78,
          5.73
         ],
         "yaxis": "y"
        },
        {
         "hovertemplate": "%{y}% unemployment in %{x}",
         "legendgroup": "Kyrgyz Republic",
         "line": {
          "color": "#B6E880",
          "dash": "solid"
         },
         "marker": {
          "symbol": "circle"
         },
         "mode": "lines+markers",
         "name": "Kyrgyz Republic",
         "showlegend": true,
         "type": "scattergl",
         "x": [
          2000,
          2005,
          2010,
          2015,
          2020
         ],
         "xaxis": "x",
         "y": [
          7.54,
          8.11,
          8.64,
          7.56,
          8.71
         ],
         "yaxis": "y"
        },
        {
         "hovertemplate": "%{y}% unemployment in %{x}",
         "legendgroup": "Cambodia",
         "line": {
          "color": "#FF97FF",
          "dash": "solid"
         },
         "marker": {
          "symbol": "circle"
         },
         "mode": "lines+markers",
         "name": "Cambodia",
         "showlegend": true,
         "type": "scattergl",
         "x": [
          2000,
          2005,
          2010,
          2015,
          2020
         ],
         "xaxis": "x",
         "y": [
          0.97,
          1.13,
          0.77,
          0.39,
          0.33
         ],
         "yaxis": "y"
        },
        {
         "hovertemplate": "%{y}% unemployment in %{x}",
         "legendgroup": "Korea, Rep.",
         "line": {
          "color": "#FECB52",
          "dash": "solid"
         },
         "marker": {
          "symbol": "circle"
         },
         "mode": "lines+markers",
         "name": "Korea, Rep.",
         "showlegend": true,
         "type": "scattergl",
         "x": [
          2000,
          2005,
          2010,
          2015,
          2020
         ],
         "xaxis": "x",
         "y": [
          4.06,
          3.48,
          3.32,
          3.55,
          3.93
         ],
         "yaxis": "y"
        },
        {
         "hovertemplate": "%{y}% unemployment in %{x}",
         "legendgroup": "Kuwait",
         "line": {
          "color": "#636efa",
          "dash": "solid"
         },
         "marker": {
          "symbol": "circle"
         },
         "mode": "lines+markers",
         "name": "Kuwait",
         "showlegend": true,
         "type": "scattergl",
         "x": [
          2000,
          2005,
          2010,
          2015,
          2020
         ],
         "xaxis": "x",
         "y": [
          0.8,
          1.5,
          1.82,
          2.2,
          3.54
         ],
         "yaxis": "y"
        },
        {
         "hovertemplate": "%{y}% unemployment in %{x}",
         "legendgroup": "Latin America & Caribbean (excluding high income)",
         "line": {
          "color": "#EF553B",
          "dash": "solid"
         },
         "marker": {
          "symbol": "circle"
         },
         "mode": "lines+markers",
         "name": "Latin America & Caribbean (excluding high income)",
         "showlegend": true,
         "type": "scattergl",
         "x": [
          2000,
          2005,
          2010,
          2015,
          2020
         ],
         "xaxis": "x",
         "y": [
          8.7,
          7.65,
          6.7,
          6.66,
          10.16
         ],
         "yaxis": "y"
        },
        {
         "hovertemplate": "%{y}% unemployment in %{x}",
         "legendgroup": "Lao PDR",
         "line": {
          "color": "#00cc96",
          "dash": "solid"
         },
         "marker": {
          "symbol": "circle"
         },
         "mode": "lines+markers",
         "name": "Lao PDR",
         "showlegend": true,
         "type": "scattergl",
         "x": [
          2000,
          2005,
          2010,
          2015,
          2020
         ],
         "xaxis": "x",
         "y": [
          2.06,
          1.35,
          0.71,
          0.78,
          1.03
         ],
         "yaxis": "y"
        },
        {
         "hovertemplate": "%{y}% unemployment in %{x}",
         "legendgroup": "Lebanon",
         "line": {
          "color": "#ab63fa",
          "dash": "solid"
         },
         "marker": {
          "symbol": "circle"
         },
         "mode": "lines+markers",
         "name": "Lebanon",
         "showlegend": true,
         "type": "scattergl",
         "x": [
          2000,
          2005,
          2010,
          2015,
          2020
         ],
         "xaxis": "x",
         "y": [
          8.31,
          8.28,
          6.84,
          9.32,
          13.3
         ],
         "yaxis": "y"
        },
        {
         "hovertemplate": "%{y}% unemployment in %{x}",
         "legendgroup": "Liberia",
         "line": {
          "color": "#FFA15A",
          "dash": "solid"
         },
         "marker": {
          "symbol": "circle"
         },
         "mode": "lines+markers",
         "name": "Liberia",
         "showlegend": true,
         "type": "scattergl",
         "x": [
          2000,
          2005,
          2010,
          2015,
          2020
         ],
         "xaxis": "x",
         "y": [
          2.08,
          2.19,
          2.27,
          2.08,
          3.98
         ],
         "yaxis": "y"
        },
        {
         "hovertemplate": "%{y}% unemployment in %{x}",
         "legendgroup": "Libya",
         "line": {
          "color": "#19d3f3",
          "dash": "solid"
         },
         "marker": {
          "symbol": "circle"
         },
         "mode": "lines+markers",
         "name": "Libya",
         "showlegend": true,
         "type": "scattergl",
         "x": [
          2000,
          2005,
          2010,
          2015,
          2020
         ],
         "xaxis": "x",
         "y": [
          19.67,
          19.39,
          19.27,
          19.53,
          20.07
         ],
         "yaxis": "y"
        },
        {
         "hovertemplate": "%{y}% unemployment in %{x}",
         "legendgroup": "St. Lucia",
         "line": {
          "color": "#FF6692",
          "dash": "solid"
         },
         "marker": {
          "symbol": "circle"
         },
         "mode": "lines+markers",
         "name": "St. Lucia",
         "showlegend": true,
         "type": "scattergl",
         "x": [
          2000,
          2005,
          2010,
          2015,
          2020
         ],
         "xaxis": "x",
         "y": [
          16.49,
          18.7,
          17.11,
          20.56,
          16.89
         ],
         "yaxis": "y"
        },
        {
         "hovertemplate": "%{y}% unemployment in %{x}",
         "legendgroup": "Latin America & Caribbean",
         "line": {
          "color": "#B6E880",
          "dash": "solid"
         },
         "marker": {
          "symbol": "circle"
         },
         "mode": "lines+markers",
         "name": "Latin America & Caribbean",
         "showlegend": true,
         "type": "scattergl",
         "x": [
          2000,
          2005,
          2010,
          2015,
          2020
         ],
         "xaxis": "x",
         "y": [
          9.01,
          7.86,
          6.8,
          6.63,
          10.06
         ],
         "yaxis": "y"
        },
        {
         "hovertemplate": "%{y}% unemployment in %{x}",
         "legendgroup": "Least developed countries: UN classification",
         "line": {
          "color": "#FF97FF",
          "dash": "solid"
         },
         "marker": {
          "symbol": "circle"
         },
         "mode": "lines+markers",
         "name": "Least developed countries: UN classification",
         "showlegend": true,
         "type": "scattergl",
         "x": [
          2000,
          2005,
          2010,
          2015,
          2020
         ],
         "xaxis": "x",
         "y": [
          4.18,
          4.41,
          4.51,
          4.52,
          5.32
         ],
         "yaxis": "y"
        },
        {
         "hovertemplate": "%{y}% unemployment in %{x}",
         "legendgroup": "Low income",
         "line": {
          "color": "#FECB52",
          "dash": "solid"
         },
         "marker": {
          "symbol": "circle"
         },
         "mode": "lines+markers",
         "name": "Low income",
         "showlegend": true,
         "type": "scattergl",
         "x": [
          2000,
          2005,
          2010,
          2015,
          2020
         ],
         "xaxis": "x",
         "y": [
          5.2,
          5.08,
          5.17,
          5.04,
          5.83
         ],
         "yaxis": "y"
        },
        {
         "hovertemplate": "%{y}% unemployment in %{x}",
         "legendgroup": "Sri Lanka",
         "line": {
          "color": "#636efa",
          "dash": "solid"
         },
         "marker": {
          "symbol": "circle"
         },
         "mode": "lines+markers",
         "name": "Sri Lanka",
         "showlegend": true,
         "type": "scattergl",
         "x": [
          2000,
          2005,
          2010,
          2015,
          2020
         ],
         "xaxis": "x",
         "y": [
          7.74,
          7.67,
          4.78,
          4.52,
          5.88
         ],
         "yaxis": "y"
        },
        {
         "hovertemplate": "%{y}% unemployment in %{x}",
         "legendgroup": "Lower middle income",
         "line": {
          "color": "#EF553B",
          "dash": "solid"
         },
         "marker": {
          "symbol": "circle"
         },
         "mode": "lines+markers",
         "name": "Lower middle income",
         "showlegend": true,
         "type": "scattergl",
         "x": [
          2000,
          2005,
          2010,
          2015,
          2020
         ],
         "xaxis": "x",
         "y": [
          5.63,
          5.53,
          5.07,
          5.17,
          6.58
         ],
         "yaxis": "y"
        },
        {
         "hovertemplate": "%{y}% unemployment in %{x}",
         "legendgroup": "Low & middle income",
         "line": {
          "color": "#00cc96",
          "dash": "solid"
         },
         "marker": {
          "symbol": "circle"
         },
         "mode": "lines+markers",
         "name": "Low & middle income",
         "showlegend": true,
         "type": "scattergl",
         "x": [
          2000,
          2005,
          2010,
          2015,
          2020
         ],
         "xaxis": "x",
         "y": [
          5.54,
          5.69,
          5.37,
          5.39,
          6.59
         ],
         "yaxis": "y"
        },
        {
         "hovertemplate": "%{y}% unemployment in %{x}",
         "legendgroup": "Lesotho",
         "line": {
          "color": "#ab63fa",
          "dash": "solid"
         },
         "marker": {
          "symbol": "circle"
         },
         "mode": "lines+markers",
         "name": "Lesotho",
         "showlegend": true,
         "type": "scattergl",
         "x": [
          2000,
          2005,
          2010,
          2015,
          2020
         ],
         "xaxis": "x",
         "y": [
          35.46,
          31.31,
          27.08,
          23.84,
          24.56
         ],
         "yaxis": "y"
        },
        {
         "hovertemplate": "%{y}% unemployment in %{x}",
         "legendgroup": "Late-demographic dividend",
         "line": {
          "color": "#FFA15A",
          "dash": "solid"
         },
         "marker": {
          "symbol": "circle"
         },
         "mode": "lines+markers",
         "name": "Late-demographic dividend",
         "showlegend": true,
         "type": "scattergl",
         "x": [
          2000,
          2005,
          2010,
          2015,
          2020
         ],
         "xaxis": "x",
         "y": [
          5.18,
          5.53,
          5.15,
          5.08,
          5.89
         ],
         "yaxis": "y"
        },
        {
         "hovertemplate": "%{y}% unemployment in %{x}",
         "legendgroup": "Lithuania",
         "line": {
          "color": "#19d3f3",
          "dash": "solid"
         },
         "marker": {
          "symbol": "circle"
         },
         "mode": "lines+markers",
         "name": "Lithuania",
         "showlegend": true,
         "type": "scattergl",
         "x": [
          2000,
          2005,
          2010,
          2015,
          2020
         ],
         "xaxis": "x",
         "y": [
          15.93,
          8.32,
          17.81,
          9.12,
          8.49
         ],
         "yaxis": "y"
        },
        {
         "hovertemplate": "%{y}% unemployment in %{x}",
         "legendgroup": "Luxembourg",
         "line": {
          "color": "#FF6692",
          "dash": "solid"
         },
         "marker": {
          "symbol": "circle"
         },
         "mode": "lines+markers",
         "name": "Luxembourg",
         "showlegend": true,
         "type": "scattergl",
         "x": [
          2000,
          2005,
          2010,
          2015,
          2020
         ],
         "xaxis": "x",
         "y": [
          2.35,
          4.49,
          4.36,
          6.67,
          6.77
         ],
         "yaxis": "y"
        },
        {
         "hovertemplate": "%{y}% unemployment in %{x}",
         "legendgroup": "Latvia",
         "line": {
          "color": "#B6E880",
          "dash": "solid"
         },
         "marker": {
          "symbol": "circle"
         },
         "mode": "lines+markers",
         "name": "Latvia",
         "showlegend": true,
         "type": "scattergl",
         "x": [
          2000,
          2005,
          2010,
          2015,
          2020
         ],
         "xaxis": "x",
         "y": [
          14.21,
          10.03,
          19.48,
          9.87,
          8.1
         ],
         "yaxis": "y"
        },
        {
         "hovertemplate": "%{y}% unemployment in %{x}",
         "legendgroup": "Macao SAR, China",
         "line": {
          "color": "#FF97FF",
          "dash": "solid"
         },
         "marker": {
          "symbol": "circle"
         },
         "mode": "lines+markers",
         "name": "Macao SAR, China",
         "showlegend": true,
         "type": "scattergl",
         "x": [
          2000,
          2005,
          2010,
          2015,
          2020
         ],
         "xaxis": "x",
         "y": [
          6.87,
          4.16,
          2.84,
          1.81,
          2.57
         ],
         "yaxis": "y"
        },
        {
         "hovertemplate": "%{y}% unemployment in %{x}",
         "legendgroup": "Morocco",
         "line": {
          "color": "#FECB52",
          "dash": "solid"
         },
         "marker": {
          "symbol": "circle"
         },
         "mode": "lines+markers",
         "name": "Morocco",
         "showlegend": true,
         "type": "scattergl",
         "x": [
          2000,
          2005,
          2010,
          2015,
          2020
         ],
         "xaxis": "x",
         "y": [
          13.58,
          11.01,
          9.09,
          9.46,
          11.45
         ],
         "yaxis": "y"
        },
        {
         "hovertemplate": "%{y}% unemployment in %{x}",
         "legendgroup": "Moldova",
         "line": {
          "color": "#636efa",
          "dash": "solid"
         },
         "marker": {
          "symbol": "circle"
         },
         "mode": "lines+markers",
         "name": "Moldova",
         "showlegend": true,
         "type": "scattergl",
         "x": [
          2000,
          2005,
          2010,
          2015,
          2020
         ],
         "xaxis": "x",
         "y": [
          8.46,
          7.29,
          7.45,
          4.7,
          3.82
         ],
         "yaxis": "y"
        },
        {
         "hovertemplate": "%{y}% unemployment in %{x}",
         "legendgroup": "Madagascar",
         "line": {
          "color": "#EF553B",
          "dash": "solid"
         },
         "marker": {
          "symbol": "circle"
         },
         "mode": "lines+markers",
         "name": "Madagascar",
         "showlegend": true,
         "type": "scattergl",
         "x": [
          2000,
          2005,
          2010,
          2015,
          2020
         ],
         "xaxis": "x",
         "y": [
          5.8,
          2.62,
          4.28,
          1.79,
          2.47
         ],
         "yaxis": "y"
        },
        {
         "hovertemplate": "%{y}% unemployment in %{x}",
         "legendgroup": "Maldives",
         "line": {
          "color": "#00cc96",
          "dash": "solid"
         },
         "marker": {
          "symbol": "circle"
         },
         "mode": "lines+markers",
         "name": "Maldives",
         "showlegend": true,
         "type": "scattergl",
         "x": [
          2000,
          2005,
          2010,
          2015,
          2020
         ],
         "xaxis": "x",
         "y": [
          1.97,
          7.2,
          11.29,
          6.93,
          6.33
         ],
         "yaxis": "y"
        },
        {
         "hovertemplate": "%{y}% unemployment in %{x}",
         "legendgroup": "Middle East & North Africa",
         "line": {
          "color": "#ab63fa",
          "dash": "solid"
         },
         "marker": {
          "symbol": "circle"
         },
         "mode": "lines+markers",
         "name": "Middle East & North Africa",
         "showlegend": true,
         "type": "scattergl",
         "x": [
          2000,
          2005,
          2010,
          2015,
          2020
         ],
         "xaxis": "x",
         "y": [
          12.04,
          10.91,
          9.55,
          10.18,
          10.54
         ],
         "yaxis": "y"
        },
        {
         "hovertemplate": "%{y}% unemployment in %{x}",
         "legendgroup": "Mexico",
         "line": {
          "color": "#FFA15A",
          "dash": "solid"
         },
         "marker": {
          "symbol": "circle"
         },
         "mode": "lines+markers",
         "name": "Mexico",
         "showlegend": true,
         "type": "scattergl",
         "x": [
          2000,
          2005,
          2010,
          2015,
          2020
         ],
         "xaxis": "x",
         "y": [
          2.65,
          3.56,
          5.3,
          4.31,
          4.45
         ],
         "yaxis": "y"
        },
        {
         "hovertemplate": "%{y}% unemployment in %{x}",
         "legendgroup": "Middle income",
         "line": {
          "color": "#19d3f3",
          "dash": "solid"
         },
         "marker": {
          "symbol": "circle"
         },
         "mode": "lines+markers",
         "name": "Middle income",
         "showlegend": true,
         "type": "scattergl",
         "x": [
          2000,
          2005,
          2010,
          2015,
          2020
         ],
         "xaxis": "x",
         "y": [
          5.57,
          5.74,
          5.38,
          5.42,
          6.67
         ],
         "yaxis": "y"
        },
        {
         "hovertemplate": "%{y}% unemployment in %{x}",
         "legendgroup": "North Macedonia",
         "line": {
          "color": "#FF6692",
          "dash": "solid"
         },
         "marker": {
          "symbol": "circle"
         },
         "mode": "lines+markers",
         "name": "North Macedonia",
         "showlegend": true,
         "type": "scattergl",
         "x": [
          2000,
          2005,
          2010,
          2015,
          2020
         ],
         "xaxis": "x",
         "y": [
          32.2,
          37.25,
          32.02,
          26.07,
          17.2
         ],
         "yaxis": "y"
        },
        {
         "hovertemplate": "%{y}% unemployment in %{x}",
         "legendgroup": "Mali",
         "line": {
          "color": "#B6E880",
          "dash": "solid"
         },
         "marker": {
          "symbol": "circle"
         },
         "mode": "lines+markers",
         "name": "Mali",
         "showlegend": true,
         "type": "scattergl",
         "x": [
          2000,
          2005,
          2010,
          2015,
          2020
         ],
         "xaxis": "x",
         "y": [
          5.63,
          9.69,
          8.07,
          7.73,
          7.7
         ],
         "yaxis": "y"
        },
        {
         "hovertemplate": "%{y}% unemployment in %{x}",
         "legendgroup": "Malta",
         "line": {
          "color": "#FF97FF",
          "dash": "solid"
         },
         "marker": {
          "symbol": "circle"
         },
         "mode": "lines+markers",
         "name": "Malta",
         "showlegend": true,
         "type": "scattergl",
         "x": [
          2000,
          2005,
          2010,
          2015,
          2020
         ],
         "xaxis": "x",
         "y": [
          6.32,
          6.92,
          6.85,
          5.38,
          4.26
         ],
         "yaxis": "y"
        },
        {
         "hovertemplate": "%{y}% unemployment in %{x}",
         "legendgroup": "Myanmar",
         "line": {
          "color": "#FECB52",
          "dash": "solid"
         },
         "marker": {
          "symbol": "circle"
         },
         "mode": "lines+markers",
         "name": "Myanmar",
         "showlegend": true,
         "type": "scattergl",
         "x": [
          2000,
          2005,
          2010,
          2015,
          2020
         ],
         "xaxis": "x",
         "y": [
          0.65,
          0.67,
          0.72,
          0.77,
          1.06
         ],
         "yaxis": "y"
        },
        {
         "hovertemplate": "%{y}% unemployment in %{x}",
         "legendgroup": "Middle East & North Africa (excluding high income)",
         "line": {
          "color": "#636efa",
          "dash": "solid"
         },
         "marker": {
          "symbol": "circle"
         },
         "mode": "lines+markers",
         "name": "Middle East & North Africa (excluding high income)",
         "showlegend": true,
         "type": "scattergl",
         "x": [
          2000,
          2005,
          2010,
          2015,
          2020
         ],
         "xaxis": "x",
         "y": [
          13.18,
          11.85,
          10.78,
          11.93,
          12.24
         ],
         "yaxis": "y"
        },
        {
         "hovertemplate": "%{y}% unemployment in %{x}",
         "legendgroup": "Montenegro",
         "line": {
          "color": "#EF553B",
          "dash": "solid"
         },
         "marker": {
          "symbol": "circle"
         },
         "mode": "lines+markers",
         "name": "Montenegro",
         "showlegend": true,
         "type": "scattergl",
         "x": [
          2000,
          2005,
          2010,
          2015,
          2020
         ],
         "xaxis": "x",
         "y": [
          28.59,
          30.31,
          19.65,
          17.54,
          17.9
         ],
         "yaxis": "y"
        },
        {
         "hovertemplate": "%{y}% unemployment in %{x}",
         "legendgroup": "Mongolia",
         "line": {
          "color": "#00cc96",
          "dash": "solid"
         },
         "marker": {
          "symbol": "circle"
         },
         "mode": "lines+markers",
         "name": "Mongolia",
         "showlegend": true,
         "type": "scattergl",
         "x": [
          2000,
          2005,
          2010,
          2015,
          2020
         ],
         "xaxis": "x",
         "y": [
          6.23,
          7.04,
          6.55,
          4.86,
          7.01
         ],
         "yaxis": "y"
        },
        {
         "hovertemplate": "%{y}% unemployment in %{x}",
         "legendgroup": "Mozambique",
         "line": {
          "color": "#ab63fa",
          "dash": "solid"
         },
         "marker": {
          "symbol": "circle"
         },
         "mode": "lines+markers",
         "name": "Mozambique",
         "showlegend": true,
         "type": "scattergl",
         "x": [
          2000,
          2005,
          2010,
          2015,
          2020
         ],
         "xaxis": "x",
         "y": [
          2.85,
          3.02,
          3.22,
          3.43,
          3.81
         ],
         "yaxis": "y"
        },
        {
         "hovertemplate": "%{y}% unemployment in %{x}",
         "legendgroup": "Mauritania",
         "line": {
          "color": "#FFA15A",
          "dash": "solid"
         },
         "marker": {
          "symbol": "circle"
         },
         "mode": "lines+markers",
         "name": "Mauritania",
         "showlegend": true,
         "type": "scattergl",
         "x": [
          2000,
          2005,
          2010,
          2015,
          2020
         ],
         "xaxis": "x",
         "y": [
          9.85,
          9.79,
          9.86,
          10.14,
          11.27
         ],
         "yaxis": "y"
        },
        {
         "hovertemplate": "%{y}% unemployment in %{x}",
         "legendgroup": "Mauritius",
         "line": {
          "color": "#19d3f3",
          "dash": "solid"
         },
         "marker": {
          "symbol": "circle"
         },
         "mode": "lines+markers",
         "name": "Mauritius",
         "showlegend": true,
         "type": "scattergl",
         "x": [
          2000,
          2005,
          2010,
          2015,
          2020
         ],
         "xaxis": "x",
         "y": [
          9.18,
          9.52,
          7.65,
          7.41,
          7.41
         ],
         "yaxis": "y"
        },
        {
         "hovertemplate": "%{y}% unemployment in %{x}",
         "legendgroup": "Malawi",
         "line": {
          "color": "#FF6692",
          "dash": "solid"
         },
         "marker": {
          "symbol": "circle"
         },
         "mode": "lines+markers",
         "name": "Malawi",
         "showlegend": true,
         "type": "scattergl",
         "x": [
          2000,
          2005,
          2010,
          2015,
          2020
         ],
         "xaxis": "x",
         "y": [
          5.79,
          5.84,
          5.89,
          5.86,
          6.7
         ],
         "yaxis": "y"
        },
        {
         "hovertemplate": "%{y}% unemployment in %{x}",
         "legendgroup": "Malaysia",
         "line": {
          "color": "#B6E880",
          "dash": "solid"
         },
         "marker": {
          "symbol": "circle"
         },
         "mode": "lines+markers",
         "name": "Malaysia",
         "showlegend": true,
         "type": "scattergl",
         "x": [
          2000,
          2005,
          2010,
          2015,
          2020
         ],
         "xaxis": "x",
         "y": [
          3,
          3.53,
          3.39,
          3.1,
          4.5
         ],
         "yaxis": "y"
        },
        {
         "hovertemplate": "%{y}% unemployment in %{x}",
         "legendgroup": "North America",
         "line": {
          "color": "#FF97FF",
          "dash": "solid"
         },
         "marker": {
          "symbol": "circle"
         },
         "mode": "lines+markers",
         "name": "North America",
         "showlegend": true,
         "type": "scattergl",
         "x": [
          2000,
          2005,
          2010,
          2015,
          2020
         ],
         "xaxis": "x",
         "y": [
          4.28,
          5.26,
          9.46,
          5.46,
          8.21
         ],
         "yaxis": "y"
        },
        {
         "hovertemplate": "%{y}% unemployment in %{x}",
         "legendgroup": "Namibia",
         "line": {
          "color": "#FECB52",
          "dash": "solid"
         },
         "marker": {
          "symbol": "circle"
         },
         "mode": "lines+markers",
         "name": "Namibia",
         "showlegend": true,
         "type": "scattergl",
         "x": [
          2000,
          2005,
          2010,
          2015,
          2020
         ],
         "xaxis": "x",
         "y": [
          20.3,
          22.22,
          22.12,
          20.91,
          21.45
         ],
         "yaxis": "y"
        },
        {
         "hovertemplate": "%{y}% unemployment in %{x}",
         "legendgroup": "New Caledonia",
         "line": {
          "color": "#636efa",
          "dash": "solid"
         },
         "marker": {
          "symbol": "circle"
         },
         "mode": "lines+markers",
         "name": "New Caledonia",
         "showlegend": true,
         "type": "scattergl",
         "x": [
          2000,
          2005,
          2010,
          2015,
          2020
         ],
         "xaxis": "x",
         "y": [
          17.48,
          15.85,
          13.81,
          14.73,
          16.43
         ],
         "yaxis": "y"
        },
        {
         "hovertemplate": "%{y}% unemployment in %{x}",
         "legendgroup": "Niger",
         "line": {
          "color": "#EF553B",
          "dash": "solid"
         },
         "marker": {
          "symbol": "circle"
         },
         "mode": "lines+markers",
         "name": "Niger",
         "showlegend": true,
         "type": "scattergl",
         "x": [
          2000,
          2005,
          2010,
          2015,
          2020
         ],
         "xaxis": "x",
         "y": [
          1.49,
          3.1,
          0.78,
          0.53,
          0.62
         ],
         "yaxis": "y"
        },
        {
         "hovertemplate": "%{y}% unemployment in %{x}",
         "legendgroup": "Nigeria",
         "line": {
          "color": "#00cc96",
          "dash": "solid"
         },
         "marker": {
          "symbol": "circle"
         },
         "mode": "lines+markers",
         "name": "Nigeria",
         "showlegend": true,
         "type": "scattergl",
         "x": [
          2000,
          2005,
          2010,
          2015,
          2020
         ],
         "xaxis": "x",
         "y": [
          3.95,
          3.87,
          3.78,
          4.31,
          9.71
         ],
         "yaxis": "y"
        },
        {
         "hovertemplate": "%{y}% unemployment in %{x}",
         "legendgroup": "Nicaragua",
         "line": {
          "color": "#ab63fa",
          "dash": "solid"
         },
         "marker": {
          "symbol": "circle"
         },
         "mode": "lines+markers",
         "name": "Nicaragua",
         "showlegend": true,
         "type": "scattergl",
         "x": [
          2000,
          2005,
          2010,
          2015,
          2020
         ],
         "xaxis": "x",
         "y": [
          7.35,
          5.37,
          7.83,
          4.7,
          6.08
         ],
         "yaxis": "y"
        },
        {
         "hovertemplate": "%{y}% unemployment in %{x}",
         "legendgroup": "Netherlands",
         "line": {
          "color": "#FFA15A",
          "dash": "solid"
         },
         "marker": {
          "symbol": "circle"
         },
         "mode": "lines+markers",
         "name": "Netherlands",
         "showlegend": true,
         "type": "scattergl",
         "x": [
          2000,
          2005,
          2010,
          2015,
          2020
         ],
         "xaxis": "x",
         "y": [
          2.73,
          5.87,
          4.99,
          6.87,
          3.82
         ],
         "yaxis": "y"
        },
        {
         "hovertemplate": "%{y}% unemployment in %{x}",
         "legendgroup": "Norway",
         "line": {
          "color": "#19d3f3",
          "dash": "solid"
         },
         "marker": {
          "symbol": "circle"
         },
         "mode": "lines+markers",
         "name": "Norway",
         "showlegend": true,
         "type": "scattergl",
         "x": [
          2000,
          2005,
          2010,
          2015,
          2020
         ],
         "xaxis": "x",
         "y": [
          3.46,
          4.38,
          3.52,
          4.3,
          4.42
         ],
         "yaxis": "y"
        },
        {
         "hovertemplate": "%{y}% unemployment in %{x}",
         "legendgroup": "Nepal",
         "line": {
          "color": "#FF6692",
          "dash": "solid"
         },
         "marker": {
          "symbol": "circle"
         },
         "mode": "lines+markers",
         "name": "Nepal",
         "showlegend": true,
         "type": "scattergl",
         "x": [
          2000,
          2005,
          2010,
          2015,
          2020
         ],
         "xaxis": "x",
         "y": [
          1.86,
          1.46,
          1.82,
          3.1,
          4.72
         ],
         "yaxis": "y"
        },
        {
         "hovertemplate": "%{y}% unemployment in %{x}",
         "legendgroup": "New Zealand",
         "line": {
          "color": "#B6E880",
          "dash": "solid"
         },
         "marker": {
          "symbol": "circle"
         },
         "mode": "lines+markers",
         "name": "New Zealand",
         "showlegend": true,
         "type": "scattergl",
         "x": [
          2000,
          2005,
          2010,
          2015,
          2020
         ],
         "xaxis": "x",
         "y": [
          6.13,
          3.81,
          6.56,
          5.41,
          4.59
         ],
         "yaxis": "y"
        },
        {
         "hovertemplate": "%{y}% unemployment in %{x}",
         "legendgroup": "OECD members",
         "line": {
          "color": "#FF97FF",
          "dash": "solid"
         },
         "marker": {
          "symbol": "circle"
         },
         "mode": "lines+markers",
         "name": "OECD members",
         "showlegend": true,
         "type": "scattergl",
         "x": [
          2000,
          2005,
          2010,
          2015,
          2020
         ],
         "xaxis": "x",
         "y": [
          6.78,
          6.8,
          8.42,
          6.85,
          7.1
         ],
         "yaxis": "y"
        },
        {
         "hovertemplate": "%{y}% unemployment in %{x}",
         "legendgroup": "Oman",
         "line": {
          "color": "#FECB52",
          "dash": "solid"
         },
         "marker": {
          "symbol": "circle"
         },
         "mode": "lines+markers",
         "name": "Oman",
         "showlegend": true,
         "type": "scattergl",
         "x": [
          2000,
          2005,
          2010,
          2015,
          2020
         ],
         "xaxis": "x",
         "y": [
          4.09,
          4.18,
          3.99,
          3.39,
          2.94
         ],
         "yaxis": "y"
        },
        {
         "hovertemplate": "%{y}% unemployment in %{x}",
         "legendgroup": "Other small states",
         "line": {
          "color": "#636efa",
          "dash": "solid"
         },
         "marker": {
          "symbol": "circle"
         },
         "mode": "lines+markers",
         "name": "Other small states",
         "showlegend": true,
         "type": "scattergl",
         "x": [
          2000,
          2005,
          2010,
          2015,
          2020
         ],
         "xaxis": "x",
         "y": [
          13.66,
          12.86,
          11.6,
          10.61,
          11.01
         ],
         "yaxis": "y"
        },
        {
         "hovertemplate": "%{y}% unemployment in %{x}",
         "legendgroup": "Pakistan",
         "line": {
          "color": "#EF553B",
          "dash": "solid"
         },
         "marker": {
          "symbol": "circle"
         },
         "mode": "lines+markers",
         "name": "Pakistan",
         "showlegend": true,
         "type": "scattergl",
         "x": [
          2000,
          2005,
          2010,
          2015,
          2020
         ],
         "xaxis": "x",
         "y": [
          0.58,
          0.59,
          0.65,
          3.57,
          4.3
         ],
         "yaxis": "y"
        },
        {
         "hovertemplate": "%{y}% unemployment in %{x}",
         "legendgroup": "Panama",
         "line": {
          "color": "#00cc96",
          "dash": "solid"
         },
         "marker": {
          "symbol": "circle"
         },
         "mode": "lines+markers",
         "name": "Panama",
         "showlegend": true,
         "type": "scattergl",
         "x": [
          2000,
          2005,
          2010,
          2015,
          2020
         ],
         "xaxis": "x",
         "y": [
          3.81,
          3.75,
          3.72,
          2.98,
          12.85
         ],
         "yaxis": "y"
        },
        {
         "hovertemplate": "%{y}% unemployment in %{x}",
         "legendgroup": "Peru",
         "line": {
          "color": "#ab63fa",
          "dash": "solid"
         },
         "marker": {
          "symbol": "circle"
         },
         "mode": "lines+markers",
         "name": "Peru",
         "showlegend": true,
         "type": "scattergl",
         "x": [
          2000,
          2005,
          2010,
          2015,
          2020
         ],
         "xaxis": "x",
         "y": [
          4.88,
          4.88,
          3.58,
          3.27,
          7.18
         ],
         "yaxis": "y"
        },
        {
         "hovertemplate": "%{y}% unemployment in %{x}",
         "legendgroup": "Philippines",
         "line": {
          "color": "#FFA15A",
          "dash": "solid"
         },
         "marker": {
          "symbol": "circle"
         },
         "mode": "lines+markers",
         "name": "Philippines",
         "showlegend": true,
         "type": "scattergl",
         "x": [
          2000,
          2005,
          2010,
          2015,
          2020
         ],
         "xaxis": "x",
         "y": [
          3.65,
          3.8,
          3.61,
          3.07,
          2.52
         ],
         "yaxis": "y"
        },
        {
         "hovertemplate": "%{y}% unemployment in %{x}",
         "legendgroup": "Papua New Guinea",
         "line": {
          "color": "#19d3f3",
          "dash": "solid"
         },
         "marker": {
          "symbol": "circle"
         },
         "mode": "lines+markers",
         "name": "Papua New Guinea",
         "showlegend": true,
         "type": "scattergl",
         "x": [
          2000,
          2005,
          2010,
          2015,
          2020
         ],
         "xaxis": "x",
         "y": [
          2.92,
          2.41,
          2,
          2.48,
          2.6
         ],
         "yaxis": "y"
        },
        {
         "hovertemplate": "%{y}% unemployment in %{x}",
         "legendgroup": "Poland",
         "line": {
          "color": "#FF6692",
          "dash": "solid"
         },
         "marker": {
          "symbol": "circle"
         },
         "mode": "lines+markers",
         "name": "Poland",
         "showlegend": true,
         "type": "scattergl",
         "x": [
          2000,
          2005,
          2010,
          2015,
          2020
         ],
         "xaxis": "x",
         "y": [
          16.31,
          17.75,
          9.64,
          7.5,
          3.16
         ],
         "yaxis": "y"
        },
        {
         "hovertemplate": "%{y}% unemployment in %{x}",
         "legendgroup": "Pre-demographic dividend",
         "line": {
          "color": "#B6E880",
          "dash": "solid"
         },
         "marker": {
          "symbol": "circle"
         },
         "mode": "lines+markers",
         "name": "Pre-demographic dividend",
         "showlegend": true,
         "type": "scattergl",
         "x": [
          2000,
          2005,
          2010,
          2015,
          2020
         ],
         "xaxis": "x",
         "y": [
          5.06,
          5.07,
          5.35,
          5.19,
          6.94
         ],
         "yaxis": "y"
        },
        {
         "hovertemplate": "%{y}% unemployment in %{x}",
         "legendgroup": "Puerto Rico",
         "line": {
          "color": "#FF97FF",
          "dash": "solid"
         },
         "marker": {
          "symbol": "circle"
         },
         "mode": "lines+markers",
         "name": "Puerto Rico",
         "showlegend": true,
         "type": "scattergl",
         "x": [
          2000,
          2005,
          2010,
          2015,
          2020
         ],
         "xaxis": "x",
         "y": [
          10.08,
          11.35,
          16.1,
          12,
          8.89
         ],
         "yaxis": "y"
        },
        {
         "hovertemplate": "%{y}% unemployment in %{x}",
         "legendgroup": "Korea, Dem. People's Rep.",
         "line": {
          "color": "#FECB52",
          "dash": "solid"
         },
         "marker": {
          "symbol": "circle"
         },
         "mode": "lines+markers",
         "name": "Korea, Dem. People's Rep.",
         "showlegend": true,
         "type": "scattergl",
         "x": [
          2000,
          2005,
          2010,
          2015,
          2020
         ],
         "xaxis": "x",
         "y": [
          2.93,
          2.84,
          2.71,
          2.74,
          2.92
         ],
         "yaxis": "y"
        },
        {
         "hovertemplate": "%{y}% unemployment in %{x}",
         "legendgroup": "Portugal",
         "line": {
          "color": "#636efa",
          "dash": "solid"
         },
         "marker": {
          "symbol": "circle"
         },
         "mode": "lines+markers",
         "name": "Portugal",
         "showlegend": true,
         "type": "scattergl",
         "x": [
          2000,
          2005,
          2010,
          2015,
          2020
         ],
         "xaxis": "x",
         "y": [
          3.81,
          7.58,
          10.77,
          12.44,
          6.79
         ],
         "yaxis": "y"
        },
        {
         "hovertemplate": "%{y}% unemployment in %{x}",
         "legendgroup": "Paraguay",
         "line": {
          "color": "#EF553B",
          "dash": "solid"
         },
         "marker": {
          "symbol": "circle"
         },
         "mode": "lines+markers",
         "name": "Paraguay",
         "showlegend": true,
         "type": "scattergl",
         "x": [
          2000,
          2005,
          2010,
          2015,
          2020
         ],
         "xaxis": "x",
         "y": [
          7.61,
          4.82,
          4.57,
          4.56,
          7.55
         ],
         "yaxis": "y"
        },
        {
         "hovertemplate": "%{y}% unemployment in %{x}",
         "legendgroup": "West Bank and Gaza",
         "line": {
          "color": "#00cc96",
          "dash": "solid"
         },
         "marker": {
          "symbol": "circle"
         },
         "mode": "lines+markers",
         "name": "West Bank and Gaza",
         "showlegend": true,
         "type": "scattergl",
         "x": [
          2000,
          2005,
          2010,
          2015,
          2020
         ],
         "xaxis": "x",
         "y": [
          10.63,
          20.02,
          21.42,
          23,
          25.89
         ],
         "yaxis": "y"
        },
        {
         "hovertemplate": "%{y}% unemployment in %{x}",
         "legendgroup": "Pacific island small states",
         "line": {
          "color": "#ab63fa",
          "dash": "solid"
         },
         "marker": {
          "symbol": "circle"
         },
         "mode": "lines+markers",
         "name": "Pacific island small states",
         "showlegend": true,
         "type": "scattergl",
         "x": [
          2000,
          2005,
          2010,
          2015,
          2020
         ],
         "xaxis": "x",
         "y": [
          3.18,
          2.97,
          3.11,
          2.88,
          3.13
         ],
         "yaxis": "y"
        },
        {
         "hovertemplate": "%{y}% unemployment in %{x}",
         "legendgroup": "Post-demographic dividend",
         "line": {
          "color": "#FFA15A",
          "dash": "solid"
         },
         "marker": {
          "symbol": "circle"
         },
         "mode": "lines+markers",
         "name": "Post-demographic dividend",
         "showlegend": true,
         "type": "scattergl",
         "x": [
          2000,
          2005,
          2010,
          2015,
          2020
         ],
         "xaxis": "x",
         "y": [
          6.53,
          6.35,
          8.29,
          6.87,
          6.7
         ],
         "yaxis": "y"
        },
        {
         "hovertemplate": "%{y}% unemployment in %{x}",
         "legendgroup": "French Polynesia",
         "line": {
          "color": "#19d3f3",
          "dash": "solid"
         },
         "marker": {
          "symbol": "circle"
         },
         "mode": "lines+markers",
         "name": "French Polynesia",
         "showlegend": true,
         "type": "scattergl",
         "x": [
          2000,
          2005,
          2010,
          2015,
          2020
         ],
         "xaxis": "x",
         "y": [
          11.67,
          11.76,
          12.2,
          12.17,
          14.1
         ],
         "yaxis": "y"
        },
        {
         "hovertemplate": "%{y}% unemployment in %{x}",
         "legendgroup": "Qatar",
         "line": {
          "color": "#FF6692",
          "dash": "solid"
         },
         "marker": {
          "symbol": "circle"
         },
         "mode": "lines+markers",
         "name": "Qatar",
         "showlegend": true,
         "type": "scattergl",
         "x": [
          2000,
          2005,
          2010,
          2015,
          2020
         ],
         "xaxis": "x",
         "y": [
          0.84,
          0.87,
          0.45,
          0.17,
          0.21
         ],
         "yaxis": "y"
        },
        {
         "hovertemplate": "%{y}% unemployment in %{x}",
         "legendgroup": "Romania",
         "line": {
          "color": "#B6E880",
          "dash": "solid"
         },
         "marker": {
          "symbol": "circle"
         },
         "mode": "lines+markers",
         "name": "Romania",
         "showlegend": true,
         "type": "scattergl",
         "x": [
          2000,
          2005,
          2010,
          2015,
          2020
         ],
         "xaxis": "x",
         "y": [
          6.97,
          7.17,
          6.96,
          6.81,
          5.03
         ],
         "yaxis": "y"
        },
        {
         "hovertemplate": "%{y}% unemployment in %{x}",
         "legendgroup": "Russian Federation",
         "line": {
          "color": "#FF97FF",
          "dash": "solid"
         },
         "marker": {
          "symbol": "circle"
         },
         "mode": "lines+markers",
         "name": "Russian Federation",
         "showlegend": true,
         "type": "scattergl",
         "x": [
          2000,
          2005,
          2010,
          2015,
          2020
         ],
         "xaxis": "x",
         "y": [
          10.58,
          7.12,
          7.37,
          5.57,
          5.59
         ],
         "yaxis": "y"
        },
        {
         "hovertemplate": "%{y}% unemployment in %{x}",
         "legendgroup": "Rwanda",
         "line": {
          "color": "#FECB52",
          "dash": "solid"
         },
         "marker": {
          "symbol": "circle"
         },
         "mode": "lines+markers",
         "name": "Rwanda",
         "showlegend": true,
         "type": "scattergl",
         "x": [
          2000,
          2005,
          2010,
          2015,
          2020
         ],
         "xaxis": "x",
         "y": [
          0.79,
          0.96,
          1.08,
          1.15,
          1.49
         ],
         "yaxis": "y"
        },
        {
         "hovertemplate": "%{y}% unemployment in %{x}",
         "legendgroup": "South Asia",
         "line": {
          "color": "#636efa",
          "dash": "solid"
         },
         "marker": {
          "symbol": "circle"
         },
         "mode": "lines+markers",
         "name": "South Asia",
         "showlegend": true,
         "type": "scattergl",
         "x": [
          2000,
          2005,
          2010,
          2015,
          2020
         ],
         "xaxis": "x",
         "y": [
          4.93,
          5.06,
          4.84,
          5.14,
          7.24
         ],
         "yaxis": "y"
        },
        {
         "hovertemplate": "%{y}% unemployment in %{x}",
         "legendgroup": "Saudi Arabia",
         "line": {
          "color": "#EF553B",
          "dash": "solid"
         },
         "marker": {
          "symbol": "circle"
         },
         "mode": "lines+markers",
         "name": "Saudi Arabia",
         "showlegend": true,
         "type": "scattergl",
         "x": [
          2000,
          2005,
          2010,
          2015,
          2020
         ],
         "xaxis": "x",
         "y": [
          4.57,
          6.05,
          5.55,
          5.59,
          7.45
         ],
         "yaxis": "y"
        },
        {
         "hovertemplate": "%{y}% unemployment in %{x}",
         "legendgroup": "Sudan",
         "line": {
          "color": "#00cc96",
          "dash": "solid"
         },
         "marker": {
          "symbol": "circle"
         },
         "mode": "lines+markers",
         "name": "Sudan",
         "showlegend": true,
         "type": "scattergl",
         "x": [
          2000,
          2005,
          2010,
          2015,
          2020
         ],
         "xaxis": "x",
         "y": [
          15.23,
          14.97,
          15.2,
          17.49,
          19.65
         ],
         "yaxis": "y"
        },
        {
         "hovertemplate": "%{y}% unemployment in %{x}",
         "legendgroup": "Senegal",
         "line": {
          "color": "#ab63fa",
          "dash": "solid"
         },
         "marker": {
          "symbol": "circle"
         },
         "mode": "lines+markers",
         "name": "Senegal",
         "showlegend": true,
         "type": "scattergl",
         "x": [
          2000,
          2005,
          2010,
          2015,
          2020
         ],
         "xaxis": "x",
         "y": [
          5.61,
          8.9,
          10.26,
          6.76,
          3.62
         ],
         "yaxis": "y"
        },
        {
         "hovertemplate": "%{y}% unemployment in %{x}",
         "legendgroup": "Singapore",
         "line": {
          "color": "#FFA15A",
          "dash": "solid"
         },
         "marker": {
          "symbol": "circle"
         },
         "mode": "lines+markers",
         "name": "Singapore",
         "showlegend": true,
         "type": "scattergl",
         "x": [
          2000,
          2005,
          2010,
          2015,
          2020
         ],
         "xaxis": "x",
         "y": [
          3.7,
          5.59,
          4.12,
          3.79,
          4.1
         ],
         "yaxis": "y"
        },
        {
         "hovertemplate": "%{y}% unemployment in %{x}",
         "legendgroup": "Solomon Islands",
         "line": {
          "color": "#19d3f3",
          "dash": "solid"
         },
         "marker": {
          "symbol": "circle"
         },
         "mode": "lines+markers",
         "name": "Solomon Islands",
         "showlegend": true,
         "type": "scattergl",
         "x": [
          2000,
          2005,
          2010,
          2015,
          2020
         ],
         "xaxis": "x",
         "y": [
          2.03,
          1.76,
          1.58,
          0.73,
          0.92
         ],
         "yaxis": "y"
        },
        {
         "hovertemplate": "%{y}% unemployment in %{x}",
         "legendgroup": "Sierra Leone",
         "line": {
          "color": "#FF6692",
          "dash": "solid"
         },
         "marker": {
          "symbol": "circle"
         },
         "mode": "lines+markers",
         "name": "Sierra Leone",
         "showlegend": true,
         "type": "scattergl",
         "x": [
          2000,
          2005,
          2010,
          2015,
          2020
         ],
         "xaxis": "x",
         "y": [
          3.43,
          3.55,
          4.17,
          4.74,
          5.2
         ],
         "yaxis": "y"
        },
        {
         "hovertemplate": "%{y}% unemployment in %{x}",
         "legendgroup": "El Salvador",
         "line": {
          "color": "#B6E880",
          "dash": "solid"
         },
         "marker": {
          "symbol": "circle"
         },
         "mode": "lines+markers",
         "name": "El Salvador",
         "showlegend": true,
         "type": "scattergl",
         "x": [
          2000,
          2005,
          2010,
          2015,
          2020
         ],
         "xaxis": "x",
         "y": [
          6.96,
          7.22,
          4.89,
          4,
          6.25
         ],
         "yaxis": "y"
        },
        {
         "hovertemplate": "%{y}% unemployment in %{x}",
         "legendgroup": "Somalia",
         "line": {
          "color": "#FF97FF",
          "dash": "solid"
         },
         "marker": {
          "symbol": "circle"
         },
         "mode": "lines+markers",
         "name": "Somalia",
         "showlegend": true,
         "type": "scattergl",
         "x": [
          2000,
          2005,
          2010,
          2015,
          2020
         ],
         "xaxis": "x",
         "y": [
          19.05,
          19.01,
          18.96,
          18.9,
          19.72
         ],
         "yaxis": "y"
        },
        {
         "hovertemplate": "%{y}% unemployment in %{x}",
         "legendgroup": "Serbia",
         "line": {
          "color": "#FECB52",
          "dash": "solid"
         },
         "marker": {
          "symbol": "circle"
         },
         "mode": "lines+markers",
         "name": "Serbia",
         "showlegend": true,
         "type": "scattergl",
         "x": [
          2000,
          2005,
          2010,
          2015,
          2020
         ],
         "xaxis": "x",
         "y": [
          12.6,
          20.85,
          19.22,
          17.66,
          9.01
         ],
         "yaxis": "y"
        },
        {
         "hovertemplate": "%{y}% unemployment in %{x}",
         "legendgroup": "Sub-Saharan Africa (excluding high income)",
         "line": {
          "color": "#636efa",
          "dash": "solid"
         },
         "marker": {
          "symbol": "circle"
         },
         "mode": "lines+markers",
         "name": "Sub-Saharan Africa (excluding high income)",
         "showlegend": true,
         "type": "scattergl",
         "x": [
          2000,
          2005,
          2010,
          2015,
          2020
         ],
         "xaxis": "x",
         "y": [
          6.67,
          6.22,
          6,
          5.82,
          7.28
         ],
         "yaxis": "y"
        },
        {
         "hovertemplate": "%{y}% unemployment in %{x}",
         "legendgroup": "South Sudan",
         "line": {
          "color": "#EF553B",
          "dash": "solid"
         },
         "marker": {
          "symbol": "circle"
         },
         "mode": "lines+markers",
         "name": "South Sudan",
         "showlegend": true,
         "type": "scattergl",
         "x": [
          2000,
          2005,
          2010,
          2015,
          2020
         ],
         "xaxis": "x",
         "y": [
          12.06,
          12.11,
          12.18,
          12.27,
          14.03
         ],
         "yaxis": "y"
        },
        {
         "hovertemplate": "%{y}% unemployment in %{x}",
         "legendgroup": "Sub-Saharan Africa",
         "line": {
          "color": "#00cc96",
          "dash": "solid"
         },
         "marker": {
          "symbol": "circle"
         },
         "mode": "lines+markers",
         "name": "Sub-Saharan Africa",
         "showlegend": true,
         "type": "scattergl",
         "x": [
          2000,
          2005,
          2010,
          2015,
          2020
         ],
         "xaxis": "x",
         "y": [
          6.67,
          6.22,
          6,
          5.82,
          7.28
         ],
         "yaxis": "y"
        },
        {
         "hovertemplate": "%{y}% unemployment in %{x}",
         "legendgroup": "Small states",
         "line": {
          "color": "#ab63fa",
          "dash": "solid"
         },
         "marker": {
          "symbol": "circle"
         },
         "mode": "lines+markers",
         "name": "Small states",
         "showlegend": true,
         "type": "scattergl",
         "x": [
          2000,
          2005,
          2010,
          2015,
          2020
         ],
         "xaxis": "x",
         "y": [
          12.97,
          11.76,
          10.86,
          10.2,
          10.39
         ],
         "yaxis": "y"
        },
        {
         "hovertemplate": "%{y}% unemployment in %{x}",
         "legendgroup": "Sao Tome and Principe",
         "line": {
          "color": "#FFA15A",
          "dash": "solid"
         },
         "marker": {
          "symbol": "circle"
         },
         "mode": "lines+markers",
         "name": "Sao Tome and Principe",
         "showlegend": true,
         "type": "scattergl",
         "x": [
          2000,
          2005,
          2010,
          2015,
          2020
         ],
         "xaxis": "x",
         "y": [
          14.4,
          16.47,
          14.6,
          13.82,
          15.75
         ],
         "yaxis": "y"
        },
        {
         "hovertemplate": "%{y}% unemployment in %{x}",
         "legendgroup": "Suriname",
         "line": {
          "color": "#19d3f3",
          "dash": "solid"
         },
         "marker": {
          "symbol": "circle"
         },
         "mode": "lines+markers",
         "name": "Suriname",
         "showlegend": true,
         "type": "scattergl",
         "x": [
          2000,
          2005,
          2010,
          2015,
          2020
         ],
         "xaxis": "x",
         "y": [
          12.74,
          9.38,
          7.15,
          7.22,
          9.78
         ],
         "yaxis": "y"
        },
        {
         "hovertemplate": "%{y}% unemployment in %{x}",
         "legendgroup": "Slovak Republic",
         "line": {
          "color": "#FF6692",
          "dash": "solid"
         },
         "marker": {
          "symbol": "circle"
         },
         "mode": "lines+markers",
         "name": "Slovak Republic",
         "showlegend": true,
         "type": "scattergl",
         "x": [
          2000,
          2005,
          2010,
          2015,
          2020
         ],
         "xaxis": "x",
         "y": [
          19.06,
          16.26,
          14.38,
          11.48,
          6.69
         ],
         "yaxis": "y"
        },
        {
         "hovertemplate": "%{y}% unemployment in %{x}",
         "legendgroup": "Slovenia",
         "line": {
          "color": "#B6E880",
          "dash": "solid"
         },
         "marker": {
          "symbol": "circle"
         },
         "mode": "lines+markers",
         "name": "Slovenia",
         "showlegend": true,
         "type": "scattergl",
         "x": [
          2000,
          2005,
          2010,
          2015,
          2020
         ],
         "xaxis": "x",
         "y": [
          6.92,
          6.51,
          7.24,
          8.96,
          4.97
         ],
         "yaxis": "y"
        },
        {
         "hovertemplate": "%{y}% unemployment in %{x}",
         "legendgroup": "Sweden",
         "line": {
          "color": "#FF97FF",
          "dash": "solid"
         },
         "marker": {
          "symbol": "circle"
         },
         "mode": "lines+markers",
         "name": "Sweden",
         "showlegend": true,
         "type": "scattergl",
         "x": [
          2000,
          2005,
          2010,
          2015,
          2020
         ],
         "xaxis": "x",
         "y": [
          5.47,
          7.49,
          8.61,
          7.43,
          8.29
         ],
         "yaxis": "y"
        },
        {
         "hovertemplate": "%{y}% unemployment in %{x}",
         "legendgroup": "Eswatini",
         "line": {
          "color": "#FECB52",
          "dash": "solid"
         },
         "marker": {
          "symbol": "circle"
         },
         "mode": "lines+markers",
         "name": "Eswatini",
         "showlegend": true,
         "type": "scattergl",
         "x": [
          2000,
          2005,
          2010,
          2015,
          2020
         ],
         "xaxis": "x",
         "y": [
          24.24,
          27.07,
          26.41,
          23.33,
          25.51
         ],
         "yaxis": "y"
        },
        {
         "hovertemplate": "%{y}% unemployment in %{x}",
         "legendgroup": "Syrian Arab Republic",
         "line": {
          "color": "#636efa",
          "dash": "solid"
         },
         "marker": {
          "symbol": "circle"
         },
         "mode": "lines+markers",
         "name": "Syrian Arab Republic",
         "showlegend": true,
         "type": "scattergl",
         "x": [
          2000,
          2005,
          2010,
          2015,
          2020
         ],
         "xaxis": "x",
         "y": [
          9.6,
          8.85,
          8.61,
          8.71,
          10.26
         ],
         "yaxis": "y"
        },
        {
         "hovertemplate": "%{y}% unemployment in %{x}",
         "legendgroup": "Chad",
         "line": {
          "color": "#EF553B",
          "dash": "solid"
         },
         "marker": {
          "symbol": "circle"
         },
         "mode": "lines+markers",
         "name": "Chad",
         "showlegend": true,
         "type": "scattergl",
         "x": [
          2000,
          2005,
          2010,
          2015,
          2020
         ],
         "xaxis": "x",
         "y": [
          0.81,
          0.87,
          0.96,
          1.07,
          1.74
         ],
         "yaxis": "y"
        },
        {
         "hovertemplate": "%{y}% unemployment in %{x}",
         "legendgroup": "East Asia & Pacific (IDA & IBRD countries)",
         "line": {
          "color": "#00cc96",
          "dash": "solid"
         },
         "marker": {
          "symbol": "circle"
         },
         "mode": "lines+markers",
         "name": "East Asia & Pacific (IDA & IBRD countries)",
         "showlegend": true,
         "type": "scattergl",
         "x": [
          2000,
          2005,
          2010,
          2015,
          2020
         ],
         "xaxis": "x",
         "y": [
          3.41,
          4.49,
          4.17,
          4.12,
          4.41
         ],
         "yaxis": "y"
        },
        {
         "hovertemplate": "%{y}% unemployment in %{x}",
         "legendgroup": "Europe & Central Asia (IDA & IBRD countries)",
         "line": {
          "color": "#ab63fa",
          "dash": "solid"
         },
         "marker": {
          "symbol": "circle"
         },
         "mode": "lines+markers",
         "name": "Europe & Central Asia (IDA & IBRD countries)",
         "showlegend": true,
         "type": "scattergl",
         "x": [
          2000,
          2005,
          2010,
          2015,
          2020
         ],
         "xaxis": "x",
         "y": [
          11.25,
          9.42,
          8.56,
          7.63,
          7.4
         ],
         "yaxis": "y"
        },
        {
         "hovertemplate": "%{y}% unemployment in %{x}",
         "legendgroup": "Togo",
         "line": {
          "color": "#FFA15A",
          "dash": "solid"
         },
         "marker": {
          "symbol": "circle"
         },
         "mode": "lines+markers",
         "name": "Togo",
         "showlegend": true,
         "type": "scattergl",
         "x": [
          2000,
          2005,
          2010,
          2015,
          2020
         ],
         "xaxis": "x",
         "y": [
          3.98,
          4.22,
          2.43,
          2.2,
          3.94
         ],
         "yaxis": "y"
        },
        {
         "hovertemplate": "%{y}% unemployment in %{x}",
         "legendgroup": "Thailand",
         "line": {
          "color": "#19d3f3",
          "dash": "solid"
         },
         "marker": {
          "symbol": "circle"
         },
         "mode": "lines+markers",
         "name": "Thailand",
         "showlegend": true,
         "type": "scattergl",
         "x": [
          2000,
          2005,
          2010,
          2015,
          2020
         ],
         "xaxis": "x",
         "y": [
          2.39,
          1.35,
          0.62,
          0.6,
          1.1
         ],
         "yaxis": "y"
        },
        {
         "hovertemplate": "%{y}% unemployment in %{x}",
         "legendgroup": "Tajikistan",
         "line": {
          "color": "#FF6692",
          "dash": "solid"
         },
         "marker": {
          "symbol": "circle"
         },
         "mode": "lines+markers",
         "name": "Tajikistan",
         "showlegend": true,
         "type": "scattergl",
         "x": [
          2000,
          2005,
          2010,
          2015,
          2020
         ],
         "xaxis": "x",
         "y": [
          15.13,
          13.13,
          10.89,
          7.55,
          7.58
         ],
         "yaxis": "y"
        },
        {
         "hovertemplate": "%{y}% unemployment in %{x}",
         "legendgroup": "Turkmenistan",
         "line": {
          "color": "#B6E880",
          "dash": "solid"
         },
         "marker": {
          "symbol": "circle"
         },
         "mode": "lines+markers",
         "name": "Turkmenistan",
         "showlegend": true,
         "type": "scattergl",
         "x": [
          2000,
          2005,
          2010,
          2015,
          2020
         ],
         "xaxis": "x",
         "y": [
          11.54,
          7.5,
          4,
          4.14,
          4.95
         ],
         "yaxis": "y"
        },
        {
         "hovertemplate": "%{y}% unemployment in %{x}",
         "legendgroup": "Latin America & the Caribbean (IDA & IBRD countries)",
         "line": {
          "color": "#FF97FF",
          "dash": "solid"
         },
         "marker": {
          "symbol": "circle"
         },
         "mode": "lines+markers",
         "name": "Latin America & the Caribbean (IDA & IBRD countries)",
         "showlegend": true,
         "type": "scattergl",
         "x": [
          2000,
          2005,
          2010,
          2015,
          2020
         ],
         "xaxis": "x",
         "y": [
          9.08,
          7.96,
          6.83,
          6.68,
          10.2
         ],
         "yaxis": "y"
        },
        {
         "hovertemplate": "%{y}% unemployment in %{x}",
         "legendgroup": "Timor-Leste",
         "line": {
          "color": "#FECB52",
          "dash": "solid"
         },
         "marker": {
          "symbol": "circle"
         },
         "mode": "lines+markers",
         "name": "Timor-Leste",
         "showlegend": true,
         "type": "scattergl",
         "x": [
          2000,
          2005,
          2010,
          2015,
          2020
         ],
         "xaxis": "x",
         "y": [
          3.41,
          3.44,
          3.3,
          4.45,
          4.91
         ],
         "yaxis": "y"
        },
        {
         "hovertemplate": "%{y}% unemployment in %{x}",
         "legendgroup": "Middle East & North Africa (IDA & IBRD countries)",
         "line": {
          "color": "#636efa",
          "dash": "solid"
         },
         "marker": {
          "symbol": "circle"
         },
         "mode": "lines+markers",
         "name": "Middle East & North Africa (IDA & IBRD countries)",
         "showlegend": true,
         "type": "scattergl",
         "x": [
          2000,
          2005,
          2010,
          2015,
          2020
         ],
         "xaxis": "x",
         "y": [
          13.2,
          11.79,
          10.68,
          11.82,
          12.09
         ],
         "yaxis": "y"
        },
        {
         "hovertemplate": "%{y}% unemployment in %{x}",
         "legendgroup": "Tonga",
         "line": {
          "color": "#EF553B",
          "dash": "solid"
         },
         "marker": {
          "symbol": "circle"
         },
         "mode": "lines+markers",
         "name": "Tonga",
         "showlegend": true,
         "type": "scattergl",
         "x": [
          2000,
          2005,
          2010,
          2015,
          2020
         ],
         "xaxis": "x",
         "y": [
          4.08,
          2.49,
          1.74,
          2.55,
          3.63
         ],
         "yaxis": "y"
        },
        {
         "hovertemplate": "%{y}% unemployment in %{x}",
         "legendgroup": "South Asia (IDA & IBRD)",
         "line": {
          "color": "#00cc96",
          "dash": "solid"
         },
         "marker": {
          "symbol": "circle"
         },
         "mode": "lines+markers",
         "name": "South Asia (IDA & IBRD)",
         "showlegend": true,
         "type": "scattergl",
         "x": [
          2000,
          2005,
          2010,
          2015,
          2020
         ],
         "xaxis": "x",
         "y": [
          4.93,
          5.06,
          4.84,
          5.14,
          7.24
         ],
         "yaxis": "y"
        },
        {
         "hovertemplate": "%{y}% unemployment in %{x}",
         "legendgroup": "Sub-Saharan Africa (IDA & IBRD countries)",
         "line": {
          "color": "#ab63fa",
          "dash": "solid"
         },
         "marker": {
          "symbol": "circle"
         },
         "mode": "lines+markers",
         "name": "Sub-Saharan Africa (IDA & IBRD countries)",
         "showlegend": true,
         "type": "scattergl",
         "x": [
          2000,
          2005,
          2010,
          2015,
          2020
         ],
         "xaxis": "x",
         "y": [
          6.67,
          6.22,
          6,
          5.82,
          7.28
         ],
         "yaxis": "y"
        },
        {
         "hovertemplate": "%{y}% unemployment in %{x}",
         "legendgroup": "Trinidad and Tobago",
         "line": {
          "color": "#FFA15A",
          "dash": "solid"
         },
         "marker": {
          "symbol": "circle"
         },
         "mode": "lines+markers",
         "name": "Trinidad and Tobago",
         "showlegend": true,
         "type": "scattergl",
         "x": [
          2000,
          2005,
          2010,
          2015,
          2020
         ],
         "xaxis": "x",
         "y": [
          12.1,
          7.95,
          4.03,
          2.43,
          4.57
         ],
         "yaxis": "y"
        },
        {
         "hovertemplate": "%{y}% unemployment in %{x}",
         "legendgroup": "Tunisia",
         "line": {
          "color": "#19d3f3",
          "dash": "solid"
         },
         "marker": {
          "symbol": "circle"
         },
         "mode": "lines+markers",
         "name": "Tunisia",
         "showlegend": true,
         "type": "scattergl",
         "x": [
          2000,
          2005,
          2010,
          2015,
          2020
         ],
         "xaxis": "x",
         "y": [
          14.94,
          12.87,
          13.05,
          15.16,
          16.59
         ],
         "yaxis": "y"
        },
        {
         "hovertemplate": "%{y}% unemployment in %{x}",
         "legendgroup": "Turkiye",
         "line": {
          "color": "#FF6692",
          "dash": "solid"
         },
         "marker": {
          "symbol": "circle"
         },
         "mode": "lines+markers",
         "name": "Turkiye",
         "showlegend": true,
         "type": "scattergl",
         "x": [
          2000,
          2005,
          2010,
          2015,
          2020
         ],
         "xaxis": "x",
         "y": [
          6.5,
          10.64,
          10.66,
          10.24,
          13.11
         ],
         "yaxis": "y"
        },
        {
         "hovertemplate": "%{y}% unemployment in %{x}",
         "legendgroup": "Tanzania",
         "line": {
          "color": "#B6E880",
          "dash": "solid"
         },
         "marker": {
          "symbol": "circle"
         },
         "mode": "lines+markers",
         "name": "Tanzania",
         "showlegend": true,
         "type": "scattergl",
         "x": [
          2000,
          2005,
          2010,
          2015,
          2020
         ],
         "xaxis": "x",
         "y": [
          3.06,
          3.23,
          2.99,
          2.14,
          2.53
         ],
         "yaxis": "y"
        },
        {
         "hovertemplate": "%{y}% unemployment in %{x}",
         "legendgroup": "Uganda",
         "line": {
          "color": "#FF97FF",
          "dash": "solid"
         },
         "marker": {
          "symbol": "circle"
         },
         "mode": "lines+markers",
         "name": "Uganda",
         "showlegend": true,
         "type": "scattergl",
         "x": [
          2000,
          2005,
          2010,
          2015,
          2020
         ],
         "xaxis": "x",
         "y": [
          3.03,
          1.9,
          3.59,
          1.91,
          2.77
         ],
         "yaxis": "y"
        },
        {
         "hovertemplate": "%{y}% unemployment in %{x}",
         "legendgroup": "Ukraine",
         "line": {
          "color": "#FECB52",
          "dash": "solid"
         },
         "marker": {
          "symbol": "circle"
         },
         "mode": "lines+markers",
         "name": "Ukraine",
         "showlegend": true,
         "type": "scattergl",
         "x": [
          2000,
          2005,
          2010,
          2015,
          2020
         ],
         "xaxis": "x",
         "y": [
          11.71,
          7.18,
          8.1,
          9.14,
          9.13
         ],
         "yaxis": "y"
        },
        {
         "hovertemplate": "%{y}% unemployment in %{x}",
         "legendgroup": "Upper middle income",
         "line": {
          "color": "#636efa",
          "dash": "solid"
         },
         "marker": {
          "symbol": "circle"
         },
         "mode": "lines+markers",
         "name": "Upper middle income",
         "showlegend": true,
         "type": "scattergl",
         "x": [
          2000,
          2005,
          2010,
          2015,
          2020
         ],
         "xaxis": "x",
         "y": [
          5.52,
          5.93,
          5.67,
          5.66,
          6.76
         ],
         "yaxis": "y"
        },
        {
         "hovertemplate": "%{y}% unemployment in %{x}",
         "legendgroup": "Uruguay",
         "line": {
          "color": "#EF553B",
          "dash": "solid"
         },
         "marker": {
          "symbol": "circle"
         },
         "mode": "lines+markers",
         "name": "Uruguay",
         "showlegend": true,
         "type": "scattergl",
         "x": [
          2000,
          2005,
          2010,
          2015,
          2020
         ],
         "xaxis": "x",
         "y": [
          12.63,
          12.01,
          7.16,
          7.49,
          10.35
         ],
         "yaxis": "y"
        },
        {
         "hovertemplate": "%{y}% unemployment in %{x}",
         "legendgroup": "United States",
         "line": {
          "color": "#00cc96",
          "dash": "solid"
         },
         "marker": {
          "symbol": "circle"
         },
         "mode": "lines+markers",
         "name": "United States",
         "showlegend": true,
         "type": "scattergl",
         "x": [
          2000,
          2005,
          2010,
          2015,
          2020
         ],
         "xaxis": "x",
         "y": [
          3.99,
          5.08,
          9.63,
          5.28,
          8.05
         ],
         "yaxis": "y"
        },
        {
         "hovertemplate": "%{y}% unemployment in %{x}",
         "legendgroup": "Uzbekistan",
         "line": {
          "color": "#ab63fa",
          "dash": "solid"
         },
         "marker": {
          "symbol": "circle"
         },
         "mode": "lines+markers",
         "name": "Uzbekistan",
         "showlegend": true,
         "type": "scattergl",
         "x": [
          2000,
          2005,
          2010,
          2015,
          2020
         ],
         "xaxis": "x",
         "y": [
          12.23,
          7.09,
          5.4,
          5.2,
          7.04
         ],
         "yaxis": "y"
        },
        {
         "hovertemplate": "%{y}% unemployment in %{x}",
         "legendgroup": "St. Vincent and the Grenadines",
         "line": {
          "color": "#FFA15A",
          "dash": "solid"
         },
         "marker": {
          "symbol": "circle"
         },
         "mode": "lines+markers",
         "name": "St. Vincent and the Grenadines",
         "showlegend": true,
         "type": "scattergl",
         "x": [
          2000,
          2005,
          2010,
          2015,
          2020
         ],
         "xaxis": "x",
         "y": [
          20.95,
          19.75,
          19.05,
          19.09,
          21
         ],
         "yaxis": "y"
        },
        {
         "hovertemplate": "%{y}% unemployment in %{x}",
         "legendgroup": "Venezuela, RB",
         "line": {
          "color": "#19d3f3",
          "dash": "solid"
         },
         "marker": {
          "symbol": "circle"
         },
         "mode": "lines+markers",
         "name": "Venezuela, RB",
         "showlegend": true,
         "type": "scattergl",
         "x": [
          2000,
          2005,
          2010,
          2015,
          2020
         ],
         "xaxis": "x",
         "y": [
          13.99,
          10.66,
          7.11,
          6.08,
          6.63
         ],
         "yaxis": "y"
        },
        {
         "hovertemplate": "%{y}% unemployment in %{x}",
         "legendgroup": "Virgin Islands (U.S.)",
         "line": {
          "color": "#FF6692",
          "dash": "solid"
         },
         "marker": {
          "symbol": "circle"
         },
         "mode": "lines+markers",
         "name": "Virgin Islands (U.S.)",
         "showlegend": true,
         "type": "scattergl",
         "x": [
          2000,
          2005,
          2010,
          2015,
          2020
         ],
         "xaxis": "x",
         "y": [
          11.11,
          10.96,
          11.73,
          12.62,
          13.55
         ],
         "yaxis": "y"
        },
        {
         "hovertemplate": "%{y}% unemployment in %{x}",
         "legendgroup": "Vietnam",
         "line": {
          "color": "#B6E880",
          "dash": "solid"
         },
         "marker": {
          "symbol": "circle"
         },
         "mode": "lines+markers",
         "name": "Vietnam",
         "showlegend": true,
         "type": "scattergl",
         "x": [
          2000,
          2005,
          2010,
          2015,
          2020
         ],
         "xaxis": "x",
         "y": [
          2.26,
          2.1,
          1.11,
          1.85,
          2.39
         ],
         "yaxis": "y"
        },
        {
         "hovertemplate": "%{y}% unemployment in %{x}",
         "legendgroup": "Vanuatu",
         "line": {
          "color": "#FF97FF",
          "dash": "solid"
         },
         "marker": {
          "symbol": "circle"
         },
         "mode": "lines+markers",
         "name": "Vanuatu",
         "showlegend": true,
         "type": "scattergl",
         "x": [
          2000,
          2005,
          2010,
          2015,
          2020
         ],
         "xaxis": "x",
         "y": [
          1.69,
          1.73,
          1.85,
          1.86,
          2.12
         ],
         "yaxis": "y"
        },
        {
         "hovertemplate": "%{y}% unemployment in %{x}",
         "legendgroup": "World",
         "line": {
          "color": "#FECB52",
          "dash": "solid"
         },
         "marker": {
          "symbol": "circle"
         },
         "mode": "lines+markers",
         "name": "World",
         "showlegend": true,
         "type": "scattergl",
         "x": [
          2000,
          2005,
          2010,
          2015,
          2020
         ],
         "xaxis": "x",
         "y": [
          5.77,
          5.9,
          5.9,
          5.62,
          6.57
         ],
         "yaxis": "y"
        },
        {
         "hovertemplate": "%{y}% unemployment in %{x}",
         "legendgroup": "Samoa",
         "line": {
          "color": "#636efa",
          "dash": "solid"
         },
         "marker": {
          "symbol": "circle"
         },
         "mode": "lines+markers",
         "name": "Samoa",
         "showlegend": true,
         "type": "scattergl",
         "x": [
          2000,
          2005,
          2010,
          2015,
          2020
         ],
         "xaxis": "x",
         "y": [
          4.66,
          5.29,
          5.73,
          8.5,
          9.15
         ],
         "yaxis": "y"
        },
        {
         "hovertemplate": "%{y}% unemployment in %{x}",
         "legendgroup": "Yemen, Rep.",
         "line": {
          "color": "#EF553B",
          "dash": "solid"
         },
         "marker": {
          "symbol": "circle"
         },
         "mode": "lines+markers",
         "name": "Yemen, Rep.",
         "showlegend": true,
         "type": "scattergl",
         "x": [
          2000,
          2005,
          2010,
          2015,
          2020
         ],
         "xaxis": "x",
         "y": [
          11.56,
          12.21,
          12.83,
          13.77,
          13.39
         ],
         "yaxis": "y"
        },
        {
         "hovertemplate": "%{y}% unemployment in %{x}",
         "legendgroup": "South Africa",
         "line": {
          "color": "#00cc96",
          "dash": "solid"
         },
         "marker": {
          "symbol": "circle"
         },
         "mode": "lines+markers",
         "name": "South Africa",
         "showlegend": true,
         "type": "scattergl",
         "x": [
          2000,
          2005,
          2010,
          2015,
          2020
         ],
         "xaxis": "x",
         "y": [
          29.88,
          29.12,
          24.68,
          25.15,
          29.22
         ],
         "yaxis": "y"
        },
        {
         "hovertemplate": "%{y}% unemployment in %{x}",
         "legendgroup": "Zambia",
         "line": {
          "color": "#ab63fa",
          "dash": "solid"
         },
         "marker": {
          "symbol": "circle"
         },
         "mode": "lines+markers",
         "name": "Zambia",
         "showlegend": true,
         "type": "scattergl",
         "x": [
          2000,
          2005,
          2010,
          2015,
          2020
         ],
         "xaxis": "x",
         "y": [
          12.93,
          15.9,
          13.19,
          10.13,
          12.85
         ],
         "yaxis": "y"
        },
        {
         "hovertemplate": "%{y}% unemployment in %{x}",
         "legendgroup": "Zimbabwe",
         "line": {
          "color": "#FFA15A",
          "dash": "solid"
         },
         "marker": {
          "symbol": "circle"
         },
         "mode": "lines+markers",
         "name": "Zimbabwe",
         "showlegend": true,
         "type": "scattergl",
         "x": [
          2000,
          2005,
          2010,
          2015,
          2020
         ],
         "xaxis": "x",
         "y": [
          5.69,
          4.54,
          5.21,
          4.78,
          5.35
         ],
         "yaxis": "y"
        }
       ],
       "layout": {
        "hovermode": "x unified",
        "legend": {
         "title": {
          "text": "Country"
         },
         "tracegroupgap": 0
        },
        "template": {
         "data": {
          "bar": [
           {
            "error_x": {
             "color": "#f2f5fa"
            },
            "error_y": {
             "color": "#f2f5fa"
            },
            "marker": {
             "line": {
              "color": "rgb(17,17,17)",
              "width": 0.5
             },
             "pattern": {
              "fillmode": "overlay",
              "size": 10,
              "solidity": 0.2
             }
            },
            "type": "bar"
           }
          ],
          "barpolar": [
           {
            "marker": {
             "line": {
              "color": "rgb(17,17,17)",
              "width": 0.5
             },
             "pattern": {
              "fillmode": "overlay",
              "size": 10,
              "solidity": 0.2
             }
            },
            "type": "barpolar"
           }
          ],
          "carpet": [
           {
            "aaxis": {
             "endlinecolor": "#A2B1C6",
             "gridcolor": "#506784",
             "linecolor": "#506784",
             "minorgridcolor": "#506784",
             "startlinecolor": "#A2B1C6"
            },
            "baxis": {
             "endlinecolor": "#A2B1C6",
             "gridcolor": "#506784",
             "linecolor": "#506784",
             "minorgridcolor": "#506784",
             "startlinecolor": "#A2B1C6"
            },
            "type": "carpet"
           }
          ],
          "choropleth": [
           {
            "colorbar": {
             "outlinewidth": 0,
             "ticks": ""
            },
            "type": "choropleth"
           }
          ],
          "contour": [
           {
            "colorbar": {
             "outlinewidth": 0,
             "ticks": ""
            },
            "colorscale": [
             [
              0,
              "#0d0887"
             ],
             [
              0.1111111111111111,
              "#46039f"
             ],
             [
              0.2222222222222222,
              "#7201a8"
             ],
             [
              0.3333333333333333,
              "#9c179e"
             ],
             [
              0.4444444444444444,
              "#bd3786"
             ],
             [
              0.5555555555555556,
              "#d8576b"
             ],
             [
              0.6666666666666666,
              "#ed7953"
             ],
             [
              0.7777777777777778,
              "#fb9f3a"
             ],
             [
              0.8888888888888888,
              "#fdca26"
             ],
             [
              1,
              "#f0f921"
             ]
            ],
            "type": "contour"
           }
          ],
          "contourcarpet": [
           {
            "colorbar": {
             "outlinewidth": 0,
             "ticks": ""
            },
            "type": "contourcarpet"
           }
          ],
          "heatmap": [
           {
            "colorbar": {
             "outlinewidth": 0,
             "ticks": ""
            },
            "colorscale": [
             [
              0,
              "#0d0887"
             ],
             [
              0.1111111111111111,
              "#46039f"
             ],
             [
              0.2222222222222222,
              "#7201a8"
             ],
             [
              0.3333333333333333,
              "#9c179e"
             ],
             [
              0.4444444444444444,
              "#bd3786"
             ],
             [
              0.5555555555555556,
              "#d8576b"
             ],
             [
              0.6666666666666666,
              "#ed7953"
             ],
             [
              0.7777777777777778,
              "#fb9f3a"
             ],
             [
              0.8888888888888888,
              "#fdca26"
             ],
             [
              1,
              "#f0f921"
             ]
            ],
            "type": "heatmap"
           }
          ],
          "heatmapgl": [
           {
            "colorbar": {
             "outlinewidth": 0,
             "ticks": ""
            },
            "colorscale": [
             [
              0,
              "#0d0887"
             ],
             [
              0.1111111111111111,
              "#46039f"
             ],
             [
              0.2222222222222222,
              "#7201a8"
             ],
             [
              0.3333333333333333,
              "#9c179e"
             ],
             [
              0.4444444444444444,
              "#bd3786"
             ],
             [
              0.5555555555555556,
              "#d8576b"
             ],
             [
              0.6666666666666666,
              "#ed7953"
             ],
             [
              0.7777777777777778,
              "#fb9f3a"
             ],
             [
              0.8888888888888888,
              "#fdca26"
             ],
             [
              1,
              "#f0f921"
             ]
            ],
            "type": "heatmapgl"
           }
          ],
          "histogram": [
           {
            "marker": {
             "pattern": {
              "fillmode": "overlay",
              "size": 10,
              "solidity": 0.2
             }
            },
            "type": "histogram"
           }
          ],
          "histogram2d": [
           {
            "colorbar": {
             "outlinewidth": 0,
             "ticks": ""
            },
            "colorscale": [
             [
              0,
              "#0d0887"
             ],
             [
              0.1111111111111111,
              "#46039f"
             ],
             [
              0.2222222222222222,
              "#7201a8"
             ],
             [
              0.3333333333333333,
              "#9c179e"
             ],
             [
              0.4444444444444444,
              "#bd3786"
             ],
             [
              0.5555555555555556,
              "#d8576b"
             ],
             [
              0.6666666666666666,
              "#ed7953"
             ],
             [
              0.7777777777777778,
              "#fb9f3a"
             ],
             [
              0.8888888888888888,
              "#fdca26"
             ],
             [
              1,
              "#f0f921"
             ]
            ],
            "type": "histogram2d"
           }
          ],
          "histogram2dcontour": [
           {
            "colorbar": {
             "outlinewidth": 0,
             "ticks": ""
            },
            "colorscale": [
             [
              0,
              "#0d0887"
             ],
             [
              0.1111111111111111,
              "#46039f"
             ],
             [
              0.2222222222222222,
              "#7201a8"
             ],
             [
              0.3333333333333333,
              "#9c179e"
             ],
             [
              0.4444444444444444,
              "#bd3786"
             ],
             [
              0.5555555555555556,
              "#d8576b"
             ],
             [
              0.6666666666666666,
              "#ed7953"
             ],
             [
              0.7777777777777778,
              "#fb9f3a"
             ],
             [
              0.8888888888888888,
              "#fdca26"
             ],
             [
              1,
              "#f0f921"
             ]
            ],
            "type": "histogram2dcontour"
           }
          ],
          "mesh3d": [
           {
            "colorbar": {
             "outlinewidth": 0,
             "ticks": ""
            },
            "type": "mesh3d"
           }
          ],
          "parcoords": [
           {
            "line": {
             "colorbar": {
              "outlinewidth": 0,
              "ticks": ""
             }
            },
            "type": "parcoords"
           }
          ],
          "pie": [
           {
            "automargin": true,
            "type": "pie"
           }
          ],
          "scatter": [
           {
            "marker": {
             "line": {
              "color": "#283442"
             }
            },
            "type": "scatter"
           }
          ],
          "scatter3d": [
           {
            "line": {
             "colorbar": {
              "outlinewidth": 0,
              "ticks": ""
             }
            },
            "marker": {
             "colorbar": {
              "outlinewidth": 0,
              "ticks": ""
             }
            },
            "type": "scatter3d"
           }
          ],
          "scattercarpet": [
           {
            "marker": {
             "colorbar": {
              "outlinewidth": 0,
              "ticks": ""
             }
            },
            "type": "scattercarpet"
           }
          ],
          "scattergeo": [
           {
            "marker": {
             "colorbar": {
              "outlinewidth": 0,
              "ticks": ""
             }
            },
            "type": "scattergeo"
           }
          ],
          "scattergl": [
           {
            "marker": {
             "line": {
              "color": "#283442"
             }
            },
            "type": "scattergl"
           }
          ],
          "scattermapbox": [
           {
            "marker": {
             "colorbar": {
              "outlinewidth": 0,
              "ticks": ""
             }
            },
            "type": "scattermapbox"
           }
          ],
          "scatterpolar": [
           {
            "marker": {
             "colorbar": {
              "outlinewidth": 0,
              "ticks": ""
             }
            },
            "type": "scatterpolar"
           }
          ],
          "scatterpolargl": [
           {
            "marker": {
             "colorbar": {
              "outlinewidth": 0,
              "ticks": ""
             }
            },
            "type": "scatterpolargl"
           }
          ],
          "scatterternary": [
           {
            "marker": {
             "colorbar": {
              "outlinewidth": 0,
              "ticks": ""
             }
            },
            "type": "scatterternary"
           }
          ],
          "surface": [
           {
            "colorbar": {
             "outlinewidth": 0,
             "ticks": ""
            },
            "colorscale": [
             [
              0,
              "#0d0887"
             ],
             [
              0.1111111111111111,
              "#46039f"
             ],
             [
              0.2222222222222222,
              "#7201a8"
             ],
             [
              0.3333333333333333,
              "#9c179e"
             ],
             [
              0.4444444444444444,
              "#bd3786"
             ],
             [
              0.5555555555555556,
              "#d8576b"
             ],
             [
              0.6666666666666666,
              "#ed7953"
             ],
             [
              0.7777777777777778,
              "#fb9f3a"
             ],
             [
              0.8888888888888888,
              "#fdca26"
             ],
             [
              1,
              "#f0f921"
             ]
            ],
            "type": "surface"
           }
          ],
          "table": [
           {
            "cells": {
             "fill": {
              "color": "#506784"
             },
             "line": {
              "color": "rgb(17,17,17)"
             }
            },
            "header": {
             "fill": {
              "color": "#2a3f5f"
             },
             "line": {
              "color": "rgb(17,17,17)"
             }
            },
            "type": "table"
           }
          ]
         },
         "layout": {
          "annotationdefaults": {
           "arrowcolor": "#f2f5fa",
           "arrowhead": 0,
           "arrowwidth": 1
          },
          "autotypenumbers": "strict",
          "coloraxis": {
           "colorbar": {
            "outlinewidth": 0,
            "ticks": ""
           }
          },
          "colorscale": {
           "diverging": [
            [
             0,
             "#8e0152"
            ],
            [
             0.1,
             "#c51b7d"
            ],
            [
             0.2,
             "#de77ae"
            ],
            [
             0.3,
             "#f1b6da"
            ],
            [
             0.4,
             "#fde0ef"
            ],
            [
             0.5,
             "#f7f7f7"
            ],
            [
             0.6,
             "#e6f5d0"
            ],
            [
             0.7,
             "#b8e186"
            ],
            [
             0.8,
             "#7fbc41"
            ],
            [
             0.9,
             "#4d9221"
            ],
            [
             1,
             "#276419"
            ]
           ],
           "sequential": [
            [
             0,
             "#0d0887"
            ],
            [
             0.1111111111111111,
             "#46039f"
            ],
            [
             0.2222222222222222,
             "#7201a8"
            ],
            [
             0.3333333333333333,
             "#9c179e"
            ],
            [
             0.4444444444444444,
             "#bd3786"
            ],
            [
             0.5555555555555556,
             "#d8576b"
            ],
            [
             0.6666666666666666,
             "#ed7953"
            ],
            [
             0.7777777777777778,
             "#fb9f3a"
            ],
            [
             0.8888888888888888,
             "#fdca26"
            ],
            [
             1,
             "#f0f921"
            ]
           ],
           "sequentialminus": [
            [
             0,
             "#0d0887"
            ],
            [
             0.1111111111111111,
             "#46039f"
            ],
            [
             0.2222222222222222,
             "#7201a8"
            ],
            [
             0.3333333333333333,
             "#9c179e"
            ],
            [
             0.4444444444444444,
             "#bd3786"
            ],
            [
             0.5555555555555556,
             "#d8576b"
            ],
            [
             0.6666666666666666,
             "#ed7953"
            ],
            [
             0.7777777777777778,
             "#fb9f3a"
            ],
            [
             0.8888888888888888,
             "#fdca26"
            ],
            [
             1,
             "#f0f921"
            ]
           ]
          },
          "colorway": [
           "#636efa",
           "#EF553B",
           "#00cc96",
           "#ab63fa",
           "#FFA15A",
           "#19d3f3",
           "#FF6692",
           "#B6E880",
           "#FF97FF",
           "#FECB52"
          ],
          "font": {
           "color": "#f2f5fa"
          },
          "geo": {
           "bgcolor": "rgb(17,17,17)",
           "lakecolor": "rgb(17,17,17)",
           "landcolor": "rgb(17,17,17)",
           "showlakes": true,
           "showland": true,
           "subunitcolor": "#506784"
          },
          "hoverlabel": {
           "align": "left"
          },
          "hovermode": "closest",
          "mapbox": {
           "style": "dark"
          },
          "paper_bgcolor": "rgb(17,17,17)",
          "plot_bgcolor": "rgb(17,17,17)",
          "polar": {
           "angularaxis": {
            "gridcolor": "#506784",
            "linecolor": "#506784",
            "ticks": ""
           },
           "bgcolor": "rgb(17,17,17)",
           "radialaxis": {
            "gridcolor": "#506784",
            "linecolor": "#506784",
            "ticks": ""
           }
          },
          "scene": {
           "xaxis": {
            "backgroundcolor": "rgb(17,17,17)",
            "gridcolor": "#506784",
            "gridwidth": 2,
            "linecolor": "#506784",
            "showbackground": true,
            "ticks": "",
            "zerolinecolor": "#C8D4E3"
           },
           "yaxis": {
            "backgroundcolor": "rgb(17,17,17)",
            "gridcolor": "#506784",
            "gridwidth": 2,
            "linecolor": "#506784",
            "showbackground": true,
            "ticks": "",
            "zerolinecolor": "#C8D4E3"
           },
           "zaxis": {
            "backgroundcolor": "rgb(17,17,17)",
            "gridcolor": "#506784",
            "gridwidth": 2,
            "linecolor": "#506784",
            "showbackground": true,
            "ticks": "",
            "zerolinecolor": "#C8D4E3"
           }
          },
          "shapedefaults": {
           "line": {
            "color": "#f2f5fa"
           }
          },
          "sliderdefaults": {
           "bgcolor": "#C8D4E3",
           "bordercolor": "rgb(17,17,17)",
           "borderwidth": 1,
           "tickwidth": 0
          },
          "ternary": {
           "aaxis": {
            "gridcolor": "#506784",
            "linecolor": "#506784",
            "ticks": ""
           },
           "baxis": {
            "gridcolor": "#506784",
            "linecolor": "#506784",
            "ticks": ""
           },
           "bgcolor": "rgb(17,17,17)",
           "caxis": {
            "gridcolor": "#506784",
            "linecolor": "#506784",
            "ticks": ""
           }
          },
          "title": {
           "x": 0.05
          },
          "updatemenudefaults": {
           "bgcolor": "#506784",
           "borderwidth": 0
          },
          "xaxis": {
           "automargin": true,
           "gridcolor": "#283442",
           "linecolor": "#506784",
           "ticks": "",
           "title": {
            "standoff": 15
           },
           "zerolinecolor": "#283442",
           "zerolinewidth": 2
          },
          "yaxis": {
           "automargin": true,
           "gridcolor": "#283442",
           "linecolor": "#506784",
           "ticks": "",
           "title": {
            "standoff": 15
           },
           "zerolinecolor": "#283442",
           "zerolinewidth": 2
          }
         }
        },
        "title": {
         "text": "Interactive Unemployment Rate by Country Over Selected Years"
        },
        "xaxis": {
         "anchor": "y",
         "domain": [
          0,
          1
         ],
         "title": {
          "text": "Year"
         }
        },
        "yaxis": {
         "anchor": "x",
         "domain": [
          0,
          1
         ],
         "title": {
          "text": "Unemployment Rate (%)"
         }
        }
       }
      }
     },
     "metadata": {},
     "output_type": "display_data"
    }
   ],
   "source": [
    "import plotly.express as px\n",
    "\n",
    "years_of_interest = [2000, 2005, 2010, 2015, 2020]\n",
    "filtered_data = analysis_data_cleaned[analysis_data_cleaned['Year'].isin(years_of_interest)]\n",
    "\n",
    "fig = px.line(\n",
    "    filtered_data,\n",
    "    x='Year',\n",
    "    y='Unemployment Rate',\n",
    "    color='Country Name',  # Color lines by country\n",
    "    title='Interactive Unemployment Rate by Country Over Selected Years',\n",
    "    labels={'Unemployment Rate': 'Unemployment Rate (%)', 'Year': 'Year'}\n",
    ")\n",
    "\n",
    "fig.update_traces(mode='lines+markers', hovertemplate='%{y}% unemployment in %{x}')\n",
    "fig.update_layout(\n",
    "    xaxis_title='Year',\n",
    "    yaxis_title='Unemployment Rate (%)',\n",
    "    hovermode='x unified',\n",
    "    legend_title_text='Country',\n",
    "    template='plotly_dark'  # Optional: change to 'plotly' for a lighter theme\n",
    ")\n",
    "\n",
    "fig.show()\n"
   ]
  },
  {
   "cell_type": "markdown",
   "metadata": {},
   "source": [
    "## More data cleaning and merging Data BLS and FRED\n",
    "- Converted 'Year' column to datetime for BLS data\n",
    "- Merged BLS and FRED data on 'Year'"
   ]
  },
  {
   "cell_type": "code",
   "execution_count": 24,
   "metadata": {},
   "outputs": [
    {
     "data": {
      "image/png": "[encoded data removed]",
      "text/plain": [
       "<Figure size 1200x600 with 1 Axes>"
      ]
     },
     "metadata": {},
     "output_type": "display_data"
    }
   ],
   "source": [
    "import pandas as pd\n",
    "import matplotlib.pyplot as plt\n",
    "import seaborn as sns\n",
    "\n",
    "\n",
    "# Loading datasets\n",
    "bls_data_path = 'path_to_your_bls_data.csv'  # Update this to your BLS data file path\n",
    "fred_data_path = 'path_to_your_fred_data.csv'  # Update this to your FRED data file path\n",
    "\n",
    "\n",
    "# Convert 'Year' column to datetime for BLS data\n",
    "bls_data_cleaned['Year'] = pd.to_datetime(bls_data_cleaned['Year'])\n",
    "\n",
    "# Convert 'Year' column in FRED data to datetime\n",
    "fred_data_cleaned['Year'] = pd.to_datetime(fred_data_cleaned['Year'].astype(str) + '-01-01')\n",
    "\n",
    "# Merge BLS and FRED data on 'Year'\n",
    "bls_fred_cleaned = pd.merge(\n",
    "    bls_data_cleaned[['Year', 'BLS_Unemployment_Value']],\n",
    "    fred_data_cleaned[['Year', 'Unemployment Rate']],\n",
    "    on='Year',\n",
    "    how='outer'\n",
    ")\n",
    "\n",
    "# Plot the data\n",
    "plt.figure(figsize=(12, 6))\n",
    "sns.lineplot(data=bls_fred_cleaned, x='Year', y='BLS_Unemployment_Value', label='BLS Unemployment Value', color='blue')\n",
    "sns.lineplot(data=bls_fred_cleaned, x='Year', y='Unemployment Rate', label='FRED Unemployment Rate', color='orange')\n",
    "\n",
    "# Adding titles and labels\n",
    "plt.title('Comparison of BLS and FRED Unemployment Rates')\n",
    "plt.xlabel('Year')\n",
    "plt.ylabel('Unemployment Rate (%)')\n",
    "plt.xticks(rotation=45)  \n",
    "plt.legend()\n",
    "plt.grid()\n",
    "plt.tight_layout()  \n",
    "plt.show()\n"
   ]
  },
  {
   "cell_type": "markdown",
   "metadata": {},
   "source": [
    "## Line chart for unemployment_analysis with plotly\n",
    "**Description: Interactive Line Chart — created using PlotlyUnemployment Rates for selected Countries from 2000 to 2005, 2010, 2015, 2020. It displays countries by turning them on/off using a dropdown or legend that’s interactive.**\n",
    "\n",
    "**Insights: Interactive option gives country comparison. It’s easy to spot which countries experienced higher unemployment in some years, and to see global or regional patterns. Global recessions such as the financial crisis of 2008, for instance, can manifest in more than one nation.**"
   ]
  },
  {
   "cell_type": "code",
   "execution_count": 25,
   "metadata": {},
   "outputs": [
    {
     "data": {
      "application/vnd.plotly.v1+json": {
       "config": {
        "plotlyServerURL": "https://plot.ly"
       },
       "data": [
        {
         "hovertemplate": "%{y}% unemployment in %{x}",
         "legendgroup": "Africa Eastern and Southern",
         "line": {
          "color": "#636efa",
          "dash": "solid"
         },
         "marker": {
          "symbol": "circle"
         },
         "mode": "lines+markers",
         "name": "Africa Eastern and Southern",
         "showlegend": true,
         "type": "scattergl",
         "x": [
          2000,
          2005,
          2010,
          2015,
          2020
         ],
         "xaxis": "x",
         "y": [
          7.72,
          7.12,
          6.87,
          6.49,
          7.56
         ],
         "yaxis": "y"
        },
        {
         "hovertemplate": "%{y}% unemployment in %{x}",
         "legendgroup": "Afghanistan",
         "line": {
          "color": "#EF553B",
          "dash": "solid"
         },
         "marker": {
          "symbol": "circle"
         },
         "mode": "lines+markers",
         "name": "Afghanistan",
         "showlegend": true,
         "type": "scattergl",
         "x": [
          2000,
          2005,
          2010,
          2015,
          2020
         ],
         "xaxis": "x",
         "y": [
          10.81,
          11.22,
          11.35,
          11.13,
          11.71
         ],
         "yaxis": "y"
        },
        {
         "hovertemplate": "%{y}% unemployment in %{x}",
         "legendgroup": "Africa Western and Central",
         "line": {
          "color": "#00cc96",
          "dash": "solid"
         },
         "marker": {
          "symbol": "circle"
         },
         "mode": "lines+markers",
         "name": "Africa Western and Central",
         "showlegend": true,
         "type": "scattergl",
         "x": [
          2000,
          2005,
          2010,
          2015,
          2020
         ],
         "xaxis": "x",
         "y": [
          4.92,
          4.73,
          4.55,
          4.63,
          6.77
         ],
         "yaxis": "y"
        },
        {
         "hovertemplate": "%{y}% unemployment in %{x}",
         "legendgroup": "Angola",
         "line": {
          "color": "#ab63fa",
          "dash": "solid"
         },
         "marker": {
          "symbol": "circle"
         },
         "mode": "lines+markers",
         "name": "Angola",
         "showlegend": true,
         "type": "scattergl",
         "x": [
          2000,
          2005,
          2010,
          2015,
          2020
         ],
         "xaxis": "x",
         "y": [
          4.03,
          3.88,
          9.43,
          7.39,
          8.33
         ],
         "yaxis": "y"
        },
        {
         "hovertemplate": "%{y}% unemployment in %{x}",
         "legendgroup": "Albania",
         "line": {
          "color": "#FFA15A",
          "dash": "solid"
         },
         "marker": {
          "symbol": "circle"
         },
         "mode": "lines+markers",
         "name": "Albania",
         "showlegend": true,
         "type": "scattergl",
         "x": [
          2000,
          2005,
          2010,
          2015,
          2020
         ],
         "xaxis": "x",
         "y": [
          19.03,
          15.97,
          14.09,
          17.19,
          13.33
         ],
         "yaxis": "y"
        },
        {
         "hovertemplate": "%{y}% unemployment in %{x}",
         "legendgroup": "Arab World",
         "line": {
          "color": "#19d3f3",
          "dash": "solid"
         },
         "marker": {
          "symbol": "circle"
         },
         "mode": "lines+markers",
         "name": "Arab World",
         "showlegend": true,
         "type": "scattergl",
         "x": [
          2000,
          2005,
          2010,
          2015,
          2020
         ],
         "xaxis": "x",
         "y": [
          12.6,
          11.2,
          9.4,
          10.97,
          11.49
         ],
         "yaxis": "y"
        },
        {
         "hovertemplate": "%{y}% unemployment in %{x}",
         "legendgroup": "United Arab Emirates",
         "line": {
          "color": "#FF6692",
          "dash": "solid"
         },
         "marker": {
          "symbol": "circle"
         },
         "mode": "lines+markers",
         "name": "United Arab Emirates",
         "showlegend": true,
         "type": "scattergl",
         "x": [
          2000,
          2005,
          2010,
          2015,
          2020
         ],
         "xaxis": "x",
         "y": [
          2.25,
          3.12,
          2.48,
          1.77,
          3.19
         ],
         "yaxis": "y"
        },
        {
         "hovertemplate": "%{y}% unemployment in %{x}",
         "legendgroup": "Argentina",
         "line": {
          "color": "#B6E880",
          "dash": "solid"
         },
         "marker": {
          "symbol": "circle"
         },
         "mode": "lines+markers",
         "name": "Argentina",
         "showlegend": true,
         "type": "scattergl",
         "x": [
          2000,
          2005,
          2010,
          2015,
          2020
         ],
         "xaxis": "x",
         "y": [
          15,
          11.51,
          7.71,
          7.52,
          11.46
         ],
         "yaxis": "y"
        },
        {
         "hovertemplate": "%{y}% unemployment in %{x}",
         "legendgroup": "Armenia",
         "line": {
          "color": "#FF97FF",
          "dash": "solid"
         },
         "marker": {
          "symbol": "circle"
         },
         "mode": "lines+markers",
         "name": "Armenia",
         "showlegend": true,
         "type": "scattergl",
         "x": [
          2000,
          2005,
          2010,
          2015,
          2020
         ],
         "xaxis": "x",
         "y": [
          11.05,
          10.2,
          19.01,
          18.26,
          21.21
         ],
         "yaxis": "y"
        },
        {
         "hovertemplate": "%{y}% unemployment in %{x}",
         "legendgroup": "Australia",
         "line": {
          "color": "#FECB52",
          "dash": "solid"
         },
         "marker": {
          "symbol": "circle"
         },
         "mode": "lines+markers",
         "name": "Australia",
         "showlegend": true,
         "type": "scattergl",
         "x": [
          2000,
          2005,
          2010,
          2015,
          2020
         ],
         "xaxis": "x",
         "y": [
          6.28,
          5.03,
          5.21,
          6.05,
          6.46
         ],
         "yaxis": "y"
        },
        {
         "hovertemplate": "%{y}% unemployment in %{x}",
         "legendgroup": "Austria",
         "line": {
          "color": "#636efa",
          "dash": "solid"
         },
         "marker": {
          "symbol": "circle"
         },
         "mode": "lines+markers",
         "name": "Austria",
         "showlegend": true,
         "type": "scattergl",
         "x": [
          2000,
          2005,
          2010,
          2015,
          2020
         ],
         "xaxis": "x",
         "y": [
          4.69,
          5.63,
          4.82,
          5.72,
          5.36
         ],
         "yaxis": "y"
        },
        {
         "hovertemplate": "%{y}% unemployment in %{x}",
         "legendgroup": "Azerbaijan",
         "line": {
          "color": "#EF553B",
          "dash": "solid"
         },
         "marker": {
          "symbol": "circle"
         },
         "mode": "lines+markers",
         "name": "Azerbaijan",
         "showlegend": true,
         "type": "scattergl",
         "x": [
          2000,
          2005,
          2010,
          2015,
          2020
         ],
         "xaxis": "x",
         "y": [
          11.78,
          7.26,
          5.63,
          4.96,
          6.46
         ],
         "yaxis": "y"
        },
        {
         "hovertemplate": "%{y}% unemployment in %{x}",
         "legendgroup": "Burundi",
         "line": {
          "color": "#00cc96",
          "dash": "solid"
         },
         "marker": {
          "symbol": "circle"
         },
         "mode": "lines+markers",
         "name": "Burundi",
         "showlegend": true,
         "type": "scattergl",
         "x": [
          2000,
          2005,
          2010,
          2015,
          2020
         ],
         "xaxis": "x",
         "y": [
          1.59,
          1.62,
          1.61,
          1.6,
          1.71
         ],
         "yaxis": "y"
        },
        {
         "hovertemplate": "%{y}% unemployment in %{x}",
         "legendgroup": "Belgium",
         "line": {
          "color": "#ab63fa",
          "dash": "solid"
         },
         "marker": {
          "symbol": "circle"
         },
         "mode": "lines+markers",
         "name": "Belgium",
         "showlegend": true,
         "type": "scattergl",
         "x": [
          2000,
          2005,
          2010,
          2015,
          2020
         ],
         "xaxis": "x",
         "y": [
          6.59,
          8.44,
          8.29,
          8.48,
          5.55
         ],
         "yaxis": "y"
        },
        {
         "hovertemplate": "%{y}% unemployment in %{x}",
         "legendgroup": "Benin",
         "line": {
          "color": "#FFA15A",
          "dash": "solid"
         },
         "marker": {
          "symbol": "circle"
         },
         "mode": "lines+markers",
         "name": "Benin",
         "showlegend": true,
         "type": "scattergl",
         "x": [
          2000,
          2005,
          2010,
          2015,
          2020
         ],
         "xaxis": "x",
         "y": [
          0.85,
          0.82,
          1.04,
          2.01,
          1.58
         ],
         "yaxis": "y"
        },
        {
         "hovertemplate": "%{y}% unemployment in %{x}",
         "legendgroup": "Burkina Faso",
         "line": {
          "color": "#19d3f3",
          "dash": "solid"
         },
         "marker": {
          "symbol": "circle"
         },
         "mode": "lines+markers",
         "name": "Burkina Faso",
         "showlegend": true,
         "type": "scattergl",
         "x": [
          2000,
          2005,
          2010,
          2015,
          2020
         ],
         "xaxis": "x",
         "y": [
          2.61,
          4,
          3.64,
          4.32,
          4.89
         ],
         "yaxis": "y"
        },
        {
         "hovertemplate": "%{y}% unemployment in %{x}",
         "legendgroup": "Bangladesh",
         "line": {
          "color": "#FF6692",
          "dash": "solid"
         },
         "marker": {
          "symbol": "circle"
         },
         "mode": "lines+markers",
         "name": "Bangladesh",
         "showlegend": true,
         "type": "scattergl",
         "x": [
          2000,
          2005,
          2010,
          2015,
          2020
         ],
         "xaxis": "x",
         "y": [
          3.27,
          4.25,
          3.38,
          4.37,
          5.41
         ],
         "yaxis": "y"
        },
        {
         "hovertemplate": "%{y}% unemployment in %{x}",
         "legendgroup": "Bulgaria",
         "line": {
          "color": "#B6E880",
          "dash": "solid"
         },
         "marker": {
          "symbol": "circle"
         },
         "mode": "lines+markers",
         "name": "Bulgaria",
         "showlegend": true,
         "type": "scattergl",
         "x": [
          2000,
          2005,
          2010,
          2015,
          2020
         ],
         "xaxis": "x",
         "y": [
          16.22,
          10.08,
          10.28,
          9.14,
          5.12
         ],
         "yaxis": "y"
        },
        {
         "hovertemplate": "%{y}% unemployment in %{x}",
         "legendgroup": "Bahrain",
         "line": {
          "color": "#FF97FF",
          "dash": "solid"
         },
         "marker": {
          "symbol": "circle"
         },
         "mode": "lines+markers",
         "name": "Bahrain",
         "showlegend": true,
         "type": "scattergl",
         "x": [
          2000,
          2005,
          2010,
          2015,
          2020
         ],
         "xaxis": "x",
         "y": [
          1.08,
          1.09,
          1.13,
          1.2,
          1.78
         ],
         "yaxis": "y"
        },
        {
         "hovertemplate": "%{y}% unemployment in %{x}",
         "legendgroup": "Bahamas, The",
         "line": {
          "color": "#FECB52",
          "dash": "solid"
         },
         "marker": {
          "symbol": "circle"
         },
         "mode": "lines+markers",
         "name": "Bahamas, The",
         "showlegend": true,
         "type": "scattergl",
         "x": [
          2000,
          2005,
          2010,
          2015,
          2020
         ],
         "xaxis": "x",
         "y": [
          7.2,
          10.2,
          14.31,
          12,
          13.32
         ],
         "yaxis": "y"
        },
        {
         "hovertemplate": "%{y}% unemployment in %{x}",
         "legendgroup": "Bosnia and Herzegovina",
         "line": {
          "color": "#636efa",
          "dash": "solid"
         },
         "marker": {
          "symbol": "circle"
         },
         "mode": "lines+markers",
         "name": "Bosnia and Herzegovina",
         "showlegend": true,
         "type": "scattergl",
         "x": [
          2000,
          2005,
          2010,
          2015,
          2020
         ],
         "xaxis": "x",
         "y": [
          25.78,
          30.41,
          27.31,
          27.69,
          15.27
         ],
         "yaxis": "y"
        },
        {
         "hovertemplate": "%{y}% unemployment in %{x}",
         "legendgroup": "Belarus",
         "line": {
          "color": "#EF553B",
          "dash": "solid"
         },
         "marker": {
          "symbol": "circle"
         },
         "mode": "lines+markers",
         "name": "Belarus",
         "showlegend": true,
         "type": "scattergl",
         "x": [
          2000,
          2005,
          2010,
          2015,
          2020
         ],
         "xaxis": "x",
         "y": [
          12.26,
          9.06,
          6.25,
          5.84,
          4.77
         ],
         "yaxis": "y"
        },
        {
         "hovertemplate": "%{y}% unemployment in %{x}",
         "legendgroup": "Belize",
         "line": {
          "color": "#00cc96",
          "dash": "solid"
         },
         "marker": {
          "symbol": "circle"
         },
         "mode": "lines+markers",
         "name": "Belize",
         "showlegend": true,
         "type": "scattergl",
         "x": [
          2000,
          2005,
          2010,
          2015,
          2020
         ],
         "xaxis": "x",
         "y": [
          10.85,
          10.91,
          8.24,
          7.58,
          8.46
         ],
         "yaxis": "y"
        },
        {
         "hovertemplate": "%{y}% unemployment in %{x}",
         "legendgroup": "Bolivia",
         "line": {
          "color": "#ab63fa",
          "dash": "solid"
         },
         "marker": {
          "symbol": "circle"
         },
         "mode": "lines+markers",
         "name": "Bolivia",
         "showlegend": true,
         "type": "scattergl",
         "x": [
          2000,
          2005,
          2010,
          2015,
          2020
         ],
         "xaxis": "x",
         "y": [
          2.38,
          2.54,
          2.61,
          3.11,
          7.9
         ],
         "yaxis": "y"
        },
        {
         "hovertemplate": "%{y}% unemployment in %{x}",
         "legendgroup": "Brazil",
         "line": {
          "color": "#FFA15A",
          "dash": "solid"
         },
         "marker": {
          "symbol": "circle"
         },
         "mode": "lines+markers",
         "name": "Brazil",
         "showlegend": true,
         "type": "scattergl",
         "x": [
          2000,
          2005,
          2010,
          2015,
          2020
         ],
         "xaxis": "x",
         "y": [
          9.56,
          9.57,
          7.27,
          8.43,
          13.69
         ],
         "yaxis": "y"
        },
        {
         "hovertemplate": "%{y}% unemployment in %{x}",
         "legendgroup": "Barbados",
         "line": {
          "color": "#19d3f3",
          "dash": "solid"
         },
         "marker": {
          "symbol": "circle"
         },
         "mode": "lines+markers",
         "name": "Barbados",
         "showlegend": true,
         "type": "scattergl",
         "x": [
          2000,
          2005,
          2010,
          2015,
          2020
         ],
         "xaxis": "x",
         "y": [
          9.35,
          9.08,
          10.69,
          9.8,
          10.38
         ],
         "yaxis": "y"
        },
        {
         "hovertemplate": "%{y}% unemployment in %{x}",
         "legendgroup": "Brunei Darussalam",
         "line": {
          "color": "#FF6692",
          "dash": "solid"
         },
         "marker": {
          "symbol": "circle"
         },
         "mode": "lines+markers",
         "name": "Brunei Darussalam",
         "showlegend": true,
         "type": "scattergl",
         "x": [
          2000,
          2005,
          2010,
          2015,
          2020
         ],
         "xaxis": "x",
         "y": [
          5.68,
          6.13,
          6.77,
          7.78,
          7.68
         ],
         "yaxis": "y"
        },
        {
         "hovertemplate": "%{y}% unemployment in %{x}",
         "legendgroup": "Bhutan",
         "line": {
          "color": "#B6E880",
          "dash": "solid"
         },
         "marker": {
          "symbol": "circle"
         },
         "mode": "lines+markers",
         "name": "Bhutan",
         "showlegend": true,
         "type": "scattergl",
         "x": [
          2000,
          2005,
          2010,
          2015,
          2020
         ],
         "xaxis": "x",
         "y": [
          1.59,
          3.1,
          3.32,
          2.45,
          3.65
         ],
         "yaxis": "y"
        },
        {
         "hovertemplate": "%{y}% unemployment in %{x}",
         "legendgroup": "Botswana",
         "line": {
          "color": "#FF97FF",
          "dash": "solid"
         },
         "marker": {
          "symbol": "circle"
         },
         "mode": "lines+markers",
         "name": "Botswana",
         "showlegend": true,
         "type": "scattergl",
         "x": [
          2000,
          2005,
          2010,
          2015,
          2020
         ],
         "xaxis": "x",
         "y": [
          15.88,
          19.81,
          17.86,
          20.57,
          24.93
         ],
         "yaxis": "y"
        },
        {
         "hovertemplate": "%{y}% unemployment in %{x}",
         "legendgroup": "Central African Republic",
         "line": {
          "color": "#FECB52",
          "dash": "solid"
         },
         "marker": {
          "symbol": "circle"
         },
         "mode": "lines+markers",
         "name": "Central African Republic",
         "showlegend": true,
         "type": "scattergl",
         "x": [
          2000,
          2005,
          2010,
          2015,
          2020
         ],
         "xaxis": "x",
         "y": [
          5.61,
          5.7,
          5.67,
          5.61,
          6.36
         ],
         "yaxis": "y"
        },
        {
         "hovertemplate": "%{y}% unemployment in %{x}",
         "legendgroup": "Canada",
         "line": {
          "color": "#636efa",
          "dash": "solid"
         },
         "marker": {
          "symbol": "circle"
         },
         "mode": "lines+markers",
         "name": "Canada",
         "showlegend": true,
         "type": "scattergl",
         "x": [
          2000,
          2005,
          2010,
          2015,
          2020
         ],
         "xaxis": "x",
         "y": [
          6.83,
          6.76,
          8.06,
          6.91,
          9.46
         ],
         "yaxis": "y"
        },
        {
         "hovertemplate": "%{y}% unemployment in %{x}",
         "legendgroup": "Central Europe and the Baltics",
         "line": {
          "color": "#EF553B",
          "dash": "solid"
         },
         "marker": {
          "symbol": "circle"
         },
         "mode": "lines+markers",
         "name": "Central Europe and the Baltics",
         "showlegend": true,
         "type": "scattergl",
         "x": [
          2000,
          2005,
          2010,
          2015,
          2020
         ],
         "xaxis": "x",
         "y": [
          12.43,
          12.04,
          9.9,
          7.82,
          4.37
         ],
         "yaxis": "y"
        },
        {
         "hovertemplate": "%{y}% unemployment in %{x}",
         "legendgroup": "Switzerland",
         "line": {
          "color": "#00cc96",
          "dash": "solid"
         },
         "marker": {
          "symbol": "circle"
         },
         "mode": "lines+markers",
         "name": "Switzerland",
         "showlegend": true,
         "type": "scattergl",
         "x": [
          2000,
          2005,
          2010,
          2015,
          2020
         ],
         "xaxis": "x",
         "y": [
          2.67,
          4.44,
          4.8,
          4.8,
          4.82
         ],
         "yaxis": "y"
        },
        {
         "hovertemplate": "%{y}% unemployment in %{x}",
         "legendgroup": "Channel Islands",
         "line": {
          "color": "#ab63fa",
          "dash": "solid"
         },
         "marker": {
          "symbol": "circle"
         },
         "mode": "lines+markers",
         "name": "Channel Islands",
         "showlegend": true,
         "type": "scattergl",
         "x": [
          2000,
          2005,
          2010,
          2015,
          2020
         ],
         "xaxis": "x",
         "y": [
          5.66,
          6.05,
          7.24,
          8.22,
          7.69
         ],
         "yaxis": "y"
        },
        {
         "hovertemplate": "%{y}% unemployment in %{x}",
         "legendgroup": "Chile",
         "line": {
          "color": "#FFA15A",
          "dash": "solid"
         },
         "marker": {
          "symbol": "circle"
         },
         "mode": "lines+markers",
         "name": "Chile",
         "showlegend": true,
         "type": "scattergl",
         "x": [
          2000,
          2005,
          2010,
          2015,
          2020
         ],
         "xaxis": "x",
         "y": [
          10.49,
          9.34,
          8.42,
          6.51,
          11.18
         ],
         "yaxis": "y"
        },
        {
         "hovertemplate": "%{y}% unemployment in %{x}",
         "legendgroup": "China",
         "line": {
          "color": "#19d3f3",
          "dash": "solid"
         },
         "marker": {
          "symbol": "circle"
         },
         "mode": "lines+markers",
         "name": "China",
         "showlegend": true,
         "type": "scattergl",
         "x": [
          2000,
          2005,
          2010,
          2015,
          2020
         ],
         "xaxis": "x",
         "y": [
          3.26,
          4.52,
          4.53,
          4.63,
          5
         ],
         "yaxis": "y"
        },
        {
         "hovertemplate": "%{y}% unemployment in %{x}",
         "legendgroup": "Cote d'Ivoire",
         "line": {
          "color": "#FF6692",
          "dash": "solid"
         },
         "marker": {
          "symbol": "circle"
         },
         "mode": "lines+markers",
         "name": "Cote d'Ivoire",
         "showlegend": true,
         "type": "scattergl",
         "x": [
          2000,
          2005,
          2010,
          2015,
          2020
         ],
         "xaxis": "x",
         "y": [
          4.58,
          5.69,
          6.84,
          3.15,
          3.49
         ],
         "yaxis": "y"
        },
        {
         "hovertemplate": "%{y}% unemployment in %{x}",
         "legendgroup": "Cameroon",
         "line": {
          "color": "#B6E880",
          "dash": "solid"
         },
         "marker": {
          "symbol": "circle"
         },
         "mode": "lines+markers",
         "name": "Cameroon",
         "showlegend": true,
         "type": "scattergl",
         "x": [
          2000,
          2005,
          2010,
          2015,
          2020
         ],
         "xaxis": "x",
         "y": [
          7.59,
          4.4,
          4.11,
          3.55,
          3.84
         ],
         "yaxis": "y"
        },
        {
         "hovertemplate": "%{y}% unemployment in %{x}",
         "legendgroup": "Congo, Dem. Rep.",
         "line": {
          "color": "#FF97FF",
          "dash": "solid"
         },
         "marker": {
          "symbol": "circle"
         },
         "mode": "lines+markers",
         "name": "Congo, Dem. Rep.",
         "showlegend": true,
         "type": "scattergl",
         "x": [
          2000,
          2005,
          2010,
          2015,
          2020
         ],
         "xaxis": "x",
         "y": [
          2.9,
          2.85,
          4.01,
          4.47,
          5.27
         ],
         "yaxis": "y"
        },
        {
         "hovertemplate": "%{y}% unemployment in %{x}",
         "legendgroup": "Congo, Rep.",
         "line": {
          "color": "#FECB52",
          "dash": "solid"
         },
         "marker": {
          "symbol": "circle"
         },
         "mode": "lines+markers",
         "name": "Congo, Rep.",
         "showlegend": true,
         "type": "scattergl",
         "x": [
          2000,
          2005,
          2010,
          2015,
          2020
         ],
         "xaxis": "x",
         "y": [
          19.9,
          19.8,
          20.07,
          20.45,
          22.84
         ],
         "yaxis": "y"
        },
        {
         "hovertemplate": "%{y}% unemployment in %{x}",
         "legendgroup": "Colombia",
         "line": {
          "color": "#636efa",
          "dash": "solid"
         },
         "marker": {
          "symbol": "circle"
         },
         "mode": "lines+markers",
         "name": "Colombia",
         "showlegend": true,
         "type": "scattergl",
         "x": [
          2000,
          2005,
          2010,
          2015,
          2020
         ],
         "xaxis": "x",
         "y": [
          20.52,
          11.06,
          10.98,
          8.3,
          15.04
         ],
         "yaxis": "y"
        },
        {
         "hovertemplate": "%{y}% unemployment in %{x}",
         "legendgroup": "Comoros",
         "line": {
          "color": "#EF553B",
          "dash": "solid"
         },
         "marker": {
          "symbol": "circle"
         },
         "mode": "lines+markers",
         "name": "Comoros",
         "showlegend": true,
         "type": "scattergl",
         "x": [
          2000,
          2005,
          2010,
          2015,
          2020
         ],
         "xaxis": "x",
         "y": [
          4.68,
          4.92,
          6.69,
          8.14,
          9.22
         ],
         "yaxis": "y"
        },
        {
         "hovertemplate": "%{y}% unemployment in %{x}",
         "legendgroup": "Cabo Verde",
         "line": {
          "color": "#00cc96",
          "dash": "solid"
         },
         "marker": {
          "symbol": "circle"
         },
         "mode": "lines+markers",
         "name": "Cabo Verde",
         "showlegend": true,
         "type": "scattergl",
         "x": [
          2000,
          2005,
          2010,
          2015,
          2020
         ],
         "xaxis": "x",
         "y": [
          10.98,
          10.85,
          10.67,
          11.8,
          15.31
         ],
         "yaxis": "y"
        },
        {
         "hovertemplate": "%{y}% unemployment in %{x}",
         "legendgroup": "Costa Rica",
         "line": {
          "color": "#ab63fa",
          "dash": "solid"
         },
         "marker": {
          "symbol": "circle"
         },
         "mode": "lines+markers",
         "name": "Costa Rica",
         "showlegend": true,
         "type": "scattergl",
         "x": [
          2000,
          2005,
          2010,
          2015,
          2020
         ],
         "xaxis": "x",
         "y": [
          5.08,
          6.57,
          7.17,
          9,
          17.41
         ],
         "yaxis": "y"
        },
        {
         "hovertemplate": "%{y}% unemployment in %{x}",
         "legendgroup": "Caribbean small states",
         "line": {
          "color": "#FFA15A",
          "dash": "solid"
         },
         "marker": {
          "symbol": "circle"
         },
         "mode": "lines+markers",
         "name": "Caribbean small states",
         "showlegend": true,
         "type": "scattergl",
         "x": [
          2000,
          2005,
          2010,
          2015,
          2020
         ],
         "xaxis": "x",
         "y": [
          13.38,
          10.54,
          10.31,
          10.55,
          9.83
         ],
         "yaxis": "y"
        },
        {
         "hovertemplate": "%{y}% unemployment in %{x}",
         "legendgroup": "Cuba",
         "line": {
          "color": "#19d3f3",
          "dash": "solid"
         },
         "marker": {
          "symbol": "circle"
         },
         "mode": "lines+markers",
         "name": "Cuba",
         "showlegend": true,
         "type": "scattergl",
         "x": [
          2000,
          2005,
          2010,
          2015,
          2020
         ],
         "xaxis": "x",
         "y": [
          5.45,
          1.95,
          2.5,
          2.4,
          2.62
         ],
         "yaxis": "y"
        },
        {
         "hovertemplate": "%{y}% unemployment in %{x}",
         "legendgroup": "Cyprus",
         "line": {
          "color": "#FF6692",
          "dash": "solid"
         },
         "marker": {
          "symbol": "circle"
         },
         "mode": "lines+markers",
         "name": "Cyprus",
         "showlegend": true,
         "type": "scattergl",
         "x": [
          2000,
          2005,
          2010,
          2015,
          2020
         ],
         "xaxis": "x",
         "y": [
          4.97,
          5.3,
          6.26,
          14.91,
          7.59
         ],
         "yaxis": "y"
        },
        {
         "hovertemplate": "%{y}% unemployment in %{x}",
         "legendgroup": "Czech Republic",
         "line": {
          "color": "#B6E880",
          "dash": "solid"
         },
         "marker": {
          "symbol": "circle"
         },
         "mode": "lines+markers",
         "name": "Czech Republic",
         "showlegend": true,
         "type": "scattergl",
         "x": [
          2000,
          2005,
          2010,
          2015,
          2020
         ],
         "xaxis": "x",
         "y": [
          8.76,
          7.93,
          7.28,
          5.05,
          2.55
         ],
         "yaxis": "y"
        },
        {
         "hovertemplate": "%{y}% unemployment in %{x}",
         "legendgroup": "Germany",
         "line": {
          "color": "#FF97FF",
          "dash": "solid"
         },
         "marker": {
          "symbol": "circle"
         },
         "mode": "lines+markers",
         "name": "Germany",
         "showlegend": true,
         "type": "scattergl",
         "x": [
          2000,
          2005,
          2010,
          2015,
          2020
         ],
         "xaxis": "x",
         "y": [
          7.92,
          11.17,
          6.97,
          4.62,
          3.81
         ],
         "yaxis": "y"
        },
        {
         "hovertemplate": "%{y}% unemployment in %{x}",
         "legendgroup": "Djibouti",
         "line": {
          "color": "#FECB52",
          "dash": "solid"
         },
         "marker": {
          "symbol": "circle"
         },
         "mode": "lines+markers",
         "name": "Djibouti",
         "showlegend": true,
         "type": "scattergl",
         "x": [
          2000,
          2005,
          2010,
          2015,
          2020
         ],
         "xaxis": "x",
         "y": [
          28.34,
          27.72,
          27.06,
          26.33,
          28.39
         ],
         "yaxis": "y"
        },
        {
         "hovertemplate": "%{y}% unemployment in %{x}",
         "legendgroup": "Denmark",
         "line": {
          "color": "#636efa",
          "dash": "solid"
         },
         "marker": {
          "symbol": "circle"
         },
         "mode": "lines+markers",
         "name": "Denmark",
         "showlegend": true,
         "type": "scattergl",
         "x": [
          2000,
          2005,
          2010,
          2015,
          2020
         ],
         "xaxis": "x",
         "y": [
          4.48,
          4.83,
          7.75,
          6.28,
          5.64
         ],
         "yaxis": "y"
        },
        {
         "hovertemplate": "%{y}% unemployment in %{x}",
         "legendgroup": "Dominican Republic",
         "line": {
          "color": "#EF553B",
          "dash": "solid"
         },
         "marker": {
          "symbol": "circle"
         },
         "mode": "lines+markers",
         "name": "Dominican Republic",
         "showlegend": true,
         "type": "scattergl",
         "x": [
          2000,
          2005,
          2010,
          2015,
          2020
         ],
         "xaxis": "x",
         "y": [
          6.43,
          6.59,
          5.21,
          7.61,
          6.13
         ],
         "yaxis": "y"
        },
        {
         "hovertemplate": "%{y}% unemployment in %{x}",
         "legendgroup": "Algeria",
         "line": {
          "color": "#00cc96",
          "dash": "solid"
         },
         "marker": {
          "symbol": "circle"
         },
         "mode": "lines+markers",
         "name": "Algeria",
         "showlegend": true,
         "type": "scattergl",
         "x": [
          2000,
          2005,
          2010,
          2015,
          2020
         ],
         "xaxis": "x",
         "y": [
          29.77,
          15.27,
          9.96,
          11.21,
          12.55
         ],
         "yaxis": "y"
        },
        {
         "hovertemplate": "%{y}% unemployment in %{x}",
         "legendgroup": "East Asia & Pacific (excluding high income)",
         "line": {
          "color": "#ab63fa",
          "dash": "solid"
         },
         "marker": {
          "symbol": "circle"
         },
         "mode": "lines+markers",
         "name": "East Asia & Pacific (excluding high income)",
         "showlegend": true,
         "type": "scattergl",
         "x": [
          2000,
          2005,
          2010,
          2015,
          2020
         ],
         "xaxis": "x",
         "y": [
          3.41,
          4.46,
          4.15,
          4.1,
          4.39
         ],
         "yaxis": "y"
        },
        {
         "hovertemplate": "%{y}% unemployment in %{x}",
         "legendgroup": "Early-demographic dividend",
         "line": {
          "color": "#FFA15A",
          "dash": "solid"
         },
         "marker": {
          "symbol": "circle"
         },
         "mode": "lines+markers",
         "name": "Early-demographic dividend",
         "showlegend": true,
         "type": "scattergl",
         "x": [
          2000,
          2005,
          2010,
          2015,
          2020
         ],
         "xaxis": "x",
         "y": [
          6.24,
          6.28,
          5.69,
          5.73,
          7.12
         ],
         "yaxis": "y"
        },
        {
         "hovertemplate": "%{y}% unemployment in %{x}",
         "legendgroup": "East Asia & Pacific",
         "line": {
          "color": "#19d3f3",
          "dash": "solid"
         },
         "marker": {
          "symbol": "circle"
         },
         "mode": "lines+markers",
         "name": "East Asia & Pacific",
         "showlegend": true,
         "type": "scattergl",
         "x": [
          2000,
          2005,
          2010,
          2015,
          2020
         ],
         "xaxis": "x",
         "y": [
          3.54,
          4.45,
          4.21,
          4.07,
          4.32
         ],
         "yaxis": "y"
        },
        {
         "hovertemplate": "%{y}% unemployment in %{x}",
         "legendgroup": "Europe & Central Asia (excluding high income)",
         "line": {
          "color": "#FF6692",
          "dash": "solid"
         },
         "marker": {
          "symbol": "circle"
         },
         "mode": "lines+markers",
         "name": "Europe & Central Asia (excluding high income)",
         "showlegend": true,
         "type": "scattergl",
         "x": [
          2000,
          2005,
          2010,
          2015,
          2020
         ],
         "xaxis": "x",
         "y": [
          10.97,
          8.66,
          8.51,
          7.59,
          7.94
         ],
         "yaxis": "y"
        },
        {
         "hovertemplate": "%{y}% unemployment in %{x}",
         "legendgroup": "Europe & Central Asia",
         "line": {
          "color": "#B6E880",
          "dash": "solid"
         },
         "marker": {
          "symbol": "circle"
         },
         "mode": "lines+markers",
         "name": "Europe & Central Asia",
         "showlegend": true,
         "type": "scattergl",
         "x": [
          2000,
          2005,
          2010,
          2015,
          2020
         ],
         "xaxis": "x",
         "y": [
          9.82,
          8.73,
          9.02,
          8.56,
          7.18
         ],
         "yaxis": "y"
        },
        {
         "hovertemplate": "%{y}% unemployment in %{x}",
         "legendgroup": "Ecuador",
         "line": {
          "color": "#FF97FF",
          "dash": "solid"
         },
         "marker": {
          "symbol": "circle"
         },
         "mode": "lines+markers",
         "name": "Ecuador",
         "showlegend": true,
         "type": "scattergl",
         "x": [
          2000,
          2005,
          2010,
          2015,
          2020
         ],
         "xaxis": "x",
         "y": [
          4.8,
          3.78,
          4.09,
          3.62,
          6.11
         ],
         "yaxis": "y"
        },
        {
         "hovertemplate": "%{y}% unemployment in %{x}",
         "legendgroup": "Egypt, Arab Rep.",
         "line": {
          "color": "#FECB52",
          "dash": "solid"
         },
         "marker": {
          "symbol": "circle"
         },
         "mode": "lines+markers",
         "name": "Egypt, Arab Rep.",
         "showlegend": true,
         "type": "scattergl",
         "x": [
          2000,
          2005,
          2010,
          2015,
          2020
         ],
         "xaxis": "x",
         "y": [
          8.98,
          11.2,
          8.76,
          13.05,
          9.17
         ],
         "yaxis": "y"
        },
        {
         "hovertemplate": "%{y}% unemployment in %{x}",
         "legendgroup": "Euro area",
         "line": {
          "color": "#636efa",
          "dash": "solid"
         },
         "marker": {
          "symbol": "circle"
         },
         "mode": "lines+markers",
         "name": "Euro area",
         "showlegend": true,
         "type": "scattergl",
         "x": [
          2000,
          2005,
          2010,
          2015,
          2020
         ],
         "xaxis": "x",
         "y": [
          9.43,
          9.02,
          10.07,
          10.84,
          7.83
         ],
         "yaxis": "y"
        },
        {
         "hovertemplate": "%{y}% unemployment in %{x}",
         "legendgroup": "Eritrea",
         "line": {
          "color": "#EF553B",
          "dash": "solid"
         },
         "marker": {
          "symbol": "circle"
         },
         "mode": "lines+markers",
         "name": "Eritrea",
         "showlegend": true,
         "type": "scattergl",
         "x": [
          2000,
          2005,
          2010,
          2015,
          2020
         ],
         "xaxis": "x",
         "y": [
          5.88,
          5.26,
          5.49,
          5.83,
          7.86
         ],
         "yaxis": "y"
        },
        {
         "hovertemplate": "%{y}% unemployment in %{x}",
         "legendgroup": "Spain",
         "line": {
          "color": "#00cc96",
          "dash": "solid"
         },
         "marker": {
          "symbol": "circle"
         },
         "mode": "lines+markers",
         "name": "Spain",
         "showlegend": true,
         "type": "scattergl",
         "x": [
          2000,
          2005,
          2010,
          2015,
          2020
         ],
         "xaxis": "x",
         "y": [
          13.79,
          9.15,
          19.86,
          22.06,
          15.53
         ],
         "yaxis": "y"
        },
        {
         "hovertemplate": "%{y}% unemployment in %{x}",
         "legendgroup": "Estonia",
         "line": {
          "color": "#ab63fa",
          "dash": "solid"
         },
         "marker": {
          "symbol": "circle"
         },
         "mode": "lines+markers",
         "name": "Estonia",
         "showlegend": true,
         "type": "scattergl",
         "x": [
          2000,
          2005,
          2010,
          2015,
          2020
         ],
         "xaxis": "x",
         "y": [
          13.36,
          8.03,
          16.71,
          6.19,
          6.8
         ],
         "yaxis": "y"
        },
        {
         "hovertemplate": "%{y}% unemployment in %{x}",
         "legendgroup": "Ethiopia",
         "line": {
          "color": "#FFA15A",
          "dash": "solid"
         },
         "marker": {
          "symbol": "circle"
         },
         "mode": "lines+markers",
         "name": "Ethiopia",
         "showlegend": true,
         "type": "scattergl",
         "x": [
          2000,
          2005,
          2010,
          2015,
          2020
         ],
         "xaxis": "x",
         "y": [
          3.51,
          2.5,
          2.34,
          2.27,
          3.24
         ],
         "yaxis": "y"
        },
        {
         "hovertemplate": "%{y}% unemployment in %{x}",
         "legendgroup": "European Union",
         "line": {
          "color": "#19d3f3",
          "dash": "solid"
         },
         "marker": {
          "symbol": "circle"
         },
         "mode": "lines+markers",
         "name": "European Union",
         "showlegend": true,
         "type": "scattergl",
         "x": [
          2000,
          2005,
          2010,
          2015,
          2020
         ],
         "xaxis": "x",
         "y": [
          9.83,
          9.56,
          9.8,
          10.03,
          7.05
         ],
         "yaxis": "y"
        },
        {
         "hovertemplate": "%{y}% unemployment in %{x}",
         "legendgroup": "Fragile and conflict affected situations",
         "line": {
          "color": "#FF6692",
          "dash": "solid"
         },
         "marker": {
          "symbol": "circle"
         },
         "mode": "lines+markers",
         "name": "Fragile and conflict affected situations",
         "showlegend": true,
         "type": "scattergl",
         "x": [
          2000,
          2005,
          2010,
          2015,
          2020
         ],
         "xaxis": "x",
         "y": [
          6.14,
          5.52,
          5.45,
          5.78,
          7.4
         ],
         "yaxis": "y"
        },
        {
         "hovertemplate": "%{y}% unemployment in %{x}",
         "legendgroup": "Finland",
         "line": {
          "color": "#B6E880",
          "dash": "solid"
         },
         "marker": {
          "symbol": "circle"
         },
         "mode": "lines+markers",
         "name": "Finland",
         "showlegend": true,
         "type": "scattergl",
         "x": [
          2000,
          2005,
          2010,
          2015,
          2020
         ],
         "xaxis": "x",
         "y": [
          11.13,
          8.38,
          8.39,
          9.38,
          7.76
         ],
         "yaxis": "y"
        },
        {
         "hovertemplate": "%{y}% unemployment in %{x}",
         "legendgroup": "Fiji",
         "line": {
          "color": "#FF97FF",
          "dash": "solid"
         },
         "marker": {
          "symbol": "circle"
         },
         "mode": "lines+markers",
         "name": "Fiji",
         "showlegend": true,
         "type": "scattergl",
         "x": [
          2000,
          2005,
          2010,
          2015,
          2020
         ],
         "xaxis": "x",
         "y": [
          3.99,
          3.89,
          4.31,
          4.3,
          4.72
         ],
         "yaxis": "y"
        },
        {
         "hovertemplate": "%{y}% unemployment in %{x}",
         "legendgroup": "France",
         "line": {
          "color": "#FECB52",
          "dash": "solid"
         },
         "marker": {
          "symbol": "circle"
         },
         "mode": "lines+markers",
         "name": "France",
         "showlegend": true,
         "type": "scattergl",
         "x": [
          2000,
          2005,
          2010,
          2015,
          2020
         ],
         "xaxis": "x",
         "y": [
          10.22,
          8.49,
          8.87,
          10.35,
          8.01
         ],
         "yaxis": "y"
        },
        {
         "hovertemplate": "%{y}% unemployment in %{x}",
         "legendgroup": "Gabon",
         "line": {
          "color": "#636efa",
          "dash": "solid"
         },
         "marker": {
          "symbol": "circle"
         },
         "mode": "lines+markers",
         "name": "Gabon",
         "showlegend": true,
         "type": "scattergl",
         "x": [
          2000,
          2005,
          2010,
          2015,
          2020
         ],
         "xaxis": "x",
         "y": [
          17.34,
          16.91,
          20.39,
          20.61,
          21.97
         ],
         "yaxis": "y"
        },
        {
         "hovertemplate": "%{y}% unemployment in %{x}",
         "legendgroup": "United Kingdom",
         "line": {
          "color": "#EF553B",
          "dash": "solid"
         },
         "marker": {
          "symbol": "circle"
         },
         "mode": "lines+markers",
         "name": "United Kingdom",
         "showlegend": true,
         "type": "scattergl",
         "x": [
          2000,
          2005,
          2010,
          2015,
          2020
         ],
         "xaxis": "x",
         "y": [
          5.56,
          4.75,
          7.79,
          5.3,
          4.47
         ],
         "yaxis": "y"
        },
        {
         "hovertemplate": "%{y}% unemployment in %{x}",
         "legendgroup": "Georgia",
         "line": {
          "color": "#00cc96",
          "dash": "solid"
         },
         "marker": {
          "symbol": "circle"
         },
         "mode": "lines+markers",
         "name": "Georgia",
         "showlegend": true,
         "type": "scattergl",
         "x": [
          2000,
          2005,
          2010,
          2015,
          2020
         ],
         "xaxis": "x",
         "y": [
          10.82,
          13.81,
          20.2,
          16.51,
          18.5
         ],
         "yaxis": "y"
        },
        {
         "hovertemplate": "%{y}% unemployment in %{x}",
         "legendgroup": "Ghana",
         "line": {
          "color": "#ab63fa",
          "dash": "solid"
         },
         "marker": {
          "symbol": "circle"
         },
         "mode": "lines+markers",
         "name": "Ghana",
         "showlegend": true,
         "type": "scattergl",
         "x": [
          2000,
          2005,
          2010,
          2015,
          2020
         ],
         "xaxis": "x",
         "y": [
          10.46,
          5.62,
          5.38,
          6.81,
          4.65
         ],
         "yaxis": "y"
        },
        {
         "hovertemplate": "%{y}% unemployment in %{x}",
         "legendgroup": "Guinea",
         "line": {
          "color": "#FFA15A",
          "dash": "solid"
         },
         "marker": {
          "symbol": "circle"
         },
         "mode": "lines+markers",
         "name": "Guinea",
         "showlegend": true,
         "type": "scattergl",
         "x": [
          2000,
          2005,
          2010,
          2015,
          2020
         ],
         "xaxis": "x",
         "y": [
          4.55,
          4.65,
          4.77,
          4.92,
          6.1
         ],
         "yaxis": "y"
        },
        {
         "hovertemplate": "%{y}% unemployment in %{x}",
         "legendgroup": "Gambia, The",
         "line": {
          "color": "#19d3f3",
          "dash": "solid"
         },
         "marker": {
          "symbol": "circle"
         },
         "mode": "lines+markers",
         "name": "Gambia, The",
         "showlegend": true,
         "type": "scattergl",
         "x": [
          2000,
          2005,
          2010,
          2015,
          2020
         ],
         "xaxis": "x",
         "y": [
          9.08,
          9.29,
          9.36,
          9.47,
          11.08
         ],
         "yaxis": "y"
        },
        {
         "hovertemplate": "%{y}% unemployment in %{x}",
         "legendgroup": "Guinea-Bissau",
         "line": {
          "color": "#FF6692",
          "dash": "solid"
         },
         "marker": {
          "symbol": "circle"
         },
         "mode": "lines+markers",
         "name": "Guinea-Bissau",
         "showlegend": true,
         "type": "scattergl",
         "x": [
          2000,
          2005,
          2010,
          2015,
          2020
         ],
         "xaxis": "x",
         "y": [
          6.25,
          6.21,
          6.08,
          5.87,
          6.74
         ],
         "yaxis": "y"
        },
        {
         "hovertemplate": "%{y}% unemployment in %{x}",
         "legendgroup": "Equatorial Guinea",
         "line": {
          "color": "#B6E880",
          "dash": "solid"
         },
         "marker": {
          "symbol": "circle"
         },
         "mode": "lines+markers",
         "name": "Equatorial Guinea",
         "showlegend": true,
         "type": "scattergl",
         "x": [
          2000,
          2005,
          2010,
          2015,
          2020
         ],
         "xaxis": "x",
         "y": [
          8.45,
          8.75,
          8.82,
          8.54,
          9.9
         ],
         "yaxis": "y"
        },
        {
         "hovertemplate": "%{y}% unemployment in %{x}",
         "legendgroup": "Greece",
         "line": {
          "color": "#FF97FF",
          "dash": "solid"
         },
         "marker": {
          "symbol": "circle"
         },
         "mode": "lines+markers",
         "name": "Greece",
         "showlegend": true,
         "type": "scattergl",
         "x": [
          2000,
          2005,
          2010,
          2015,
          2020
         ],
         "xaxis": "x",
         "y": [
          11.25,
          9.99,
          12.71,
          24.9,
          16.3
         ],
         "yaxis": "y"
        },
        {
         "hovertemplate": "%{y}% unemployment in %{x}",
         "legendgroup": "Guatemala",
         "line": {
          "color": "#FECB52",
          "dash": "solid"
         },
         "marker": {
          "symbol": "circle"
         },
         "mode": "lines+markers",
         "name": "Guatemala",
         "showlegend": true,
         "type": "scattergl",
         "x": [
          2000,
          2005,
          2010,
          2015,
          2020
         ],
         "xaxis": "x",
         "y": [
          2.72,
          3.05,
          3.5,
          2.51,
          3.55
         ],
         "yaxis": "y"
        },
        {
         "hovertemplate": "%{y}% unemployment in %{x}",
         "legendgroup": "Guam",
         "line": {
          "color": "#636efa",
          "dash": "solid"
         },
         "marker": {
          "symbol": "circle"
         },
         "mode": "lines+markers",
         "name": "Guam",
         "showlegend": true,
         "type": "scattergl",
         "x": [
          2000,
          2005,
          2010,
          2015,
          2020
         ],
         "xaxis": "x",
         "y": [
          15.32,
          7,
          8.2,
          6.9,
          6.8
         ],
         "yaxis": "y"
        },
        {
         "hovertemplate": "%{y}% unemployment in %{x}",
         "legendgroup": "Guyana",
         "line": {
          "color": "#EF553B",
          "dash": "solid"
         },
         "marker": {
          "symbol": "circle"
         },
         "mode": "lines+markers",
         "name": "Guyana",
         "showlegend": true,
         "type": "scattergl",
         "x": [
          2000,
          2005,
          2010,
          2015,
          2020
         ],
         "xaxis": "x",
         "y": [
          11.86,
          11.02,
          11.8,
          13.21,
          16.43
         ],
         "yaxis": "y"
        },
        {
         "hovertemplate": "%{y}% unemployment in %{x}",
         "legendgroup": "High income",
         "line": {
          "color": "#00cc96",
          "dash": "solid"
         },
         "marker": {
          "symbol": "circle"
         },
         "mode": "lines+markers",
         "name": "High income",
         "showlegend": true,
         "type": "scattergl",
         "x": [
          2000,
          2005,
          2010,
          2015,
          2020
         ],
         "xaxis": "x",
         "y": [
          6.53,
          6.67,
          8.19,
          6.63,
          6.49
         ],
         "yaxis": "y"
        },
        {
         "hovertemplate": "%{y}% unemployment in %{x}",
         "legendgroup": "Hong Kong SAR, China",
         "line": {
          "color": "#ab63fa",
          "dash": "solid"
         },
         "marker": {
          "symbol": "circle"
         },
         "mode": "lines+markers",
         "name": "Hong Kong SAR, China",
         "showlegend": true,
         "type": "scattergl",
         "x": [
          2000,
          2005,
          2010,
          2015,
          2020
         ],
         "xaxis": "x",
         "y": [
          4.92,
          5.58,
          4.33,
          3.31,
          5.83
         ],
         "yaxis": "y"
        },
        {
         "hovertemplate": "%{y}% unemployment in %{x}",
         "legendgroup": "Honduras",
         "line": {
          "color": "#FFA15A",
          "dash": "solid"
         },
         "marker": {
          "symbol": "circle"
         },
         "mode": "lines+markers",
         "name": "Honduras",
         "showlegend": true,
         "type": "scattergl",
         "x": [
          2000,
          2005,
          2010,
          2015,
          2020
         ],
         "xaxis": "x",
         "y": [
          3.84,
          4.91,
          4.12,
          6.15,
          8.37
         ],
         "yaxis": "y"
        },
        {
         "hovertemplate": "%{y}% unemployment in %{x}",
         "legendgroup": "Heavily indebted poor countries (HIPC)",
         "line": {
          "color": "#19d3f3",
          "dash": "solid"
         },
         "marker": {
          "symbol": "circle"
         },
         "mode": "lines+markers",
         "name": "Heavily indebted poor countries (HIPC)",
         "showlegend": true,
         "type": "scattergl",
         "x": [
          2000,
          2005,
          2010,
          2015,
          2020
         ],
         "xaxis": "x",
         "y": [
          5.22,
          4.97,
          5.08,
          4.77,
          5.43
         ],
         "yaxis": "y"
        },
        {
         "hovertemplate": "%{y}% unemployment in %{x}",
         "legendgroup": "Croatia",
         "line": {
          "color": "#FF6692",
          "dash": "solid"
         },
         "marker": {
          "symbol": "circle"
         },
         "mode": "lines+markers",
         "name": "Croatia",
         "showlegend": true,
         "type": "scattergl",
         "x": [
          2000,
          2005,
          2010,
          2015,
          2020
         ],
         "xaxis": "x",
         "y": [
          16.06,
          12.6,
          11.62,
          16.18,
          7.51
         ],
         "yaxis": "y"
        },
        {
         "hovertemplate": "%{y}% unemployment in %{x}",
         "legendgroup": "Haiti",
         "line": {
          "color": "#B6E880",
          "dash": "solid"
         },
         "marker": {
          "symbol": "circle"
         },
         "mode": "lines+markers",
         "name": "Haiti",
         "showlegend": true,
         "type": "scattergl",
         "x": [
          2000,
          2005,
          2010,
          2015,
          2020
         ],
         "xaxis": "x",
         "y": [
          8.4,
          14.42,
          15.38,
          13.96,
          15.45
         ],
         "yaxis": "y"
        },
        {
         "hovertemplate": "%{y}% unemployment in %{x}",
         "legendgroup": "Hungary",
         "line": {
          "color": "#FF97FF",
          "dash": "solid"
         },
         "marker": {
          "symbol": "circle"
         },
         "mode": "lines+markers",
         "name": "Hungary",
         "showlegend": true,
         "type": "scattergl",
         "x": [
          2000,
          2005,
          2010,
          2015,
          2020
         ],
         "xaxis": "x",
         "y": [
          6.56,
          7.19,
          11.17,
          6.81,
          4.25
         ],
         "yaxis": "y"
        },
        {
         "hovertemplate": "%{y}% unemployment in %{x}",
         "legendgroup": "IBRD only",
         "line": {
          "color": "#FECB52",
          "dash": "solid"
         },
         "marker": {
          "symbol": "circle"
         },
         "mode": "lines+markers",
         "name": "IBRD only",
         "showlegend": true,
         "type": "scattergl",
         "x": [
          2000,
          2005,
          2010,
          2015,
          2020
         ],
         "xaxis": "x",
         "y": [
          6.02,
          6.24,
          5.78,
          5.71,
          6.88
         ],
         "yaxis": "y"
        },
        {
         "hovertemplate": "%{y}% unemployment in %{x}",
         "legendgroup": "IDA & IBRD total",
         "line": {
          "color": "#636efa",
          "dash": "solid"
         },
         "marker": {
          "symbol": "circle"
         },
         "mode": "lines+markers",
         "name": "IDA & IBRD total",
         "showlegend": true,
         "type": "scattergl",
         "x": [
          2000,
          2005,
          2010,
          2015,
          2020
         ],
         "xaxis": "x",
         "y": [
          5.72,
          5.85,
          5.44,
          5.44,
          6.61
         ],
         "yaxis": "y"
        },
        {
         "hovertemplate": "%{y}% unemployment in %{x}",
         "legendgroup": "IDA total",
         "line": {
          "color": "#EF553B",
          "dash": "solid"
         },
         "marker": {
          "symbol": "circle"
         },
         "mode": "lines+markers",
         "name": "IDA total",
         "showlegend": true,
         "type": "scattergl",
         "x": [
          2000,
          2005,
          2010,
          2015,
          2020
         ],
         "xaxis": "x",
         "y": [
          4.36,
          4.18,
          4.09,
          4.43,
          5.7
         ],
         "yaxis": "y"
        },
        {
         "hovertemplate": "%{y}% unemployment in %{x}",
         "legendgroup": "IDA blend",
         "line": {
          "color": "#00cc96",
          "dash": "solid"
         },
         "marker": {
          "symbol": "circle"
         },
         "mode": "lines+markers",
         "name": "IDA blend",
         "showlegend": true,
         "type": "scattergl",
         "x": [
          2000,
          2005,
          2010,
          2015,
          2020
         ],
         "xaxis": "x",
         "y": [
          3.86,
          3.12,
          2.93,
          4.07,
          6.59
         ],
         "yaxis": "y"
        },
        {
         "hovertemplate": "%{y}% unemployment in %{x}",
         "legendgroup": "Indonesia",
         "line": {
          "color": "#ab63fa",
          "dash": "solid"
         },
         "marker": {
          "symbol": "circle"
         },
         "mode": "lines+markers",
         "name": "Indonesia",
         "showlegend": true,
         "type": "scattergl",
         "x": [
          2000,
          2005,
          2010,
          2015,
          2020
         ],
         "xaxis": "x",
         "y": [
          6.08,
          7.94,
          5.61,
          4.51,
          4.28
         ],
         "yaxis": "y"
        },
        {
         "hovertemplate": "%{y}% unemployment in %{x}",
         "legendgroup": "IDA only",
         "line": {
          "color": "#FFA15A",
          "dash": "solid"
         },
         "marker": {
          "symbol": "circle"
         },
         "mode": "lines+markers",
         "name": "IDA only",
         "showlegend": true,
         "type": "scattergl",
         "x": [
          2000,
          2005,
          2010,
          2015,
          2020
         ],
         "xaxis": "x",
         "y": [
          4.59,
          4.65,
          4.61,
          4.6,
          5.31
         ],
         "yaxis": "y"
        },
        {
         "hovertemplate": "%{y}% unemployment in %{x}",
         "legendgroup": "India",
         "line": {
          "color": "#19d3f3",
          "dash": "solid"
         },
         "marker": {
          "symbol": "circle"
         },
         "mode": "lines+markers",
         "name": "India",
         "showlegend": true,
         "type": "scattergl",
         "x": [
          2000,
          2005,
          2010,
          2015,
          2020
         ],
         "xaxis": "x",
         "y": [
          5.56,
          5.61,
          5.55,
          5.43,
          8
         ],
         "yaxis": "y"
        },
        {
         "hovertemplate": "%{y}% unemployment in %{x}",
         "legendgroup": "Ireland",
         "line": {
          "color": "#FF6692",
          "dash": "solid"
         },
         "marker": {
          "symbol": "circle"
         },
         "mode": "lines+markers",
         "name": "Ireland",
         "showlegend": true,
         "type": "scattergl",
         "x": [
          2000,
          2005,
          2010,
          2015,
          2020
         ],
         "xaxis": "x",
         "y": [
          4.32,
          4.34,
          14.53,
          9.91,
          5.62
         ],
         "yaxis": "y"
        },
        {
         "hovertemplate": "%{y}% unemployment in %{x}",
         "legendgroup": "Iran, Islamic Rep.",
         "line": {
          "color": "#B6E880",
          "dash": "solid"
         },
         "marker": {
          "symbol": "circle"
         },
         "mode": "lines+markers",
         "name": "Iran, Islamic Rep.",
         "showlegend": true,
         "type": "scattergl",
         "x": [
          2000,
          2005,
          2010,
          2015,
          2020
         ],
         "xaxis": "x",
         "y": [
          11.57,
          11.81,
          13.68,
          11.17,
          12.17
         ],
         "yaxis": "y"
        },
        {
         "hovertemplate": "%{y}% unemployment in %{x}",
         "legendgroup": "Iraq",
         "line": {
          "color": "#FF97FF",
          "dash": "solid"
         },
         "marker": {
          "symbol": "circle"
         },
         "mode": "lines+markers",
         "name": "Iraq",
         "showlegend": true,
         "type": "scattergl",
         "x": [
          2000,
          2005,
          2010,
          2015,
          2020
         ],
         "xaxis": "x",
         "y": [
          8.73,
          8.71,
          8.25,
          10.73,
          14.09
         ],
         "yaxis": "y"
        },
        {
         "hovertemplate": "%{y}% unemployment in %{x}",
         "legendgroup": "Iceland",
         "line": {
          "color": "#FECB52",
          "dash": "solid"
         },
         "marker": {
          "symbol": "circle"
         },
         "mode": "lines+markers",
         "name": "Iceland",
         "showlegend": true,
         "type": "scattergl",
         "x": [
          2000,
          2005,
          2010,
          2015,
          2020
         ],
         "xaxis": "x",
         "y": [
          1.94,
          2.55,
          7.56,
          3.98,
          5.48
         ],
         "yaxis": "y"
        },
        {
         "hovertemplate": "%{y}% unemployment in %{x}",
         "legendgroup": "Israel",
         "line": {
          "color": "#636efa",
          "dash": "solid"
         },
         "marker": {
          "symbol": "circle"
         },
         "mode": "lines+markers",
         "name": "Israel",
         "showlegend": true,
         "type": "scattergl",
         "x": [
          2000,
          2005,
          2010,
          2015,
          2020
         ],
         "xaxis": "x",
         "y": [
          11.1,
          11.34,
          8.48,
          5.25,
          4.33
         ],
         "yaxis": "y"
        },
        {
         "hovertemplate": "%{y}% unemployment in %{x}",
         "legendgroup": "Italy",
         "line": {
          "color": "#EF553B",
          "dash": "solid"
         },
         "marker": {
          "symbol": "circle"
         },
         "mode": "lines+markers",
         "name": "Italy",
         "showlegend": true,
         "type": "scattergl",
         "x": [
          2000,
          2005,
          2010,
          2015,
          2020
         ],
         "xaxis": "x",
         "y": [
          10.84,
          7.73,
          8.36,
          11.9,
          9.16
         ],
         "yaxis": "y"
        },
        {
         "hovertemplate": "%{y}% unemployment in %{x}",
         "legendgroup": "Jamaica",
         "line": {
          "color": "#00cc96",
          "dash": "solid"
         },
         "marker": {
          "symbol": "circle"
         },
         "mode": "lines+markers",
         "name": "Jamaica",
         "showlegend": true,
         "type": "scattergl",
         "x": [
          2000,
          2005,
          2010,
          2015,
          2020
         ],
         "xaxis": "x",
         "y": [
          15.54,
          11.26,
          12.37,
          13.51,
          9.48
         ],
         "yaxis": "y"
        },
        {
         "hovertemplate": "%{y}% unemployment in %{x}",
         "legendgroup": "Jordan",
         "line": {
          "color": "#ab63fa",
          "dash": "solid"
         },
         "marker": {
          "symbol": "circle"
         },
         "mode": "lines+markers",
         "name": "Jordan",
         "showlegend": true,
         "type": "scattergl",
         "x": [
          2000,
          2005,
          2010,
          2015,
          2020
         ],
         "xaxis": "x",
         "y": [
          13.7,
          14.8,
          12.5,
          13.08,
          19.03
         ],
         "yaxis": "y"
        },
        {
         "hovertemplate": "%{y}% unemployment in %{x}",
         "legendgroup": "Japan",
         "line": {
          "color": "#FFA15A",
          "dash": "solid"
         },
         "marker": {
          "symbol": "circle"
         },
         "mode": "lines+markers",
         "name": "Japan",
         "showlegend": true,
         "type": "scattergl",
         "x": [
          2000,
          2005,
          2010,
          2015,
          2020
         ],
         "xaxis": "x",
         "y": [
          4.75,
          4.45,
          5.1,
          3.4,
          2.8
         ],
         "yaxis": "y"
        },
        {
         "hovertemplate": "%{y}% unemployment in %{x}",
         "legendgroup": "Kazakhstan",
         "line": {
          "color": "#19d3f3",
          "dash": "solid"
         },
         "marker": {
          "symbol": "circle"
         },
         "mode": "lines+markers",
         "name": "Kazakhstan",
         "showlegend": true,
         "type": "scattergl",
         "x": [
          2000,
          2005,
          2010,
          2015,
          2020
         ],
         "xaxis": "x",
         "y": [
          12.75,
          8.13,
          5.77,
          4.93,
          4.89
         ],
         "yaxis": "y"
        },
        {
         "hovertemplate": "%{y}% unemployment in %{x}",
         "legendgroup": "Kenya",
         "line": {
          "color": "#FF6692",
          "dash": "solid"
         },
         "marker": {
          "symbol": "circle"
         },
         "mode": "lines+markers",
         "name": "Kenya",
         "showlegend": true,
         "type": "scattergl",
         "x": [
          2000,
          2005,
          2010,
          2015,
          2020
         ],
         "xaxis": "x",
         "y": [
          3.02,
          2.92,
          2.84,
          2.78,
          5.73
         ],
         "yaxis": "y"
        },
        {
         "hovertemplate": "%{y}% unemployment in %{x}",
         "legendgroup": "Kyrgyz Republic",
         "line": {
          "color": "#B6E880",
          "dash": "solid"
         },
         "marker": {
          "symbol": "circle"
         },
         "mode": "lines+markers",
         "name": "Kyrgyz Republic",
         "showlegend": true,
         "type": "scattergl",
         "x": [
          2000,
          2005,
          2010,
          2015,
          2020
         ],
         "xaxis": "x",
         "y": [
          7.54,
          8.11,
          8.64,
          7.56,
          8.71
         ],
         "yaxis": "y"
        },
        {
         "hovertemplate": "%{y}% unemployment in %{x}",
         "legendgroup": "Cambodia",
         "line": {
          "color": "#FF97FF",
          "dash": "solid"
         },
         "marker": {
          "symbol": "circle"
         },
         "mode": "lines+markers",
         "name": "Cambodia",
         "showlegend": true,
         "type": "scattergl",
         "x": [
          2000,
          2005,
          2010,
          2015,
          2020
         ],
         "xaxis": "x",
         "y": [
          0.97,
          1.13,
          0.77,
          0.39,
          0.33
         ],
         "yaxis": "y"
        },
        {
         "hovertemplate": "%{y}% unemployment in %{x}",
         "legendgroup": "Korea, Rep.",
         "line": {
          "color": "#FECB52",
          "dash": "solid"
         },
         "marker": {
          "symbol": "circle"
         },
         "mode": "lines+markers",
         "name": "Korea, Rep.",
         "showlegend": true,
         "type": "scattergl",
         "x": [
          2000,
          2005,
          2010,
          2015,
          2020
         ],
         "xaxis": "x",
         "y": [
          4.06,
          3.48,
          3.32,
          3.55,
          3.93
         ],
         "yaxis": "y"
        },
        {
         "hovertemplate": "%{y}% unemployment in %{x}",
         "legendgroup": "Kuwait",
         "line": {
          "color": "#636efa",
          "dash": "solid"
         },
         "marker": {
          "symbol": "circle"
         },
         "mode": "lines+markers",
         "name": "Kuwait",
         "showlegend": true,
         "type": "scattergl",
         "x": [
          2000,
          2005,
          2010,
          2015,
          2020
         ],
         "xaxis": "x",
         "y": [
          0.8,
          1.5,
          1.82,
          2.2,
          3.54
         ],
         "yaxis": "y"
        },
        {
         "hovertemplate": "%{y}% unemployment in %{x}",
         "legendgroup": "Latin America & Caribbean (excluding high income)",
         "line": {
          "color": "#EF553B",
          "dash": "solid"
         },
         "marker": {
          "symbol": "circle"
         },
         "mode": "lines+markers",
         "name": "Latin America & Caribbean (excluding high income)",
         "showlegend": true,
         "type": "scattergl",
         "x": [
          2000,
          2005,
          2010,
          2015,
          2020
         ],
         "xaxis": "x",
         "y": [
          8.7,
          7.65,
          6.7,
          6.66,
          10.16
         ],
         "yaxis": "y"
        },
        {
         "hovertemplate": "%{y}% unemployment in %{x}",
         "legendgroup": "Lao PDR",
         "line": {
          "color": "#00cc96",
          "dash": "solid"
         },
         "marker": {
          "symbol": "circle"
         },
         "mode": "lines+markers",
         "name": "Lao PDR",
         "showlegend": true,
         "type": "scattergl",
         "x": [
          2000,
          2005,
          2010,
          2015,
          2020
         ],
         "xaxis": "x",
         "y": [
          2.06,
          1.35,
          0.71,
          0.78,
          1.03
         ],
         "yaxis": "y"
        },
        {
         "hovertemplate": "%{y}% unemployment in %{x}",
         "legendgroup": "Lebanon",
         "line": {
          "color": "#ab63fa",
          "dash": "solid"
         },
         "marker": {
          "symbol": "circle"
         },
         "mode": "lines+markers",
         "name": "Lebanon",
         "showlegend": true,
         "type": "scattergl",
         "x": [
          2000,
          2005,
          2010,
          2015,
          2020
         ],
         "xaxis": "x",
         "y": [
          8.31,
          8.28,
          6.84,
          9.32,
          13.3
         ],
         "yaxis": "y"
        },
        {
         "hovertemplate": "%{y}% unemployment in %{x}",
         "legendgroup": "Liberia",
         "line": {
          "color": "#FFA15A",
          "dash": "solid"
         },
         "marker": {
          "symbol": "circle"
         },
         "mode": "lines+markers",
         "name": "Liberia",
         "showlegend": true,
         "type": "scattergl",
         "x": [
          2000,
          2005,
          2010,
          2015,
          2020
         ],
         "xaxis": "x",
         "y": [
          2.08,
          2.19,
          2.27,
          2.08,
          3.98
         ],
         "yaxis": "y"
        },
        {
         "hovertemplate": "%{y}% unemployment in %{x}",
         "legendgroup": "Libya",
         "line": {
          "color": "#19d3f3",
          "dash": "solid"
         },
         "marker": {
          "symbol": "circle"
         },
         "mode": "lines+markers",
         "name": "Libya",
         "showlegend": true,
         "type": "scattergl",
         "x": [
          2000,
          2005,
          2010,
          2015,
          2020
         ],
         "xaxis": "x",
         "y": [
          19.67,
          19.39,
          19.27,
          19.53,
          20.07
         ],
         "yaxis": "y"
        },
        {
         "hovertemplate": "%{y}% unemployment in %{x}",
         "legendgroup": "St. Lucia",
         "line": {
          "color": "#FF6692",
          "dash": "solid"
         },
         "marker": {
          "symbol": "circle"
         },
         "mode": "lines+markers",
         "name": "St. Lucia",
         "showlegend": true,
         "type": "scattergl",
         "x": [
          2000,
          2005,
          2010,
          2015,
          2020
         ],
         "xaxis": "x",
         "y": [
          16.49,
          18.7,
          17.11,
          20.56,
          16.89
         ],
         "yaxis": "y"
        },
        {
         "hovertemplate": "%{y}% unemployment in %{x}",
         "legendgroup": "Latin America & Caribbean",
         "line": {
          "color": "#B6E880",
          "dash": "solid"
         },
         "marker": {
          "symbol": "circle"
         },
         "mode": "lines+markers",
         "name": "Latin America & Caribbean",
         "showlegend": true,
         "type": "scattergl",
         "x": [
          2000,
          2005,
          2010,
          2015,
          2020
         ],
         "xaxis": "x",
         "y": [
          9.01,
          7.86,
          6.8,
          6.63,
          10.06
         ],
         "yaxis": "y"
        },
        {
         "hovertemplate": "%{y}% unemployment in %{x}",
         "legendgroup": "Least developed countries: UN classification",
         "line": {
          "color": "#FF97FF",
          "dash": "solid"
         },
         "marker": {
          "symbol": "circle"
         },
         "mode": "lines+markers",
         "name": "Least developed countries: UN classification",
         "showlegend": true,
         "type": "scattergl",
         "x": [
          2000,
          2005,
          2010,
          2015,
          2020
         ],
         "xaxis": "x",
         "y": [
          4.18,
          4.41,
          4.51,
          4.52,
          5.32
         ],
         "yaxis": "y"
        },
        {
         "hovertemplate": "%{y}% unemployment in %{x}",
         "legendgroup": "Low income",
         "line": {
          "color": "#FECB52",
          "dash": "solid"
         },
         "marker": {
          "symbol": "circle"
         },
         "mode": "lines+markers",
         "name": "Low income",
         "showlegend": true,
         "type": "scattergl",
         "x": [
          2000,
          2005,
          2010,
          2015,
          2020
         ],
         "xaxis": "x",
         "y": [
          5.2,
          5.08,
          5.17,
          5.04,
          5.83
         ],
         "yaxis": "y"
        },
        {
         "hovertemplate": "%{y}% unemployment in %{x}",
         "legendgroup": "Sri Lanka",
         "line": {
          "color": "#636efa",
          "dash": "solid"
         },
         "marker": {
          "symbol": "circle"
         },
         "mode": "lines+markers",
         "name": "Sri Lanka",
         "showlegend": true,
         "type": "scattergl",
         "x": [
          2000,
          2005,
          2010,
          2015,
          2020
         ],
         "xaxis": "x",
         "y": [
          7.74,
          7.67,
          4.78,
          4.52,
          5.88
         ],
         "yaxis": "y"
        },
        {
         "hovertemplate": "%{y}% unemployment in %{x}",
         "legendgroup": "Lower middle income",
         "line": {
          "color": "#EF553B",
          "dash": "solid"
         },
         "marker": {
          "symbol": "circle"
         },
         "mode": "lines+markers",
         "name": "Lower middle income",
         "showlegend": true,
         "type": "scattergl",
         "x": [
          2000,
          2005,
          2010,
          2015,
          2020
         ],
         "xaxis": "x",
         "y": [
          5.63,
          5.53,
          5.07,
          5.17,
          6.58
         ],
         "yaxis": "y"
        },
        {
         "hovertemplate": "%{y}% unemployment in %{x}",
         "legendgroup": "Low & middle income",
         "line": {
          "color": "#00cc96",
          "dash": "solid"
         },
         "marker": {
          "symbol": "circle"
         },
         "mode": "lines+markers",
         "name": "Low & middle income",
         "showlegend": true,
         "type": "scattergl",
         "x": [
          2000,
          2005,
          2010,
          2015,
          2020
         ],
         "xaxis": "x",
         "y": [
          5.54,
          5.69,
          5.37,
          5.39,
          6.59
         ],
         "yaxis": "y"
        },
        {
         "hovertemplate": "%{y}% unemployment in %{x}",
         "legendgroup": "Lesotho",
         "line": {
          "color": "#ab63fa",
          "dash": "solid"
         },
         "marker": {
          "symbol": "circle"
         },
         "mode": "lines+markers",
         "name": "Lesotho",
         "showlegend": true,
         "type": "scattergl",
         "x": [
          2000,
          2005,
          2010,
          2015,
          2020
         ],
         "xaxis": "x",
         "y": [
          35.46,
          31.31,
          27.08,
          23.84,
          24.56
         ],
         "yaxis": "y"
        },
        {
         "hovertemplate": "%{y}% unemployment in %{x}",
         "legendgroup": "Late-demographic dividend",
         "line": {
          "color": "#FFA15A",
          "dash": "solid"
         },
         "marker": {
          "symbol": "circle"
         },
         "mode": "lines+markers",
         "name": "Late-demographic dividend",
         "showlegend": true,
         "type": "scattergl",
         "x": [
          2000,
          2005,
          2010,
          2015,
          2020
         ],
         "xaxis": "x",
         "y": [
          5.18,
          5.53,
          5.15,
          5.08,
          5.89
         ],
         "yaxis": "y"
        },
        {
         "hovertemplate": "%{y}% unemployment in %{x}",
         "legendgroup": "Lithuania",
         "line": {
          "color": "#19d3f3",
          "dash": "solid"
         },
         "marker": {
          "symbol": "circle"
         },
         "mode": "lines+markers",
         "name": "Lithuania",
         "showlegend": true,
         "type": "scattergl",
         "x": [
          2000,
          2005,
          2010,
          2015,
          2020
         ],
         "xaxis": "x",
         "y": [
          15.93,
          8.32,
          17.81,
          9.12,
          8.49
         ],
         "yaxis": "y"
        },
        {
         "hovertemplate": "%{y}% unemployment in %{x}",
         "legendgroup": "Luxembourg",
         "line": {
          "color": "#FF6692",
          "dash": "solid"
         },
         "marker": {
          "symbol": "circle"
         },
         "mode": "lines+markers",
         "name": "Luxembourg",
         "showlegend": true,
         "type": "scattergl",
         "x": [
          2000,
          2005,
          2010,
          2015,
          2020
         ],
         "xaxis": "x",
         "y": [
          2.35,
          4.49,
          4.36,
          6.67,
          6.77
         ],
         "yaxis": "y"
        },
        {
         "hovertemplate": "%{y}% unemployment in %{x}",
         "legendgroup": "Latvia",
         "line": {
          "color": "#B6E880",
          "dash": "solid"
         },
         "marker": {
          "symbol": "circle"
         },
         "mode": "lines+markers",
         "name": "Latvia",
         "showlegend": true,
         "type": "scattergl",
         "x": [
          2000,
          2005,
          2010,
          2015,
          2020
         ],
         "xaxis": "x",
         "y": [
          14.21,
          10.03,
          19.48,
          9.87,
          8.1
         ],
         "yaxis": "y"
        },
        {
         "hovertemplate": "%{y}% unemployment in %{x}",
         "legendgroup": "Macao SAR, China",
         "line": {
          "color": "#FF97FF",
          "dash": "solid"
         },
         "marker": {
          "symbol": "circle"
         },
         "mode": "lines+markers",
         "name": "Macao SAR, China",
         "showlegend": true,
         "type": "scattergl",
         "x": [
          2000,
          2005,
          2010,
          2015,
          2020
         ],
         "xaxis": "x",
         "y": [
          6.87,
          4.16,
          2.84,
          1.81,
          2.57
         ],
         "yaxis": "y"
        },
        {
         "hovertemplate": "%{y}% unemployment in %{x}",
         "legendgroup": "Morocco",
         "line": {
          "color": "#FECB52",
          "dash": "solid"
         },
         "marker": {
          "symbol": "circle"
         },
         "mode": "lines+markers",
         "name": "Morocco",
         "showlegend": true,
         "type": "scattergl",
         "x": [
          2000,
          2005,
          2010,
          2015,
          2020
         ],
         "xaxis": "x",
         "y": [
          13.58,
          11.01,
          9.09,
          9.46,
          11.45
         ],
         "yaxis": "y"
        },
        {
         "hovertemplate": "%{y}% unemployment in %{x}",
         "legendgroup": "Moldova",
         "line": {
          "color": "#636efa",
          "dash": "solid"
         },
         "marker": {
          "symbol": "circle"
         },
         "mode": "lines+markers",
         "name": "Moldova",
         "showlegend": true,
         "type": "scattergl",
         "x": [
          2000,
          2005,
          2010,
          2015,
          2020
         ],
         "xaxis": "x",
         "y": [
          8.46,
          7.29,
          7.45,
          4.7,
          3.82
         ],
         "yaxis": "y"
        },
        {
         "hovertemplate": "%{y}% unemployment in %{x}",
         "legendgroup": "Madagascar",
         "line": {
          "color": "#EF553B",
          "dash": "solid"
         },
         "marker": {
          "symbol": "circle"
         },
         "mode": "lines+markers",
         "name": "Madagascar",
         "showlegend": true,
         "type": "scattergl",
         "x": [
          2000,
          2005,
          2010,
          2015,
          2020
         ],
         "xaxis": "x",
         "y": [
          5.8,
          2.62,
          4.28,
          1.79,
          2.47
         ],
         "yaxis": "y"
        },
        {
         "hovertemplate": "%{y}% unemployment in %{x}",
         "legendgroup": "Maldives",
         "line": {
          "color": "#00cc96",
          "dash": "solid"
         },
         "marker": {
          "symbol": "circle"
         },
         "mode": "lines+markers",
         "name": "Maldives",
         "showlegend": true,
         "type": "scattergl",
         "x": [
          2000,
          2005,
          2010,
          2015,
          2020
         ],
         "xaxis": "x",
         "y": [
          1.97,
          7.2,
          11.29,
          6.93,
          6.33
         ],
         "yaxis": "y"
        },
        {
         "hovertemplate": "%{y}% unemployment in %{x}",
         "legendgroup": "Middle East & North Africa",
         "line": {
          "color": "#ab63fa",
          "dash": "solid"
         },
         "marker": {
          "symbol": "circle"
         },
         "mode": "lines+markers",
         "name": "Middle East & North Africa",
         "showlegend": true,
         "type": "scattergl",
         "x": [
          2000,
          2005,
          2010,
          2015,
          2020
         ],
         "xaxis": "x",
         "y": [
          12.04,
          10.91,
          9.55,
          10.18,
          10.54
         ],
         "yaxis": "y"
        },
        {
         "hovertemplate": "%{y}% unemployment in %{x}",
         "legendgroup": "Mexico",
         "line": {
          "color": "#FFA15A",
          "dash": "solid"
         },
         "marker": {
          "symbol": "circle"
         },
         "mode": "lines+markers",
         "name": "Mexico",
         "showlegend": true,
         "type": "scattergl",
         "x": [
          2000,
          2005,
          2010,
          2015,
          2020
         ],
         "xaxis": "x",
         "y": [
          2.65,
          3.56,
          5.3,
          4.31,
          4.45
         ],
         "yaxis": "y"
        },
        {
         "hovertemplate": "%{y}% unemployment in %{x}",
         "legendgroup": "Middle income",
         "line": {
          "color": "#19d3f3",
          "dash": "solid"
         },
         "marker": {
          "symbol": "circle"
         },
         "mode": "lines+markers",
         "name": "Middle income",
         "showlegend": true,
         "type": "scattergl",
         "x": [
          2000,
          2005,
          2010,
          2015,
          2020
         ],
         "xaxis": "x",
         "y": [
          5.57,
          5.74,
          5.38,
          5.42,
          6.67
         ],
         "yaxis": "y"
        },
        {
         "hovertemplate": "%{y}% unemployment in %{x}",
         "legendgroup": "North Macedonia",
         "line": {
          "color": "#FF6692",
          "dash": "solid"
         },
         "marker": {
          "symbol": "circle"
         },
         "mode": "lines+markers",
         "name": "North Macedonia",
         "showlegend": true,
         "type": "scattergl",
         "x": [
          2000,
          2005,
          2010,
          2015,
          2020
         ],
         "xaxis": "x",
         "y": [
          32.2,
          37.25,
          32.02,
          26.07,
          17.2
         ],
         "yaxis": "y"
        },
        {
         "hovertemplate": "%{y}% unemployment in %{x}",
         "legendgroup": "Mali",
         "line": {
          "color": "#B6E880",
          "dash": "solid"
         },
         "marker": {
          "symbol": "circle"
         },
         "mode": "lines+markers",
         "name": "Mali",
         "showlegend": true,
         "type": "scattergl",
         "x": [
          2000,
          2005,
          2010,
          2015,
          2020
         ],
         "xaxis": "x",
         "y": [
          5.63,
          9.69,
          8.07,
          7.73,
          7.7
         ],
         "yaxis": "y"
        },
        {
         "hovertemplate": "%{y}% unemployment in %{x}",
         "legendgroup": "Malta",
         "line": {
          "color": "#FF97FF",
          "dash": "solid"
         },
         "marker": {
          "symbol": "circle"
         },
         "mode": "lines+markers",
         "name": "Malta",
         "showlegend": true,
         "type": "scattergl",
         "x": [
          2000,
          2005,
          2010,
          2015,
          2020
         ],
         "xaxis": "x",
         "y": [
          6.32,
          6.92,
          6.85,
          5.38,
          4.26
         ],
         "yaxis": "y"
        },
        {
         "hovertemplate": "%{y}% unemployment in %{x}",
         "legendgroup": "Myanmar",
         "line": {
          "color": "#FECB52",
          "dash": "solid"
         },
         "marker": {
          "symbol": "circle"
         },
         "mode": "lines+markers",
         "name": "Myanmar",
         "showlegend": true,
         "type": "scattergl",
         "x": [
          2000,
          2005,
          2010,
          2015,
          2020
         ],
         "xaxis": "x",
         "y": [
          0.65,
          0.67,
          0.72,
          0.77,
          1.06
         ],
         "yaxis": "y"
        },
        {
         "hovertemplate": "%{y}% unemployment in %{x}",
         "legendgroup": "Middle East & North Africa (excluding high income)",
         "line": {
          "color": "#636efa",
          "dash": "solid"
         },
         "marker": {
          "symbol": "circle"
         },
         "mode": "lines+markers",
         "name": "Middle East & North Africa (excluding high income)",
         "showlegend": true,
         "type": "scattergl",
         "x": [
          2000,
          2005,
          2010,
          2015,
          2020
         ],
         "xaxis": "x",
         "y": [
          13.18,
          11.85,
          10.78,
          11.93,
          12.24
         ],
         "yaxis": "y"
        },
        {
         "hovertemplate": "%{y}% unemployment in %{x}",
         "legendgroup": "Montenegro",
         "line": {
          "color": "#EF553B",
          "dash": "solid"
         },
         "marker": {
          "symbol": "circle"
         },
         "mode": "lines+markers",
         "name": "Montenegro",
         "showlegend": true,
         "type": "scattergl",
         "x": [
          2000,
          2005,
          2010,
          2015,
          2020
         ],
         "xaxis": "x",
         "y": [
          28.59,
          30.31,
          19.65,
          17.54,
          17.9
         ],
         "yaxis": "y"
        },
        {
         "hovertemplate": "%{y}% unemployment in %{x}",
         "legendgroup": "Mongolia",
         "line": {
          "color": "#00cc96",
          "dash": "solid"
         },
         "marker": {
          "symbol": "circle"
         },
         "mode": "lines+markers",
         "name": "Mongolia",
         "showlegend": true,
         "type": "scattergl",
         "x": [
          2000,
          2005,
          2010,
          2015,
          2020
         ],
         "xaxis": "x",
         "y": [
          6.23,
          7.04,
          6.55,
          4.86,
          7.01
         ],
         "yaxis": "y"
        },
        {
         "hovertemplate": "%{y}% unemployment in %{x}",
         "legendgroup": "Mozambique",
         "line": {
          "color": "#ab63fa",
          "dash": "solid"
         },
         "marker": {
          "symbol": "circle"
         },
         "mode": "lines+markers",
         "name": "Mozambique",
         "showlegend": true,
         "type": "scattergl",
         "x": [
          2000,
          2005,
          2010,
          2015,
          2020
         ],
         "xaxis": "x",
         "y": [
          2.85,
          3.02,
          3.22,
          3.43,
          3.81
         ],
         "yaxis": "y"
        },
        {
         "hovertemplate": "%{y}% unemployment in %{x}",
         "legendgroup": "Mauritania",
         "line": {
          "color": "#FFA15A",
          "dash": "solid"
         },
         "marker": {
          "symbol": "circle"
         },
         "mode": "lines+markers",
         "name": "Mauritania",
         "showlegend": true,
         "type": "scattergl",
         "x": [
          2000,
          2005,
          2010,
          2015,
          2020
         ],
         "xaxis": "x",
         "y": [
          9.85,
          9.79,
          9.86,
          10.14,
          11.27
         ],
         "yaxis": "y"
        },
        {
         "hovertemplate": "%{y}% unemployment in %{x}",
         "legendgroup": "Mauritius",
         "line": {
          "color": "#19d3f3",
          "dash": "solid"
         },
         "marker": {
          "symbol": "circle"
         },
         "mode": "lines+markers",
         "name": "Mauritius",
         "showlegend": true,
         "type": "scattergl",
         "x": [
          2000,
          2005,
          2010,
          2015,
          2020
         ],
         "xaxis": "x",
         "y": [
          9.18,
          9.52,
          7.65,
          7.41,
          7.41
         ],
         "yaxis": "y"
        },
        {
         "hovertemplate": "%{y}% unemployment in %{x}",
         "legendgroup": "Malawi",
         "line": {
          "color": "#FF6692",
          "dash": "solid"
         },
         "marker": {
          "symbol": "circle"
         },
         "mode": "lines+markers",
         "name": "Malawi",
         "showlegend": true,
         "type": "scattergl",
         "x": [
          2000,
          2005,
          2010,
          2015,
          2020
         ],
         "xaxis": "x",
         "y": [
          5.79,
          5.84,
          5.89,
          5.86,
          6.7
         ],
         "yaxis": "y"
        },
        {
         "hovertemplate": "%{y}% unemployment in %{x}",
         "legendgroup": "Malaysia",
         "line": {
          "color": "#B6E880",
          "dash": "solid"
         },
         "marker": {
          "symbol": "circle"
         },
         "mode": "lines+markers",
         "name": "Malaysia",
         "showlegend": true,
         "type": "scattergl",
         "x": [
          2000,
          2005,
          2010,
          2015,
          2020
         ],
         "xaxis": "x",
         "y": [
          3,
          3.53,
          3.39,
          3.1,
          4.5
         ],
         "yaxis": "y"
        },
        {
         "hovertemplate": "%{y}% unemployment in %{x}",
         "legendgroup": "North America",
         "line": {
          "color": "#FF97FF",
          "dash": "solid"
         },
         "marker": {
          "symbol": "circle"
         },
         "mode": "lines+markers",
         "name": "North America",
         "showlegend": true,
         "type": "scattergl",
         "x": [
          2000,
          2005,
          2010,
          2015,
          2020
         ],
         "xaxis": "x",
         "y": [
          4.28,
          5.26,
          9.46,
          5.46,
          8.21
         ],
         "yaxis": "y"
        },
        {
         "hovertemplate": "%{y}% unemployment in %{x}",
         "legendgroup": "Namibia",
         "line": {
          "color": "#FECB52",
          "dash": "solid"
         },
         "marker": {
          "symbol": "circle"
         },
         "mode": "lines+markers",
         "name": "Namibia",
         "showlegend": true,
         "type": "scattergl",
         "x": [
          2000,
          2005,
          2010,
          2015,
          2020
         ],
         "xaxis": "x",
         "y": [
          20.3,
          22.22,
          22.12,
          20.91,
          21.45
         ],
         "yaxis": "y"
        },
        {
         "hovertemplate": "%{y}% unemployment in %{x}",
         "legendgroup": "New Caledonia",
         "line": {
          "color": "#636efa",
          "dash": "solid"
         },
         "marker": {
          "symbol": "circle"
         },
         "mode": "lines+markers",
         "name": "New Caledonia",
         "showlegend": true,
         "type": "scattergl",
         "x": [
          2000,
          2005,
          2010,
          2015,
          2020
         ],
         "xaxis": "x",
         "y": [
          17.48,
          15.85,
          13.81,
          14.73,
          16.43
         ],
         "yaxis": "y"
        },
        {
         "hovertemplate": "%{y}% unemployment in %{x}",
         "legendgroup": "Niger",
         "line": {
          "color": "#EF553B",
          "dash": "solid"
         },
         "marker": {
          "symbol": "circle"
         },
         "mode": "lines+markers",
         "name": "Niger",
         "showlegend": true,
         "type": "scattergl",
         "x": [
          2000,
          2005,
          2010,
          2015,
          2020
         ],
         "xaxis": "x",
         "y": [
          1.49,
          3.1,
          0.78,
          0.53,
          0.62
         ],
         "yaxis": "y"
        },
        {
         "hovertemplate": "%{y}% unemployment in %{x}",
         "legendgroup": "Nigeria",
         "line": {
          "color": "#00cc96",
          "dash": "solid"
         },
         "marker": {
          "symbol": "circle"
         },
         "mode": "lines+markers",
         "name": "Nigeria",
         "showlegend": true,
         "type": "scattergl",
         "x": [
          2000,
          2005,
          2010,
          2015,
          2020
         ],
         "xaxis": "x",
         "y": [
          3.95,
          3.87,
          3.78,
          4.31,
          9.71
         ],
         "yaxis": "y"
        },
        {
         "hovertemplate": "%{y}% unemployment in %{x}",
         "legendgroup": "Nicaragua",
         "line": {
          "color": "#ab63fa",
          "dash": "solid"
         },
         "marker": {
          "symbol": "circle"
         },
         "mode": "lines+markers",
         "name": "Nicaragua",
         "showlegend": true,
         "type": "scattergl",
         "x": [
          2000,
          2005,
          2010,
          2015,
          2020
         ],
         "xaxis": "x",
         "y": [
          7.35,
          5.37,
          7.83,
          4.7,
          6.08
         ],
         "yaxis": "y"
        },
        {
         "hovertemplate": "%{y}% unemployment in %{x}",
         "legendgroup": "Netherlands",
         "line": {
          "color": "#FFA15A",
          "dash": "solid"
         },
         "marker": {
          "symbol": "circle"
         },
         "mode": "lines+markers",
         "name": "Netherlands",
         "showlegend": true,
         "type": "scattergl",
         "x": [
          2000,
          2005,
          2010,
          2015,
          2020
         ],
         "xaxis": "x",
         "y": [
          2.73,
          5.87,
          4.99,
          6.87,
          3.82
         ],
         "yaxis": "y"
        },
        {
         "hovertemplate": "%{y}% unemployment in %{x}",
         "legendgroup": "Norway",
         "line": {
          "color": "#19d3f3",
          "dash": "solid"
         },
         "marker": {
          "symbol": "circle"
         },
         "mode": "lines+markers",
         "name": "Norway",
         "showlegend": true,
         "type": "scattergl",
         "x": [
          2000,
          2005,
          2010,
          2015,
          2020
         ],
         "xaxis": "x",
         "y": [
          3.46,
          4.38,
          3.52,
          4.3,
          4.42
         ],
         "yaxis": "y"
        },
        {
         "hovertemplate": "%{y}% unemployment in %{x}",
         "legendgroup": "Nepal",
         "line": {
          "color": "#FF6692",
          "dash": "solid"
         },
         "marker": {
          "symbol": "circle"
         },
         "mode": "lines+markers",
         "name": "Nepal",
         "showlegend": true,
         "type": "scattergl",
         "x": [
          2000,
          2005,
          2010,
          2015,
          2020
         ],
         "xaxis": "x",
         "y": [
          1.86,
          1.46,
          1.82,
          3.1,
          4.72
         ],
         "yaxis": "y"
        },
        {
         "hovertemplate": "%{y}% unemployment in %{x}",
         "legendgroup": "New Zealand",
         "line": {
          "color": "#B6E880",
          "dash": "solid"
         },
         "marker": {
          "symbol": "circle"
         },
         "mode": "lines+markers",
         "name": "New Zealand",
         "showlegend": true,
         "type": "scattergl",
         "x": [
          2000,
          2005,
          2010,
          2015,
          2020
         ],
         "xaxis": "x",
         "y": [
          6.13,
          3.81,
          6.56,
          5.41,
          4.59
         ],
         "yaxis": "y"
        },
        {
         "hovertemplate": "%{y}% unemployment in %{x}",
         "legendgroup": "OECD members",
         "line": {
          "color": "#FF97FF",
          "dash": "solid"
         },
         "marker": {
          "symbol": "circle"
         },
         "mode": "lines+markers",
         "name": "OECD members",
         "showlegend": true,
         "type": "scattergl",
         "x": [
          2000,
          2005,
          2010,
          2015,
          2020
         ],
         "xaxis": "x",
         "y": [
          6.78,
          6.8,
          8.42,
          6.85,
          7.1
         ],
         "yaxis": "y"
        },
        {
         "hovertemplate": "%{y}% unemployment in %{x}",
         "legendgroup": "Oman",
         "line": {
          "color": "#FECB52",
          "dash": "solid"
         },
         "marker": {
          "symbol": "circle"
         },
         "mode": "lines+markers",
         "name": "Oman",
         "showlegend": true,
         "type": "scattergl",
         "x": [
          2000,
          2005,
          2010,
          2015,
          2020
         ],
         "xaxis": "x",
         "y": [
          4.09,
          4.18,
          3.99,
          3.39,
          2.94
         ],
         "yaxis": "y"
        },
        {
         "hovertemplate": "%{y}% unemployment in %{x}",
         "legendgroup": "Other small states",
         "line": {
          "color": "#636efa",
          "dash": "solid"
         },
         "marker": {
          "symbol": "circle"
         },
         "mode": "lines+markers",
         "name": "Other small states",
         "showlegend": true,
         "type": "scattergl",
         "x": [
          2000,
          2005,
          2010,
          2015,
          2020
         ],
         "xaxis": "x",
         "y": [
          13.66,
          12.86,
          11.6,
          10.61,
          11.01
         ],
         "yaxis": "y"
        },
        {
         "hovertemplate": "%{y}% unemployment in %{x}",
         "legendgroup": "Pakistan",
         "line": {
          "color": "#EF553B",
          "dash": "solid"
         },
         "marker": {
          "symbol": "circle"
         },
         "mode": "lines+markers",
         "name": "Pakistan",
         "showlegend": true,
         "type": "scattergl",
         "x": [
          2000,
          2005,
          2010,
          2015,
          2020
         ],
         "xaxis": "x",
         "y": [
          0.58,
          0.59,
          0.65,
          3.57,
          4.3
         ],
         "yaxis": "y"
        },
        {
         "hovertemplate": "%{y}% unemployment in %{x}",
         "legendgroup": "Panama",
         "line": {
          "color": "#00cc96",
          "dash": "solid"
         },
         "marker": {
          "symbol": "circle"
         },
         "mode": "lines+markers",
         "name": "Panama",
         "showlegend": true,
         "type": "scattergl",
         "x": [
          2000,
          2005,
          2010,
          2015,
          2020
         ],
         "xaxis": "x",
         "y": [
          3.81,
          3.75,
          3.72,
          2.98,
          12.85
         ],
         "yaxis": "y"
        },
        {
         "hovertemplate": "%{y}% unemployment in %{x}",
         "legendgroup": "Peru",
         "line": {
          "color": "#ab63fa",
          "dash": "solid"
         },
         "marker": {
          "symbol": "circle"
         },
         "mode": "lines+markers",
         "name": "Peru",
         "showlegend": true,
         "type": "scattergl",
         "x": [
          2000,
          2005,
          2010,
          2015,
          2020
         ],
         "xaxis": "x",
         "y": [
          4.88,
          4.88,
          3.58,
          3.27,
          7.18
         ],
         "yaxis": "y"
        },
        {
         "hovertemplate": "%{y}% unemployment in %{x}",
         "legendgroup": "Philippines",
         "line": {
          "color": "#FFA15A",
          "dash": "solid"
         },
         "marker": {
          "symbol": "circle"
         },
         "mode": "lines+markers",
         "name": "Philippines",
         "showlegend": true,
         "type": "scattergl",
         "x": [
          2000,
          2005,
          2010,
          2015,
          2020
         ],
         "xaxis": "x",
         "y": [
          3.65,
          3.8,
          3.61,
          3.07,
          2.52
         ],
         "yaxis": "y"
        },
        {
         "hovertemplate": "%{y}% unemployment in %{x}",
         "legendgroup": "Papua New Guinea",
         "line": {
          "color": "#19d3f3",
          "dash": "solid"
         },
         "marker": {
          "symbol": "circle"
         },
         "mode": "lines+markers",
         "name": "Papua New Guinea",
         "showlegend": true,
         "type": "scattergl",
         "x": [
          2000,
          2005,
          2010,
          2015,
          2020
         ],
         "xaxis": "x",
         "y": [
          2.92,
          2.41,
          2,
          2.48,
          2.6
         ],
         "yaxis": "y"
        },
        {
         "hovertemplate": "%{y}% unemployment in %{x}",
         "legendgroup": "Poland",
         "line": {
          "color": "#FF6692",
          "dash": "solid"
         },
         "marker": {
          "symbol": "circle"
         },
         "mode": "lines+markers",
         "name": "Poland",
         "showlegend": true,
         "type": "scattergl",
         "x": [
          2000,
          2005,
          2010,
          2015,
          2020
         ],
         "xaxis": "x",
         "y": [
          16.31,
          17.75,
          9.64,
          7.5,
          3.16
         ],
         "yaxis": "y"
        },
        {
         "hovertemplate": "%{y}% unemployment in %{x}",
         "legendgroup": "Pre-demographic dividend",
         "line": {
          "color": "#B6E880",
          "dash": "solid"
         },
         "marker": {
          "symbol": "circle"
         },
         "mode": "lines+markers",
         "name": "Pre-demographic dividend",
         "showlegend": true,
         "type": "scattergl",
         "x": [
          2000,
          2005,
          2010,
          2015,
          2020
         ],
         "xaxis": "x",
         "y": [
          5.06,
          5.07,
          5.35,
          5.19,
          6.94
         ],
         "yaxis": "y"
        },
        {
         "hovertemplate": "%{y}% unemployment in %{x}",
         "legendgroup": "Puerto Rico",
         "line": {
          "color": "#FF97FF",
          "dash": "solid"
         },
         "marker": {
          "symbol": "circle"
         },
         "mode": "lines+markers",
         "name": "Puerto Rico",
         "showlegend": true,
         "type": "scattergl",
         "x": [
          2000,
          2005,
          2010,
          2015,
          2020
         ],
         "xaxis": "x",
         "y": [
          10.08,
          11.35,
          16.1,
          12,
          8.89
         ],
         "yaxis": "y"
        },
        {
         "hovertemplate": "%{y}% unemployment in %{x}",
         "legendgroup": "Korea, Dem. People's Rep.",
         "line": {
          "color": "#FECB52",
          "dash": "solid"
         },
         "marker": {
          "symbol": "circle"
         },
         "mode": "lines+markers",
         "name": "Korea, Dem. People's Rep.",
         "showlegend": true,
         "type": "scattergl",
         "x": [
          2000,
          2005,
          2010,
          2015,
          2020
         ],
         "xaxis": "x",
         "y": [
          2.93,
          2.84,
          2.71,
          2.74,
          2.92
         ],
         "yaxis": "y"
        },
        {
         "hovertemplate": "%{y}% unemployment in %{x}",
         "legendgroup": "Portugal",
         "line": {
          "color": "#636efa",
          "dash": "solid"
         },
         "marker": {
          "symbol": "circle"
         },
         "mode": "lines+markers",
         "name": "Portugal",
         "showlegend": true,
         "type": "scattergl",
         "x": [
          2000,
          2005,
          2010,
          2015,
          2020
         ],
         "xaxis": "x",
         "y": [
          3.81,
          7.58,
          10.77,
          12.44,
          6.79
         ],
         "yaxis": "y"
        },
        {
         "hovertemplate": "%{y}% unemployment in %{x}",
         "legendgroup": "Paraguay",
         "line": {
          "color": "#EF553B",
          "dash": "solid"
         },
         "marker": {
          "symbol": "circle"
         },
         "mode": "lines+markers",
         "name": "Paraguay",
         "showlegend": true,
         "type": "scattergl",
         "x": [
          2000,
          2005,
          2010,
          2015,
          2020
         ],
         "xaxis": "x",
         "y": [
          7.61,
          4.82,
          4.57,
          4.56,
          7.55
         ],
         "yaxis": "y"
        },
        {
         "hovertemplate": "%{y}% unemployment in %{x}",
         "legendgroup": "West Bank and Gaza",
         "line": {
          "color": "#00cc96",
          "dash": "solid"
         },
         "marker": {
          "symbol": "circle"
         },
         "mode": "lines+markers",
         "name": "West Bank and Gaza",
         "showlegend": true,
         "type": "scattergl",
         "x": [
          2000,
          2005,
          2010,
          2015,
          2020
         ],
         "xaxis": "x",
         "y": [
          10.63,
          20.02,
          21.42,
          23,
          25.89
         ],
         "yaxis": "y"
        },
        {
         "hovertemplate": "%{y}% unemployment in %{x}",
         "legendgroup": "Pacific island small states",
         "line": {
          "color": "#ab63fa",
          "dash": "solid"
         },
         "marker": {
          "symbol": "circle"
         },
         "mode": "lines+markers",
         "name": "Pacific island small states",
         "showlegend": true,
         "type": "scattergl",
         "x": [
          2000,
          2005,
          2010,
          2015,
          2020
         ],
         "xaxis": "x",
         "y": [
          3.18,
          2.97,
          3.11,
          2.88,
          3.13
         ],
         "yaxis": "y"
        },
        {
         "hovertemplate": "%{y}% unemployment in %{x}",
         "legendgroup": "Post-demographic dividend",
         "line": {
          "color": "#FFA15A",
          "dash": "solid"
         },
         "marker": {
          "symbol": "circle"
         },
         "mode": "lines+markers",
         "name": "Post-demographic dividend",
         "showlegend": true,
         "type": "scattergl",
         "x": [
          2000,
          2005,
          2010,
          2015,
          2020
         ],
         "xaxis": "x",
         "y": [
          6.53,
          6.35,
          8.29,
          6.87,
          6.7
         ],
         "yaxis": "y"
        },
        {
         "hovertemplate": "%{y}% unemployment in %{x}",
         "legendgroup": "French Polynesia",
         "line": {
          "color": "#19d3f3",
          "dash": "solid"
         },
         "marker": {
          "symbol": "circle"
         },
         "mode": "lines+markers",
         "name": "French Polynesia",
         "showlegend": true,
         "type": "scattergl",
         "x": [
          2000,
          2005,
          2010,
          2015,
          2020
         ],
         "xaxis": "x",
         "y": [
          11.67,
          11.76,
          12.2,
          12.17,
          14.1
         ],
         "yaxis": "y"
        },
        {
         "hovertemplate": "%{y}% unemployment in %{x}",
         "legendgroup": "Qatar",
         "line": {
          "color": "#FF6692",
          "dash": "solid"
         },
         "marker": {
          "symbol": "circle"
         },
         "mode": "lines+markers",
         "name": "Qatar",
         "showlegend": true,
         "type": "scattergl",
         "x": [
          2000,
          2005,
          2010,
          2015,
          2020
         ],
         "xaxis": "x",
         "y": [
          0.84,
          0.87,
          0.45,
          0.17,
          0.21
         ],
         "yaxis": "y"
        },
        {
         "hovertemplate": "%{y}% unemployment in %{x}",
         "legendgroup": "Romania",
         "line": {
          "color": "#B6E880",
          "dash": "solid"
         },
         "marker": {
          "symbol": "circle"
         },
         "mode": "lines+markers",
         "name": "Romania",
         "showlegend": true,
         "type": "scattergl",
         "x": [
          2000,
          2005,
          2010,
          2015,
          2020
         ],
         "xaxis": "x",
         "y": [
          6.97,
          7.17,
          6.96,
          6.81,
          5.03
         ],
         "yaxis": "y"
        },
        {
         "hovertemplate": "%{y}% unemployment in %{x}",
         "legendgroup": "Russian Federation",
         "line": {
          "color": "#FF97FF",
          "dash": "solid"
         },
         "marker": {
          "symbol": "circle"
         },
         "mode": "lines+markers",
         "name": "Russian Federation",
         "showlegend": true,
         "type": "scattergl",
         "x": [
          2000,
          2005,
          2010,
          2015,
          2020
         ],
         "xaxis": "x",
         "y": [
          10.58,
          7.12,
          7.37,
          5.57,
          5.59
         ],
         "yaxis": "y"
        },
        {
         "hovertemplate": "%{y}% unemployment in %{x}",
         "legendgroup": "Rwanda",
         "line": {
          "color": "#FECB52",
          "dash": "solid"
         },
         "marker": {
          "symbol": "circle"
         },
         "mode": "lines+markers",
         "name": "Rwanda",
         "showlegend": true,
         "type": "scattergl",
         "x": [
          2000,
          2005,
          2010,
          2015,
          2020
         ],
         "xaxis": "x",
         "y": [
          0.79,
          0.96,
          1.08,
          1.15,
          1.49
         ],
         "yaxis": "y"
        },
        {
         "hovertemplate": "%{y}% unemployment in %{x}",
         "legendgroup": "South Asia",
         "line": {
          "color": "#636efa",
          "dash": "solid"
         },
         "marker": {
          "symbol": "circle"
         },
         "mode": "lines+markers",
         "name": "South Asia",
         "showlegend": true,
         "type": "scattergl",
         "x": [
          2000,
          2005,
          2010,
          2015,
          2020
         ],
         "xaxis": "x",
         "y": [
          4.93,
          5.06,
          4.84,
          5.14,
          7.24
         ],
         "yaxis": "y"
        },
        {
         "hovertemplate": "%{y}% unemployment in %{x}",
         "legendgroup": "Saudi Arabia",
         "line": {
          "color": "#EF553B",
          "dash": "solid"
         },
         "marker": {
          "symbol": "circle"
         },
         "mode": "lines+markers",
         "name": "Saudi Arabia",
         "showlegend": true,
         "type": "scattergl",
         "x": [
          2000,
          2005,
          2010,
          2015,
          2020
         ],
         "xaxis": "x",
         "y": [
          4.57,
          6.05,
          5.55,
          5.59,
          7.45
         ],
         "yaxis": "y"
        },
        {
         "hovertemplate": "%{y}% unemployment in %{x}",
         "legendgroup": "Sudan",
         "line": {
          "color": "#00cc96",
          "dash": "solid"
         },
         "marker": {
          "symbol": "circle"
         },
         "mode": "lines+markers",
         "name": "Sudan",
         "showlegend": true,
         "type": "scattergl",
         "x": [
          2000,
          2005,
          2010,
          2015,
          2020
         ],
         "xaxis": "x",
         "y": [
          15.23,
          14.97,
          15.2,
          17.49,
          19.65
         ],
         "yaxis": "y"
        },
        {
         "hovertemplate": "%{y}% unemployment in %{x}",
         "legendgroup": "Senegal",
         "line": {
          "color": "#ab63fa",
          "dash": "solid"
         },
         "marker": {
          "symbol": "circle"
         },
         "mode": "lines+markers",
         "name": "Senegal",
         "showlegend": true,
         "type": "scattergl",
         "x": [
          2000,
          2005,
          2010,
          2015,
          2020
         ],
         "xaxis": "x",
         "y": [
          5.61,
          8.9,
          10.26,
          6.76,
          3.62
         ],
         "yaxis": "y"
        },
        {
         "hovertemplate": "%{y}% unemployment in %{x}",
         "legendgroup": "Singapore",
         "line": {
          "color": "#FFA15A",
          "dash": "solid"
         },
         "marker": {
          "symbol": "circle"
         },
         "mode": "lines+markers",
         "name": "Singapore",
         "showlegend": true,
         "type": "scattergl",
         "x": [
          2000,
          2005,
          2010,
          2015,
          2020
         ],
         "xaxis": "x",
         "y": [
          3.7,
          5.59,
          4.12,
          3.79,
          4.1
         ],
         "yaxis": "y"
        },
        {
         "hovertemplate": "%{y}% unemployment in %{x}",
         "legendgroup": "Solomon Islands",
         "line": {
          "color": "#19d3f3",
          "dash": "solid"
         },
         "marker": {
          "symbol": "circle"
         },
         "mode": "lines+markers",
         "name": "Solomon Islands",
         "showlegend": true,
         "type": "scattergl",
         "x": [
          2000,
          2005,
          2010,
          2015,
          2020
         ],
         "xaxis": "x",
         "y": [
          2.03,
          1.76,
          1.58,
          0.73,
          0.92
         ],
         "yaxis": "y"
        },
        {
         "hovertemplate": "%{y}% unemployment in %{x}",
         "legendgroup": "Sierra Leone",
         "line": {
          "color": "#FF6692",
          "dash": "solid"
         },
         "marker": {
          "symbol": "circle"
         },
         "mode": "lines+markers",
         "name": "Sierra Leone",
         "showlegend": true,
         "type": "scattergl",
         "x": [
          2000,
          2005,
          2010,
          2015,
          2020
         ],
         "xaxis": "x",
         "y": [
          3.43,
          3.55,
          4.17,
          4.74,
          5.2
         ],
         "yaxis": "y"
        },
        {
         "hovertemplate": "%{y}% unemployment in %{x}",
         "legendgroup": "El Salvador",
         "line": {
          "color": "#B6E880",
          "dash": "solid"
         },
         "marker": {
          "symbol": "circle"
         },
         "mode": "lines+markers",
         "name": "El Salvador",
         "showlegend": true,
         "type": "scattergl",
         "x": [
          2000,
          2005,
          2010,
          2015,
          2020
         ],
         "xaxis": "x",
         "y": [
          6.96,
          7.22,
          4.89,
          4,
          6.25
         ],
         "yaxis": "y"
        },
        {
         "hovertemplate": "%{y}% unemployment in %{x}",
         "legendgroup": "Somalia",
         "line": {
          "color": "#FF97FF",
          "dash": "solid"
         },
         "marker": {
          "symbol": "circle"
         },
         "mode": "lines+markers",
         "name": "Somalia",
         "showlegend": true,
         "type": "scattergl",
         "x": [
          2000,
          2005,
          2010,
          2015,
          2020
         ],
         "xaxis": "x",
         "y": [
          19.05,
          19.01,
          18.96,
          18.9,
          19.72
         ],
         "yaxis": "y"
        },
        {
         "hovertemplate": "%{y}% unemployment in %{x}",
         "legendgroup": "Serbia",
         "line": {
          "color": "#FECB52",
          "dash": "solid"
         },
         "marker": {
          "symbol": "circle"
         },
         "mode": "lines+markers",
         "name": "Serbia",
         "showlegend": true,
         "type": "scattergl",
         "x": [
          2000,
          2005,
          2010,
          2015,
          2020
         ],
         "xaxis": "x",
         "y": [
          12.6,
          20.85,
          19.22,
          17.66,
          9.01
         ],
         "yaxis": "y"
        },
        {
         "hovertemplate": "%{y}% unemployment in %{x}",
         "legendgroup": "Sub-Saharan Africa (excluding high income)",
         "line": {
          "color": "#636efa",
          "dash": "solid"
         },
         "marker": {
          "symbol": "circle"
         },
         "mode": "lines+markers",
         "name": "Sub-Saharan Africa (excluding high income)",
         "showlegend": true,
         "type": "scattergl",
         "x": [
          2000,
          2005,
          2010,
          2015,
          2020
         ],
         "xaxis": "x",
         "y": [
          6.67,
          6.22,
          6,
          5.82,
          7.28
         ],
         "yaxis": "y"
        },
        {
         "hovertemplate": "%{y}% unemployment in %{x}",
         "legendgroup": "South Sudan",
         "line": {
          "color": "#EF553B",
          "dash": "solid"
         },
         "marker": {
          "symbol": "circle"
         },
         "mode": "lines+markers",
         "name": "South Sudan",
         "showlegend": true,
         "type": "scattergl",
         "x": [
          2000,
          2005,
          2010,
          2015,
          2020
         ],
         "xaxis": "x",
         "y": [
          12.06,
          12.11,
          12.18,
          12.27,
          14.03
         ],
         "yaxis": "y"
        },
        {
         "hovertemplate": "%{y}% unemployment in %{x}",
         "legendgroup": "Sub-Saharan Africa",
         "line": {
          "color": "#00cc96",
          "dash": "solid"
         },
         "marker": {
          "symbol": "circle"
         },
         "mode": "lines+markers",
         "name": "Sub-Saharan Africa",
         "showlegend": true,
         "type": "scattergl",
         "x": [
          2000,
          2005,
          2010,
          2015,
          2020
         ],
         "xaxis": "x",
         "y": [
          6.67,
          6.22,
          6,
          5.82,
          7.28
         ],
         "yaxis": "y"
        },
        {
         "hovertemplate": "%{y}% unemployment in %{x}",
         "legendgroup": "Small states",
         "line": {
          "color": "#ab63fa",
          "dash": "solid"
         },
         "marker": {
          "symbol": "circle"
         },
         "mode": "lines+markers",
         "name": "Small states",
         "showlegend": true,
         "type": "scattergl",
         "x": [
          2000,
          2005,
          2010,
          2015,
          2020
         ],
         "xaxis": "x",
         "y": [
          12.97,
          11.76,
          10.86,
          10.2,
          10.39
         ],
         "yaxis": "y"
        },
        {
         "hovertemplate": "%{y}% unemployment in %{x}",
         "legendgroup": "Sao Tome and Principe",
         "line": {
          "color": "#FFA15A",
          "dash": "solid"
         },
         "marker": {
          "symbol": "circle"
         },
         "mode": "lines+markers",
         "name": "Sao Tome and Principe",
         "showlegend": true,
         "type": "scattergl",
         "x": [
          2000,
          2005,
          2010,
          2015,
          2020
         ],
         "xaxis": "x",
         "y": [
          14.4,
          16.47,
          14.6,
          13.82,
          15.75
         ],
         "yaxis": "y"
        },
        {
         "hovertemplate": "%{y}% unemployment in %{x}",
         "legendgroup": "Suriname",
         "line": {
          "color": "#19d3f3",
          "dash": "solid"
         },
         "marker": {
          "symbol": "circle"
         },
         "mode": "lines+markers",
         "name": "Suriname",
         "showlegend": true,
         "type": "scattergl",
         "x": [
          2000,
          2005,
          2010,
          2015,
          2020
         ],
         "xaxis": "x",
         "y": [
          12.74,
          9.38,
          7.15,
          7.22,
          9.78
         ],
         "yaxis": "y"
        },
        {
         "hovertemplate": "%{y}% unemployment in %{x}",
         "legendgroup": "Slovak Republic",
         "line": {
          "color": "#FF6692",
          "dash": "solid"
         },
         "marker": {
          "symbol": "circle"
         },
         "mode": "lines+markers",
         "name": "Slovak Republic",
         "showlegend": true,
         "type": "scattergl",
         "x": [
          2000,
          2005,
          2010,
          2015,
          2020
         ],
         "xaxis": "x",
         "y": [
          19.06,
          16.26,
          14.38,
          11.48,
          6.69
         ],
         "yaxis": "y"
        },
        {
         "hovertemplate": "%{y}% unemployment in %{x}",
         "legendgroup": "Slovenia",
         "line": {
          "color": "#B6E880",
          "dash": "solid"
         },
         "marker": {
          "symbol": "circle"
         },
         "mode": "lines+markers",
         "name": "Slovenia",
         "showlegend": true,
         "type": "scattergl",
         "x": [
          2000,
          2005,
          2010,
          2015,
          2020
         ],
         "xaxis": "x",
         "y": [
          6.92,
          6.51,
          7.24,
          8.96,
          4.97
         ],
         "yaxis": "y"
        },
        {
         "hovertemplate": "%{y}% unemployment in %{x}",
         "legendgroup": "Sweden",
         "line": {
          "color": "#FF97FF",
          "dash": "solid"
         },
         "marker": {
          "symbol": "circle"
         },
         "mode": "lines+markers",
         "name": "Sweden",
         "showlegend": true,
         "type": "scattergl",
         "x": [
          2000,
          2005,
          2010,
          2015,
          2020
         ],
         "xaxis": "x",
         "y": [
          5.47,
          7.49,
          8.61,
          7.43,
          8.29
         ],
         "yaxis": "y"
        },
        {
         "hovertemplate": "%{y}% unemployment in %{x}",
         "legendgroup": "Eswatini",
         "line": {
          "color": "#FECB52",
          "dash": "solid"
         },
         "marker": {
          "symbol": "circle"
         },
         "mode": "lines+markers",
         "name": "Eswatini",
         "showlegend": true,
         "type": "scattergl",
         "x": [
          2000,
          2005,
          2010,
          2015,
          2020
         ],
         "xaxis": "x",
         "y": [
          24.24,
          27.07,
          26.41,
          23.33,
          25.51
         ],
         "yaxis": "y"
        },
        {
         "hovertemplate": "%{y}% unemployment in %{x}",
         "legendgroup": "Syrian Arab Republic",
         "line": {
          "color": "#636efa",
          "dash": "solid"
         },
         "marker": {
          "symbol": "circle"
         },
         "mode": "lines+markers",
         "name": "Syrian Arab Republic",
         "showlegend": true,
         "type": "scattergl",
         "x": [
          2000,
          2005,
          2010,
          2015,
          2020
         ],
         "xaxis": "x",
         "y": [
          9.6,
          8.85,
          8.61,
          8.71,
          10.26
         ],
         "yaxis": "y"
        },
        {
         "hovertemplate": "%{y}% unemployment in %{x}",
         "legendgroup": "Chad",
         "line": {
          "color": "#EF553B",
          "dash": "solid"
         },
         "marker": {
          "symbol": "circle"
         },
         "mode": "lines+markers",
         "name": "Chad",
         "showlegend": true,
         "type": "scattergl",
         "x": [
          2000,
          2005,
          2010,
          2015,
          2020
         ],
         "xaxis": "x",
         "y": [
          0.81,
          0.87,
          0.96,
          1.07,
          1.74
         ],
         "yaxis": "y"
        },
        {
         "hovertemplate": "%{y}% unemployment in %{x}",
         "legendgroup": "East Asia & Pacific (IDA & IBRD countries)",
         "line": {
          "color": "#00cc96",
          "dash": "solid"
         },
         "marker": {
          "symbol": "circle"
         },
         "mode": "lines+markers",
         "name": "East Asia & Pacific (IDA & IBRD countries)",
         "showlegend": true,
         "type": "scattergl",
         "x": [
          2000,
          2005,
          2010,
          2015,
          2020
         ],
         "xaxis": "x",
         "y": [
          3.41,
          4.49,
          4.17,
          4.12,
          4.41
         ],
         "yaxis": "y"
        },
        {
         "hovertemplate": "%{y}% unemployment in %{x}",
         "legendgroup": "Europe & Central Asia (IDA & IBRD countries)",
         "line": {
          "color": "#ab63fa",
          "dash": "solid"
         },
         "marker": {
          "symbol": "circle"
         },
         "mode": "lines+markers",
         "name": "Europe & Central Asia (IDA & IBRD countries)",
         "showlegend": true,
         "type": "scattergl",
         "x": [
          2000,
          2005,
          2010,
          2015,
          2020
         ],
         "xaxis": "x",
         "y": [
          11.25,
          9.42,
          8.56,
          7.63,
          7.4
         ],
         "yaxis": "y"
        },
        {
         "hovertemplate": "%{y}% unemployment in %{x}",
         "legendgroup": "Togo",
         "line": {
          "color": "#FFA15A",
          "dash": "solid"
         },
         "marker": {
          "symbol": "circle"
         },
         "mode": "lines+markers",
         "name": "Togo",
         "showlegend": true,
         "type": "scattergl",
         "x": [
          2000,
          2005,
          2010,
          2015,
          2020
         ],
         "xaxis": "x",
         "y": [
          3.98,
          4.22,
          2.43,
          2.2,
          3.94
         ],
         "yaxis": "y"
        },
        {
         "hovertemplate": "%{y}% unemployment in %{x}",
         "legendgroup": "Thailand",
         "line": {
          "color": "#19d3f3",
          "dash": "solid"
         },
         "marker": {
          "symbol": "circle"
         },
         "mode": "lines+markers",
         "name": "Thailand",
         "showlegend": true,
         "type": "scattergl",
         "x": [
          2000,
          2005,
          2010,
          2015,
          2020
         ],
         "xaxis": "x",
         "y": [
          2.39,
          1.35,
          0.62,
          0.6,
          1.1
         ],
         "yaxis": "y"
        },
        {
         "hovertemplate": "%{y}% unemployment in %{x}",
         "legendgroup": "Tajikistan",
         "line": {
          "color": "#FF6692",
          "dash": "solid"
         },
         "marker": {
          "symbol": "circle"
         },
         "mode": "lines+markers",
         "name": "Tajikistan",
         "showlegend": true,
         "type": "scattergl",
         "x": [
          2000,
          2005,
          2010,
          2015,
          2020
         ],
         "xaxis": "x",
         "y": [
          15.13,
          13.13,
          10.89,
          7.55,
          7.58
         ],
         "yaxis": "y"
        },
        {
         "hovertemplate": "%{y}% unemployment in %{x}",
         "legendgroup": "Turkmenistan",
         "line": {
          "color": "#B6E880",
          "dash": "solid"
         },
         "marker": {
          "symbol": "circle"
         },
         "mode": "lines+markers",
         "name": "Turkmenistan",
         "showlegend": true,
         "type": "scattergl",
         "x": [
          2000,
          2005,
          2010,
          2015,
          2020
         ],
         "xaxis": "x",
         "y": [
          11.54,
          7.5,
          4,
          4.14,
          4.95
         ],
         "yaxis": "y"
        },
        {
         "hovertemplate": "%{y}% unemployment in %{x}",
         "legendgroup": "Latin America & the Caribbean (IDA & IBRD countries)",
         "line": {
          "color": "#FF97FF",
          "dash": "solid"
         },
         "marker": {
          "symbol": "circle"
         },
         "mode": "lines+markers",
         "name": "Latin America & the Caribbean (IDA & IBRD countries)",
         "showlegend": true,
         "type": "scattergl",
         "x": [
          2000,
          2005,
          2010,
          2015,
          2020
         ],
         "xaxis": "x",
         "y": [
          9.08,
          7.96,
          6.83,
          6.68,
          10.2
         ],
         "yaxis": "y"
        },
        {
         "hovertemplate": "%{y}% unemployment in %{x}",
         "legendgroup": "Timor-Leste",
         "line": {
          "color": "#FECB52",
          "dash": "solid"
         },
         "marker": {
          "symbol": "circle"
         },
         "mode": "lines+markers",
         "name": "Timor-Leste",
         "showlegend": true,
         "type": "scattergl",
         "x": [
          2000,
          2005,
          2010,
          2015,
          2020
         ],
         "xaxis": "x",
         "y": [
          3.41,
          3.44,
          3.3,
          4.45,
          4.91
         ],
         "yaxis": "y"
        },
        {
         "hovertemplate": "%{y}% unemployment in %{x}",
         "legendgroup": "Middle East & North Africa (IDA & IBRD countries)",
         "line": {
          "color": "#636efa",
          "dash": "solid"
         },
         "marker": {
          "symbol": "circle"
         },
         "mode": "lines+markers",
         "name": "Middle East & North Africa (IDA & IBRD countries)",
         "showlegend": true,
         "type": "scattergl",
         "x": [
          2000,
          2005,
          2010,
          2015,
          2020
         ],
         "xaxis": "x",
         "y": [
          13.2,
          11.79,
          10.68,
          11.82,
          12.09
         ],
         "yaxis": "y"
        },
        {
         "hovertemplate": "%{y}% unemployment in %{x}",
         "legendgroup": "Tonga",
         "line": {
          "color": "#EF553B",
          "dash": "solid"
         },
         "marker": {
          "symbol": "circle"
         },
         "mode": "lines+markers",
         "name": "Tonga",
         "showlegend": true,
         "type": "scattergl",
         "x": [
          2000,
          2005,
          2010,
          2015,
          2020
         ],
         "xaxis": "x",
         "y": [
          4.08,
          2.49,
          1.74,
          2.55,
          3.63
         ],
         "yaxis": "y"
        },
        {
         "hovertemplate": "%{y}% unemployment in %{x}",
         "legendgroup": "South Asia (IDA & IBRD)",
         "line": {
          "color": "#00cc96",
          "dash": "solid"
         },
         "marker": {
          "symbol": "circle"
         },
         "mode": "lines+markers",
         "name": "South Asia (IDA & IBRD)",
         "showlegend": true,
         "type": "scattergl",
         "x": [
          2000,
          2005,
          2010,
          2015,
          2020
         ],
         "xaxis": "x",
         "y": [
          4.93,
          5.06,
          4.84,
          5.14,
          7.24
         ],
         "yaxis": "y"
        },
        {
         "hovertemplate": "%{y}% unemployment in %{x}",
         "legendgroup": "Sub-Saharan Africa (IDA & IBRD countries)",
         "line": {
          "color": "#ab63fa",
          "dash": "solid"
         },
         "marker": {
          "symbol": "circle"
         },
         "mode": "lines+markers",
         "name": "Sub-Saharan Africa (IDA & IBRD countries)",
         "showlegend": true,
         "type": "scattergl",
         "x": [
          2000,
          2005,
          2010,
          2015,
          2020
         ],
         "xaxis": "x",
         "y": [
          6.67,
          6.22,
          6,
          5.82,
          7.28
         ],
         "yaxis": "y"
        },
        {
         "hovertemplate": "%{y}% unemployment in %{x}",
         "legendgroup": "Trinidad and Tobago",
         "line": {
          "color": "#FFA15A",
          "dash": "solid"
         },
         "marker": {
          "symbol": "circle"
         },
         "mode": "lines+markers",
         "name": "Trinidad and Tobago",
         "showlegend": true,
         "type": "scattergl",
         "x": [
          2000,
          2005,
          2010,
          2015,
          2020
         ],
         "xaxis": "x",
         "y": [
          12.1,
          7.95,
          4.03,
          2.43,
          4.57
         ],
         "yaxis": "y"
        },
        {
         "hovertemplate": "%{y}% unemployment in %{x}",
         "legendgroup": "Tunisia",
         "line": {
          "color": "#19d3f3",
          "dash": "solid"
         },
         "marker": {
          "symbol": "circle"
         },
         "mode": "lines+markers",
         "name": "Tunisia",
         "showlegend": true,
         "type": "scattergl",
         "x": [
          2000,
          2005,
          2010,
          2015,
          2020
         ],
         "xaxis": "x",
         "y": [
          14.94,
          12.87,
          13.05,
          15.16,
          16.59
         ],
         "yaxis": "y"
        },
        {
         "hovertemplate": "%{y}% unemployment in %{x}",
         "legendgroup": "Turkiye",
         "line": {
          "color": "#FF6692",
          "dash": "solid"
         },
         "marker": {
          "symbol": "circle"
         },
         "mode": "lines+markers",
         "name": "Turkiye",
         "showlegend": true,
         "type": "scattergl",
         "x": [
          2000,
          2005,
          2010,
          2015,
          2020
         ],
         "xaxis": "x",
         "y": [
          6.5,
          10.64,
          10.66,
          10.24,
          13.11
         ],
         "yaxis": "y"
        },
        {
         "hovertemplate": "%{y}% unemployment in %{x}",
         "legendgroup": "Tanzania",
         "line": {
          "color": "#B6E880",
          "dash": "solid"
         },
         "marker": {
          "symbol": "circle"
         },
         "mode": "lines+markers",
         "name": "Tanzania",
         "showlegend": true,
         "type": "scattergl",
         "x": [
          2000,
          2005,
          2010,
          2015,
          2020
         ],
         "xaxis": "x",
         "y": [
          3.06,
          3.23,
          2.99,
          2.14,
          2.53
         ],
         "yaxis": "y"
        },
        {
         "hovertemplate": "%{y}% unemployment in %{x}",
         "legendgroup": "Uganda",
         "line": {
          "color": "#FF97FF",
          "dash": "solid"
         },
         "marker": {
          "symbol": "circle"
         },
         "mode": "lines+markers",
         "name": "Uganda",
         "showlegend": true,
         "type": "scattergl",
         "x": [
          2000,
          2005,
          2010,
          2015,
          2020
         ],
         "xaxis": "x",
         "y": [
          3.03,
          1.9,
          3.59,
          1.91,
          2.77
         ],
         "yaxis": "y"
        },
        {
         "hovertemplate": "%{y}% unemployment in %{x}",
         "legendgroup": "Ukraine",
         "line": {
          "color": "#FECB52",
          "dash": "solid"
         },
         "marker": {
          "symbol": "circle"
         },
         "mode": "lines+markers",
         "name": "Ukraine",
         "showlegend": true,
         "type": "scattergl",
         "x": [
          2000,
          2005,
          2010,
          2015,
          2020
         ],
         "xaxis": "x",
         "y": [
          11.71,
          7.18,
          8.1,
          9.14,
          9.13
         ],
         "yaxis": "y"
        },
        {
         "hovertemplate": "%{y}% unemployment in %{x}",
         "legendgroup": "Upper middle income",
         "line": {
          "color": "#636efa",
          "dash": "solid"
         },
         "marker": {
          "symbol": "circle"
         },
         "mode": "lines+markers",
         "name": "Upper middle income",
         "showlegend": true,
         "type": "scattergl",
         "x": [
          2000,
          2005,
          2010,
          2015,
          2020
         ],
         "xaxis": "x",
         "y": [
          5.52,
          5.93,
          5.67,
          5.66,
          6.76
         ],
         "yaxis": "y"
        },
        {
         "hovertemplate": "%{y}% unemployment in %{x}",
         "legendgroup": "Uruguay",
         "line": {
          "color": "#EF553B",
          "dash": "solid"
         },
         "marker": {
          "symbol": "circle"
         },
         "mode": "lines+markers",
         "name": "Uruguay",
         "showlegend": true,
         "type": "scattergl",
         "x": [
          2000,
          2005,
          2010,
          2015,
          2020
         ],
         "xaxis": "x",
         "y": [
          12.63,
          12.01,
          7.16,
          7.49,
          10.35
         ],
         "yaxis": "y"
        },
        {
         "hovertemplate": "%{y}% unemployment in %{x}",
         "legendgroup": "United States",
         "line": {
          "color": "#00cc96",
          "dash": "solid"
         },
         "marker": {
          "symbol": "circle"
         },
         "mode": "lines+markers",
         "name": "United States",
         "showlegend": true,
         "type": "scattergl",
         "x": [
          2000,
          2005,
          2010,
          2015,
          2020
         ],
         "xaxis": "x",
         "y": [
          3.99,
          5.08,
          9.63,
          5.28,
          8.05
         ],
         "yaxis": "y"
        },
        {
         "hovertemplate": "%{y}% unemployment in %{x}",
         "legendgroup": "Uzbekistan",
         "line": {
          "color": "#ab63fa",
          "dash": "solid"
         },
         "marker": {
          "symbol": "circle"
         },
         "mode": "lines+markers",
         "name": "Uzbekistan",
         "showlegend": true,
         "type": "scattergl",
         "x": [
          2000,
          2005,
          2010,
          2015,
          2020
         ],
         "xaxis": "x",
         "y": [
          12.23,
          7.09,
          5.4,
          5.2,
          7.04
         ],
         "yaxis": "y"
        },
        {
         "hovertemplate": "%{y}% unemployment in %{x}",
         "legendgroup": "St. Vincent and the Grenadines",
         "line": {
          "color": "#FFA15A",
          "dash": "solid"
         },
         "marker": {
          "symbol": "circle"
         },
         "mode": "lines+markers",
         "name": "St. Vincent and the Grenadines",
         "showlegend": true,
         "type": "scattergl",
         "x": [
          2000,
          2005,
          2010,
          2015,
          2020
         ],
         "xaxis": "x",
         "y": [
          20.95,
          19.75,
          19.05,
          19.09,
          21
         ],
         "yaxis": "y"
        },
        {
         "hovertemplate": "%{y}% unemployment in %{x}",
         "legendgroup": "Venezuela, RB",
         "line": {
          "color": "#19d3f3",
          "dash": "solid"
         },
         "marker": {
          "symbol": "circle"
         },
         "mode": "lines+markers",
         "name": "Venezuela, RB",
         "showlegend": true,
         "type": "scattergl",
         "x": [
          2000,
          2005,
          2010,
          2015,
          2020
         ],
         "xaxis": "x",
         "y": [
          13.99,
          10.66,
          7.11,
          6.08,
          6.63
         ],
         "yaxis": "y"
        },
        {
         "hovertemplate": "%{y}% unemployment in %{x}",
         "legendgroup": "Virgin Islands (U.S.)",
         "line": {
          "color": "#FF6692",
          "dash": "solid"
         },
         "marker": {
          "symbol": "circle"
         },
         "mode": "lines+markers",
         "name": "Virgin Islands (U.S.)",
         "showlegend": true,
         "type": "scattergl",
         "x": [
          2000,
          2005,
          2010,
          2015,
          2020
         ],
         "xaxis": "x",
         "y": [
          11.11,
          10.96,
          11.73,
          12.62,
          13.55
         ],
         "yaxis": "y"
        },
        {
         "hovertemplate": "%{y}% unemployment in %{x}",
         "legendgroup": "Vietnam",
         "line": {
          "color": "#B6E880",
          "dash": "solid"
         },
         "marker": {
          "symbol": "circle"
         },
         "mode": "lines+markers",
         "name": "Vietnam",
         "showlegend": true,
         "type": "scattergl",
         "x": [
          2000,
          2005,
          2010,
          2015,
          2020
         ],
         "xaxis": "x",
         "y": [
          2.26,
          2.1,
          1.11,
          1.85,
          2.39
         ],
         "yaxis": "y"
        },
        {
         "hovertemplate": "%{y}% unemployment in %{x}",
         "legendgroup": "Vanuatu",
         "line": {
          "color": "#FF97FF",
          "dash": "solid"
         },
         "marker": {
          "symbol": "circle"
         },
         "mode": "lines+markers",
         "name": "Vanuatu",
         "showlegend": true,
         "type": "scattergl",
         "x": [
          2000,
          2005,
          2010,
          2015,
          2020
         ],
         "xaxis": "x",
         "y": [
          1.69,
          1.73,
          1.85,
          1.86,
          2.12
         ],
         "yaxis": "y"
        },
        {
         "hovertemplate": "%{y}% unemployment in %{x}",
         "legendgroup": "World",
         "line": {
          "color": "#FECB52",
          "dash": "solid"
         },
         "marker": {
          "symbol": "circle"
         },
         "mode": "lines+markers",
         "name": "World",
         "showlegend": true,
         "type": "scattergl",
         "x": [
          2000,
          2005,
          2010,
          2015,
          2020
         ],
         "xaxis": "x",
         "y": [
          5.77,
          5.9,
          5.9,
          5.62,
          6.57
         ],
         "yaxis": "y"
        },
        {
         "hovertemplate": "%{y}% unemployment in %{x}",
         "legendgroup": "Samoa",
         "line": {
          "color": "#636efa",
          "dash": "solid"
         },
         "marker": {
          "symbol": "circle"
         },
         "mode": "lines+markers",
         "name": "Samoa",
         "showlegend": true,
         "type": "scattergl",
         "x": [
          2000,
          2005,
          2010,
          2015,
          2020
         ],
         "xaxis": "x",
         "y": [
          4.66,
          5.29,
          5.73,
          8.5,
          9.15
         ],
         "yaxis": "y"
        },
        {
         "hovertemplate": "%{y}% unemployment in %{x}",
         "legendgroup": "Yemen, Rep.",
         "line": {
          "color": "#EF553B",
          "dash": "solid"
         },
         "marker": {
          "symbol": "circle"
         },
         "mode": "lines+markers",
         "name": "Yemen, Rep.",
         "showlegend": true,
         "type": "scattergl",
         "x": [
          2000,
          2005,
          2010,
          2015,
          2020
         ],
         "xaxis": "x",
         "y": [
          11.56,
          12.21,
          12.83,
          13.77,
          13.39
         ],
         "yaxis": "y"
        },
        {
         "hovertemplate": "%{y}% unemployment in %{x}",
         "legendgroup": "South Africa",
         "line": {
          "color": "#00cc96",
          "dash": "solid"
         },
         "marker": {
          "symbol": "circle"
         },
         "mode": "lines+markers",
         "name": "South Africa",
         "showlegend": true,
         "type": "scattergl",
         "x": [
          2000,
          2005,
          2010,
          2015,
          2020
         ],
         "xaxis": "x",
         "y": [
          29.88,
          29.12,
          24.68,
          25.15,
          29.22
         ],
         "yaxis": "y"
        },
        {
         "hovertemplate": "%{y}% unemployment in %{x}",
         "legendgroup": "Zambia",
         "line": {
          "color": "#ab63fa",
          "dash": "solid"
         },
         "marker": {
          "symbol": "circle"
         },
         "mode": "lines+markers",
         "name": "Zambia",
         "showlegend": true,
         "type": "scattergl",
         "x": [
          2000,
          2005,
          2010,
          2015,
          2020
         ],
         "xaxis": "x",
         "y": [
          12.93,
          15.9,
          13.19,
          10.13,
          12.85
         ],
         "yaxis": "y"
        },
        {
         "hovertemplate": "%{y}% unemployment in %{x}",
         "legendgroup": "Zimbabwe",
         "line": {
          "color": "#FFA15A",
          "dash": "solid"
         },
         "marker": {
          "symbol": "circle"
         },
         "mode": "lines+markers",
         "name": "Zimbabwe",
         "showlegend": true,
         "type": "scattergl",
         "x": [
          2000,
          2005,
          2010,
          2015,
          2020
         ],
         "xaxis": "x",
         "y": [
          5.69,
          4.54,
          5.21,
          4.78,
          5.35
         ],
         "yaxis": "y"
        }
       ],
       "layout": {
        "hovermode": "x unified",
        "legend": {
         "title": {
          "text": "Country"
         },
         "tracegroupgap": 0
        },
        "template": {
         "data": {
          "bar": [
           {
            "error_x": {
             "color": "#f2f5fa"
            },
            "error_y": {
             "color": "#f2f5fa"
            },
            "marker": {
             "line": {
              "color": "rgb(17,17,17)",
              "width": 0.5
             },
             "pattern": {
              "fillmode": "overlay",
              "size": 10,
              "solidity": 0.2
             }
            },
            "type": "bar"
           }
          ],
          "barpolar": [
           {
            "marker": {
             "line": {
              "color": "rgb(17,17,17)",
              "width": 0.5
             },
             "pattern": {
              "fillmode": "overlay",
              "size": 10,
              "solidity": 0.2
             }
            },
            "type": "barpolar"
           }
          ],
          "carpet": [
           {
            "aaxis": {
             "endlinecolor": "#A2B1C6",
             "gridcolor": "#506784",
             "linecolor": "#506784",
             "minorgridcolor": "#506784",
             "startlinecolor": "#A2B1C6"
            },
            "baxis": {
             "endlinecolor": "#A2B1C6",
             "gridcolor": "#506784",
             "linecolor": "#506784",
             "minorgridcolor": "#506784",
             "startlinecolor": "#A2B1C6"
            },
            "type": "carpet"
           }
          ],
          "choropleth": [
           {
            "colorbar": {
             "outlinewidth": 0,
             "ticks": ""
            },
            "type": "choropleth"
           }
          ],
          "contour": [
           {
            "colorbar": {
             "outlinewidth": 0,
             "ticks": ""
            },
            "colorscale": [
             [
              0,
              "#0d0887"
             ],
             [
              0.1111111111111111,
              "#46039f"
             ],
             [
              0.2222222222222222,
              "#7201a8"
             ],
             [
              0.3333333333333333,
              "#9c179e"
             ],
             [
              0.4444444444444444,
              "#bd3786"
             ],
             [
              0.5555555555555556,
              "#d8576b"
             ],
             [
              0.6666666666666666,
              "#ed7953"
             ],
             [
              0.7777777777777778,
              "#fb9f3a"
             ],
             [
              0.8888888888888888,
              "#fdca26"
             ],
             [
              1,
              "#f0f921"
             ]
            ],
            "type": "contour"
           }
          ],
          "contourcarpet": [
           {
            "colorbar": {
             "outlinewidth": 0,
             "ticks": ""
            },
            "type": "contourcarpet"
           }
          ],
          "heatmap": [
           {
            "colorbar": {
             "outlinewidth": 0,
             "ticks": ""
            },
            "colorscale": [
             [
              0,
              "#0d0887"
             ],
             [
              0.1111111111111111,
              "#46039f"
             ],
             [
              0.2222222222222222,
              "#7201a8"
             ],
             [
              0.3333333333333333,
              "#9c179e"
             ],
             [
              0.4444444444444444,
              "#bd3786"
             ],
             [
              0.5555555555555556,
              "#d8576b"
             ],
             [
              0.6666666666666666,
              "#ed7953"
             ],
             [
              0.7777777777777778,
              "#fb9f3a"
             ],
             [
              0.8888888888888888,
              "#fdca26"
             ],
             [
              1,
              "#f0f921"
             ]
            ],
            "type": "heatmap"
           }
          ],
          "heatmapgl": [
           {
            "colorbar": {
             "outlinewidth": 0,
             "ticks": ""
            },
            "colorscale": [
             [
              0,
              "#0d0887"
             ],
             [
              0.1111111111111111,
              "#46039f"
             ],
             [
              0.2222222222222222,
              "#7201a8"
             ],
             [
              0.3333333333333333,
              "#9c179e"
             ],
             [
              0.4444444444444444,
              "#bd3786"
             ],
             [
              0.5555555555555556,
              "#d8576b"
             ],
             [
              0.6666666666666666,
              "#ed7953"
             ],
             [
              0.7777777777777778,
              "#fb9f3a"
             ],
             [
              0.8888888888888888,
              "#fdca26"
             ],
             [
              1,
              "#f0f921"
             ]
            ],
            "type": "heatmapgl"
           }
          ],
          "histogram": [
           {
            "marker": {
             "pattern": {
              "fillmode": "overlay",
              "size": 10,
              "solidity": 0.2
             }
            },
            "type": "histogram"
           }
          ],
          "histogram2d": [
           {
            "colorbar": {
             "outlinewidth": 0,
             "ticks": ""
            },
            "colorscale": [
             [
              0,
              "#0d0887"
             ],
             [
              0.1111111111111111,
              "#46039f"
             ],
             [
              0.2222222222222222,
              "#7201a8"
             ],
             [
              0.3333333333333333,
              "#9c179e"
             ],
             [
              0.4444444444444444,
              "#bd3786"
             ],
             [
              0.5555555555555556,
              "#d8576b"
             ],
             [
              0.6666666666666666,
              "#ed7953"
             ],
             [
              0.7777777777777778,
              "#fb9f3a"
             ],
             [
              0.8888888888888888,
              "#fdca26"
             ],
             [
              1,
              "#f0f921"
             ]
            ],
            "type": "histogram2d"
           }
          ],
          "histogram2dcontour": [
           {
            "colorbar": {
             "outlinewidth": 0,
             "ticks": ""
            },
            "colorscale": [
             [
              0,
              "#0d0887"
             ],
             [
              0.1111111111111111,
              "#46039f"
             ],
             [
              0.2222222222222222,
              "#7201a8"
             ],
             [
              0.3333333333333333,
              "#9c179e"
             ],
             [
              0.4444444444444444,
              "#bd3786"
             ],
             [
              0.5555555555555556,
              "#d8576b"
             ],
             [
              0.6666666666666666,
              "#ed7953"
             ],
             [
              0.7777777777777778,
              "#fb9f3a"
             ],
             [
              0.8888888888888888,
              "#fdca26"
             ],
             [
              1,
              "#f0f921"
             ]
            ],
            "type": "histogram2dcontour"
           }
          ],
          "mesh3d": [
           {
            "colorbar": {
             "outlinewidth": 0,
             "ticks": ""
            },
            "type": "mesh3d"
           }
          ],
          "parcoords": [
           {
            "line": {
             "colorbar": {
              "outlinewidth": 0,
              "ticks": ""
             }
            },
            "type": "parcoords"
           }
          ],
          "pie": [
           {
            "automargin": true,
            "type": "pie"
           }
          ],
          "scatter": [
           {
            "marker": {
             "line": {
              "color": "#283442"
             }
            },
            "type": "scatter"
           }
          ],
          "scatter3d": [
           {
            "line": {
             "colorbar": {
              "outlinewidth": 0,
              "ticks": ""
             }
            },
            "marker": {
             "colorbar": {
              "outlinewidth": 0,
              "ticks": ""
             }
            },
            "type": "scatter3d"
           }
          ],
          "scattercarpet": [
           {
            "marker": {
             "colorbar": {
              "outlinewidth": 0,
              "ticks": ""
             }
            },
            "type": "scattercarpet"
           }
          ],
          "scattergeo": [
           {
            "marker": {
             "colorbar": {
              "outlinewidth": 0,
              "ticks": ""
             }
            },
            "type": "scattergeo"
           }
          ],
          "scattergl": [
           {
            "marker": {
             "line": {
              "color": "#283442"
             }
            },
            "type": "scattergl"
           }
          ],
          "scattermapbox": [
           {
            "marker": {
             "colorbar": {
              "outlinewidth": 0,
              "ticks": ""
             }
            },
            "type": "scattermapbox"
           }
          ],
          "scatterpolar": [
           {
            "marker": {
             "colorbar": {
              "outlinewidth": 0,
              "ticks": ""
             }
            },
            "type": "scatterpolar"
           }
          ],
          "scatterpolargl": [
           {
            "marker": {
             "colorbar": {
              "outlinewidth": 0,
              "ticks": ""
             }
            },
            "type": "scatterpolargl"
           }
          ],
          "scatterternary": [
           {
            "marker": {
             "colorbar": {
              "outlinewidth": 0,
              "ticks": ""
             }
            },
            "type": "scatterternary"
           }
          ],
          "surface": [
           {
            "colorbar": {
             "outlinewidth": 0,
             "ticks": ""
            },
            "colorscale": [
             [
              0,
              "#0d0887"
             ],
             [
              0.1111111111111111,
              "#46039f"
             ],
             [
              0.2222222222222222,
              "#7201a8"
             ],
             [
              0.3333333333333333,
              "#9c179e"
             ],
             [
              0.4444444444444444,
              "#bd3786"
             ],
             [
              0.5555555555555556,
              "#d8576b"
             ],
             [
              0.6666666666666666,
              "#ed7953"
             ],
             [
              0.7777777777777778,
              "#fb9f3a"
             ],
             [
              0.8888888888888888,
              "#fdca26"
             ],
             [
              1,
              "#f0f921"
             ]
            ],
            "type": "surface"
           }
          ],
          "table": [
           {
            "cells": {
             "fill": {
              "color": "#506784"
             },
             "line": {
              "color": "rgb(17,17,17)"
             }
            },
            "header": {
             "fill": {
              "color": "#2a3f5f"
             },
             "line": {
              "color": "rgb(17,17,17)"
             }
            },
            "type": "table"
           }
          ]
         },
         "layout": {
          "annotationdefaults": {
           "arrowcolor": "#f2f5fa",
           "arrowhead": 0,
           "arrowwidth": 1
          },
          "autotypenumbers": "strict",
          "coloraxis": {
           "colorbar": {
            "outlinewidth": 0,
            "ticks": ""
           }
          },
          "colorscale": {
           "diverging": [
            [
             0,
             "#8e0152"
            ],
            [
             0.1,
             "#c51b7d"
            ],
            [
             0.2,
             "#de77ae"
            ],
            [
             0.3,
             "#f1b6da"
            ],
            [
             0.4,
             "#fde0ef"
            ],
            [
             0.5,
             "#f7f7f7"
            ],
            [
             0.6,
             "#e6f5d0"
            ],
            [
             0.7,
             "#b8e186"
            ],
            [
             0.8,
             "#7fbc41"
            ],
            [
             0.9,
             "#4d9221"
            ],
            [
             1,
             "#276419"
            ]
           ],
           "sequential": [
            [
             0,
             "#0d0887"
            ],
            [
             0.1111111111111111,
             "#46039f"
            ],
            [
             0.2222222222222222,
             "#7201a8"
            ],
            [
             0.3333333333333333,
             "#9c179e"
            ],
            [
             0.4444444444444444,
             "#bd3786"
            ],
            [
             0.5555555555555556,
             "#d8576b"
            ],
            [
             0.6666666666666666,
             "#ed7953"
            ],
            [
             0.7777777777777778,
             "#fb9f3a"
            ],
            [
             0.8888888888888888,
             "#fdca26"
            ],
            [
             1,
             "#f0f921"
            ]
           ],
           "sequentialminus": [
            [
             0,
             "#0d0887"
            ],
            [
             0.1111111111111111,
             "#46039f"
            ],
            [
             0.2222222222222222,
             "#7201a8"
            ],
            [
             0.3333333333333333,
             "#9c179e"
            ],
            [
             0.4444444444444444,
             "#bd3786"
            ],
            [
             0.5555555555555556,
             "#d8576b"
            ],
            [
             0.6666666666666666,
             "#ed7953"
            ],
            [
             0.7777777777777778,
             "#fb9f3a"
            ],
            [
             0.8888888888888888,
             "#fdca26"
            ],
            [
             1,
             "#f0f921"
            ]
           ]
          },
          "colorway": [
           "#636efa",
           "#EF553B",
           "#00cc96",
           "#ab63fa",
           "#FFA15A",
           "#19d3f3",
           "#FF6692",
           "#B6E880",
           "#FF97FF",
           "#FECB52"
          ],
          "font": {
           "color": "#f2f5fa"
          },
          "geo": {
           "bgcolor": "rgb(17,17,17)",
           "lakecolor": "rgb(17,17,17)",
           "landcolor": "rgb(17,17,17)",
           "showlakes": true,
           "showland": true,
           "subunitcolor": "#506784"
          },
          "hoverlabel": {
           "align": "left"
          },
          "hovermode": "closest",
          "mapbox": {
           "style": "dark"
          },
          "paper_bgcolor": "rgb(17,17,17)",
          "plot_bgcolor": "rgb(17,17,17)",
          "polar": {
           "angularaxis": {
            "gridcolor": "#506784",
            "linecolor": "#506784",
            "ticks": ""
           },
           "bgcolor": "rgb(17,17,17)",
           "radialaxis": {
            "gridcolor": "#506784",
            "linecolor": "#506784",
            "ticks": ""
           }
          },
          "scene": {
           "xaxis": {
            "backgroundcolor": "rgb(17,17,17)",
            "gridcolor": "#506784",
            "gridwidth": 2,
            "linecolor": "#506784",
            "showbackground": true,
            "ticks": "",
            "zerolinecolor": "#C8D4E3"
           },
           "yaxis": {
            "backgroundcolor": "rgb(17,17,17)",
            "gridcolor": "#506784",
            "gridwidth": 2,
            "linecolor": "#506784",
            "showbackground": true,
            "ticks": "",
            "zerolinecolor": "#C8D4E3"
           },
           "zaxis": {
            "backgroundcolor": "rgb(17,17,17)",
            "gridcolor": "#506784",
            "gridwidth": 2,
            "linecolor": "#506784",
            "showbackground": true,
            "ticks": "",
            "zerolinecolor": "#C8D4E3"
           }
          },
          "shapedefaults": {
           "line": {
            "color": "#f2f5fa"
           }
          },
          "sliderdefaults": {
           "bgcolor": "#C8D4E3",
           "bordercolor": "rgb(17,17,17)",
           "borderwidth": 1,
           "tickwidth": 0
          },
          "ternary": {
           "aaxis": {
            "gridcolor": "#506784",
            "linecolor": "#506784",
            "ticks": ""
           },
           "baxis": {
            "gridcolor": "#506784",
            "linecolor": "#506784",
            "ticks": ""
           },
           "bgcolor": "rgb(17,17,17)",
           "caxis": {
            "gridcolor": "#506784",
            "linecolor": "#506784",
            "ticks": ""
           }
          },
          "title": {
           "x": 0.05
          },
          "updatemenudefaults": {
           "bgcolor": "#506784",
           "borderwidth": 0
          },
          "xaxis": {
           "automargin": true,
           "gridcolor": "#283442",
           "linecolor": "#506784",
           "ticks": "",
           "title": {
            "standoff": 15
           },
           "zerolinecolor": "#283442",
           "zerolinewidth": 2
          },
          "yaxis": {
           "automargin": true,
           "gridcolor": "#283442",
           "linecolor": "#506784",
           "ticks": "",
           "title": {
            "standoff": 15
           },
           "zerolinecolor": "#283442",
           "zerolinewidth": 2
          }
         }
        },
        "title": {
         "text": "Interactive Unemployment Rate by Country Over Selected Years"
        },
        "xaxis": {
         "anchor": "y",
         "domain": [
          0,
          1
         ],
         "title": {
          "text": "Year"
         }
        },
        "yaxis": {
         "anchor": "x",
         "domain": [
          0,
          1
         ],
         "title": {
          "text": "Unemployment Rate (%)"
         }
        }
       }
      }
     },
     "metadata": {},
     "output_type": "display_data"
    }
   ],
   "source": [
    "import plotly.express as px\n",
    "\n",
    "years_of_interest = [2000, 2005, 2010, 2015, 2020]\n",
    "filtered_data = analysis_data_cleaned[analysis_data_cleaned['Year'].isin(years_of_interest)]\n",
    "\n",
    "fig = px.line(\n",
    "    filtered_data,\n",
    "    x='Year',\n",
    "    y='Unemployment Rate',\n",
    "    color='Country Name',  # Color lines by country\n",
    "    title='Interactive Unemployment Rate by Country Over Selected Years',\n",
    "    labels={'Unemployment Rate': 'Unemployment Rate (%)', 'Year': 'Year'}\n",
    ")\n",
    "\n",
    "fig.update_traces(mode='lines+markers', hovertemplate='%{y}% unemployment in %{x}')\n",
    "fig.update_layout(\n",
    "    xaxis_title='Year',\n",
    "    yaxis_title='Unemployment Rate (%)',\n",
    "    hovermode='x unified',\n",
    "    legend_title_text='Country',\n",
    "    template='plotly_dark'  # Optional: change to 'plotly' for a lighter theme\n",
    ")\n",
    "\n",
    "fig.show()\n"
   ]
  },
  {
   "cell_type": "markdown",
   "metadata": {},
   "source": [
    "## More data cleaning and merging Data BLS and FRED\n",
    "**Description: Unemployment figures from BLS and FRED merged into one chart. It can show both datasets on separate lines or merged view with the same line so you can directly compare them.**\n",
    "\n",
    "**Insights: This table is useful to spot any potential errors or convergence of BLS/FRED unemployment data. It’s handy for confirming that unemployment data are the same from different sources. And if both the datasets are similar it makes you feel better about the trend’s validity. If they don’t match, then that may be something to probe into reporting and/or data collection gaps.**"
   ]
  },
  {
   "cell_type": "markdown",
   "metadata": {},
   "source": []
  },
  {
   "cell_type": "code",
   "execution_count": 26,
   "metadata": {},
   "outputs": [
    {
     "data": {
      "text/plain": [
       "Index(['Year', 'BLS_Unemployment_Value', 'Unemployment Rate'], dtype='object')"
      ]
     },
     "execution_count": 26,
     "metadata": {},
     "output_type": "execute_result"
    }
   ],
   "source": [
    "bls_fred_cleaned.columns"
   ]
  },
  {
   "cell_type": "code",
   "execution_count": 27,
   "metadata": {},
   "outputs": [
    {
     "name": "stderr",
     "output_type": "stream",
     "text": [
      "C:\\Users\\setho\\AppData\\Local\\Temp\\ipykernel_10896\\1796318885.py:9: UserWarning:\n",
      "\n",
      "Could not infer format, so each element will be parsed individually, falling back to `dateutil`. To ensure parsing is consistent and as-expected, please specify a format.\n",
      "\n"
     ]
    },
    {
     "data": {
      "image/png": "[encoded data removed]",
      "text/plain": [
       "<Figure size 1200x600 with 1 Axes>"
      ]
     },
     "metadata": {},
     "output_type": "display_data"
    }
   ],
   "source": [
    "import pandas as pd\n",
    "import matplotlib.pyplot as plt\n",
    "import seaborn as sns\n",
    "\n",
    "# Converted 'Year' column to datetime for BLS data without time zone\n",
    "bls_data_cleaned['Year'] = pd.to_datetime(bls_data_cleaned['Year']).dt.tz_localize(None)\n",
    "\n",
    "# Converted 'Year' column in FRED data to datetime without time zone\n",
    "fred_data_cleaned['Year'] = pd.to_datetime(fred_data_cleaned['Year'].astype(str) + '-01-01').dt.tz_localize(None)\n",
    "\n",
    "# Merged BLS and FRED data on 'Year'\n",
    "bls_fred_cleaned = pd.merge(\n",
    "    bls_data_cleaned[['Year', 'BLS_Unemployment_Value']],\n",
    "    fred_data_cleaned[['Year', 'Unemployment Rate']],\n",
    "    on='Year',\n",
    "    how='outer'\n",
    ")\n",
    "\n",
    "# Ploting the data\n",
    "plt.figure(figsize=(12, 6))\n",
    "sns.lineplot(data=bls_fred_cleaned, x='Year', y='BLS_Unemployment_Value', label='BLS Unemployment Value', color='blue')\n",
    "sns.lineplot(data=bls_fred_cleaned, x='Year', y='Unemployment Rate', label='FRED Unemployment Rate', color='orange')\n",
    "\n",
    "# Adding titles and labels\n",
    "plt.title('Comparison of BLS and FRED Unemployment Rates')\n",
    "plt.xlabel('Year')\n",
    "plt.ylabel('Unemployment Rate (%)')\n",
    "plt.xticks(rotation=45)  \n",
    "plt.legend()\n",
    "plt.grid()\n",
    "plt.tight_layout()  \n",
    "plt.show()\n"
   ]
  },
  {
   "attachments": {},
   "cell_type": "markdown",
   "metadata": {},
   "source": [
    "## Resources and References\n",
    "*What resources and references have you used for this project?*\n",
    "📝 <!-- Answer Below -->"
   ]
  },
  {
   "cell_type": "code",
   "execution_count": 1,
   "metadata": {},
   "outputs": [
    {
     "name": "stderr",
     "output_type": "stream",
     "text": [
      "[NbConvertApp] Converting notebook source.ipynb to python\n",
      "[NbConvertApp] Writing 13540 bytes to source.py\n"
     ]
    }
   ],
   "source": [
    "# ⚠️ Make sure you run this cell at the end of your notebook before every submission!\n",
    "!jupyter nbconvert --to python source.ipynb"
   ]
  }
 ],
 "metadata": {
  "kernelspec": {
   "display_name": "final-project-SethOkai-ur9lm-hV",
   "language": "python",
   "name": "python3"
  },
  "language_info": {
   "codemirror_mode": {
    "name": "ipython",
    "version": 3
   },
   "file_extension": ".py",
   "mimetype": "text/x-python",
   "name": "python",
   "nbconvert_exporter": "python",
   "pygments_lexer": "ipython3",
   "version": "3.11.9"
  },
  "orig_nbformat": 4
 },
 "nbformat": 4,
 "nbformat_minor": 2
}
